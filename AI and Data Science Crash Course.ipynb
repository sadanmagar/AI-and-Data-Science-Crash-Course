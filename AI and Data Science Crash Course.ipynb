{
 "cells": [
  {
   "cell_type": "markdown",
   "id": "6e2722b3",
   "metadata": {},
   "source": [
    "# Download Python"
   ]
  },
  {
   "cell_type": "markdown",
   "id": "916d8c90",
   "metadata": {},
   "source": [
    "https://www.python.org/downloads/release/python-3124/"
   ]
  },
  {
   "cell_type": "markdown",
   "id": "4367f0e2",
   "metadata": {},
   "source": [
    "# Install Jupyter Notebook"
   ]
  },
  {
   "cell_type": "markdown",
   "id": "65b4c39a",
   "metadata": {},
   "source": [
    "Step 1: Open your command prompt <br>\n",
    "Step 2: type install jupyter"
   ]
  },
  {
   "cell_type": "markdown",
   "id": "6572cbe3",
   "metadata": {},
   "source": [
    "# Running your first python Program"
   ]
  },
  {
   "cell_type": "code",
   "execution_count": 2,
   "id": "f06f9ff0",
   "metadata": {},
   "outputs": [
    {
     "name": "stdout",
     "output_type": "stream",
     "text": [
      "Hello World\n"
     ]
    }
   ],
   "source": [
    "print(\"Hello World\")"
   ]
  },
  {
   "cell_type": "markdown",
   "id": "219d8134",
   "metadata": {},
   "source": [
    "# Taking Input from User"
   ]
  },
  {
   "cell_type": "code",
   "execution_count": 3,
   "id": "40422c33",
   "metadata": {},
   "outputs": [
    {
     "name": "stdout",
     "output_type": "stream",
     "text": [
      "Enter your name: Hello James\n",
      "Hello James\n"
     ]
    }
   ],
   "source": [
    "name=input(\"Enter your name: \")\n",
    "print(name)"
   ]
  },
  {
   "cell_type": "markdown",
   "id": "f9bbd286",
   "metadata": {},
   "source": [
    "# Python Variables"
   ]
  },
  {
   "cell_type": "markdown",
   "id": "83d1a477",
   "metadata": {},
   "source": [
    "Variables are containers for storing data values."
   ]
  },
  {
   "cell_type": "code",
   "execution_count": 10,
   "id": "d2b5fcd7",
   "metadata": {},
   "outputs": [],
   "source": [
    "#x and y are integeres and name is string\n",
    "x=5\n",
    "y=10"
   ]
  },
  {
   "cell_type": "code",
   "execution_count": 5,
   "id": "bdf932c3",
   "metadata": {},
   "outputs": [],
   "source": [
    "name=\"Xavier\""
   ]
  },
  {
   "cell_type": "code",
   "execution_count": 9,
   "id": "9382d06d",
   "metadata": {},
   "outputs": [
    {
     "name": "stdout",
     "output_type": "stream",
     "text": [
      "5\n",
      "10\n",
      "Xavier\n",
      "5 10 Xavier\n"
     ]
    }
   ],
   "source": [
    "print(x) \n",
    "print(y)\n",
    "print(name)\n",
    "print(x,y,name)"
   ]
  },
  {
   "cell_type": "markdown",
   "id": "38c1a447",
   "metadata": {},
   "source": [
    "Variable names are case-sensitive"
   ]
  },
  {
   "cell_type": "code",
   "execution_count": 11,
   "id": "f903a7f4",
   "metadata": {},
   "outputs": [
    {
     "name": "stdout",
     "output_type": "stream",
     "text": [
      "10\n",
      "15\n"
     ]
    }
   ],
   "source": [
    "a=10\n",
    "A=15\n",
    "print(a)\n",
    "print(A)"
   ]
  },
  {
   "cell_type": "markdown",
   "id": "61f8c1b0",
   "metadata": {},
   "source": [
    "# Data Types"
   ]
  },
  {
   "cell_type": "markdown",
   "id": "0ace2e0e",
   "metadata": {},
   "source": [
    "Text Type:\tstr <br>\n",
    "Numeric Types:\tint, float<br>\n",
    "Sequence Types:\tlist, tuple, range <br>\n",
    "Mapping Type:\tdict <br>\n",
    "Set Types:\tset, frozenset <br>\n",
    "Boolean Type:\tbool <br>"
   ]
  },
  {
   "cell_type": "markdown",
   "id": "23177e5b",
   "metadata": {},
   "source": [
    "x = \"Hello World\"\tstr\t<br>\n",
    "x = 20\tint\t<br>\n",
    "x = 20.5\tfloat <br>\t\n",
    "x = 1j\tcomplex\t<br>\n",
    "x = [\"apple\", \"banana\", \"cherry\"]\tlist <br>\t\n",
    "x = (\"apple\", \"banana\", \"cherry\")\ttuple\t<br>\n",
    "x = range(6)\trange\t<br>\n",
    "x = {\"name\" : \"John\", \"age\" : 36}\tdict <br>\t\n",
    "x = {\"apple\", \"banana\", \"cherry\"}\tset <br>"
   ]
  },
  {
   "cell_type": "markdown",
   "id": "2b3d5680",
   "metadata": {},
   "source": [
    "Getting the Data Type"
   ]
  },
  {
   "cell_type": "code",
   "execution_count": 13,
   "id": "11b08ec4",
   "metadata": {},
   "outputs": [
    {
     "name": "stdout",
     "output_type": "stream",
     "text": [
      "<class 'int'>\n"
     ]
    }
   ],
   "source": [
    "a=20\n",
    "print(type(a))"
   ]
  },
  {
   "cell_type": "code",
   "execution_count": 14,
   "id": "ca6d5a32",
   "metadata": {},
   "outputs": [
    {
     "name": "stdout",
     "output_type": "stream",
     "text": [
      "<class 'str'>\n"
     ]
    }
   ],
   "source": [
    "name=\"Smith\"\n",
    "print(type(name))"
   ]
  },
  {
   "cell_type": "markdown",
   "id": "4291b7ae",
   "metadata": {},
   "source": [
    "# Python Numbers"
   ]
  },
  {
   "cell_type": "markdown",
   "id": "2163c523",
   "metadata": {},
   "source": [
    "There are three numeric types in Python:\n",
    "\n",
    "int<br>\n",
    "float <br>\n",
    "Complex <br>"
   ]
  },
  {
   "cell_type": "code",
   "execution_count": 15,
   "id": "911c1287",
   "metadata": {},
   "outputs": [
    {
     "name": "stdout",
     "output_type": "stream",
     "text": [
      "<class 'int'>\n",
      "<class 'float'>\n",
      "<class 'complex'>\n"
     ]
    }
   ],
   "source": [
    "a=10\n",
    "b=10.5\n",
    "c=1j\n",
    "\n",
    "print(type(a))\n",
    "print(type(b))\n",
    "print(type(c))"
   ]
  },
  {
   "cell_type": "markdown",
   "id": "0691dad1",
   "metadata": {},
   "source": [
    "Complex: In Python, a complex number is a number that has both a real part and an imaginary part. The imaginary part is denoted by a suffix j or J. Complex numbers are supported natively in Python and can be created using literals or the complex() function."
   ]
  },
  {
   "cell_type": "markdown",
   "id": "7f333657",
   "metadata": {},
   "source": [
    "# Python Casting\n"
   ]
  },
  {
   "cell_type": "markdown",
   "id": "ecaab312",
   "metadata": {},
   "source": [
    "In Python, casting is commonly used to convert between different types of variables, such as integers, floats, strings, and more. Python supports several built-in functions for casting."
   ]
  },
  {
   "cell_type": "code",
   "execution_count": 17,
   "id": "493af6e7",
   "metadata": {},
   "outputs": [
    {
     "name": "stdout",
     "output_type": "stream",
     "text": [
      "3\n"
     ]
    }
   ],
   "source": [
    "a = 3.14\n",
    "b = int(a)  # Output: 3\n",
    "print(b)\n"
   ]
  },
  {
   "cell_type": "code",
   "execution_count": 19,
   "id": "8a92e0ee",
   "metadata": {},
   "outputs": [
    {
     "name": "stdout",
     "output_type": "stream",
     "text": [
      "<class 'str'>\n",
      "<class 'int'>\n",
      "123\n"
     ]
    }
   ],
   "source": [
    "s = \"123\"\n",
    "i = int(s)  # Output: 123\n",
    "print(type(s))\n",
    "print(type(i))\n",
    "print(s)\n"
   ]
  },
  {
   "cell_type": "markdown",
   "id": "93e5147b",
   "metadata": {},
   "source": [
    "# Strings"
   ]
  },
  {
   "cell_type": "code",
   "execution_count": 20,
   "id": "b184b772",
   "metadata": {},
   "outputs": [],
   "source": [
    "str1 = 'Hello, World!'\n",
    "str2 = \"Hello, World!\" #Strings can be created using either single or double quotes\n"
   ]
  },
  {
   "cell_type": "markdown",
   "id": "fbfcf8cc",
   "metadata": {},
   "source": [
    "Multi Line Strings"
   ]
  },
  {
   "cell_type": "code",
   "execution_count": 22,
   "id": "480b668e",
   "metadata": {},
   "outputs": [
    {
     "name": "stdout",
     "output_type": "stream",
     "text": [
      "This is a multi-line\n",
      "string in Python.\n"
     ]
    }
   ],
   "source": [
    "mystr= '''This is a multi-line\n",
    "string in Python.'''\n",
    "print(mystr)\n"
   ]
  },
  {
   "cell_type": "code",
   "execution_count": 23,
   "id": "1e344438",
   "metadata": {},
   "outputs": [],
   "source": [
    "intro='''My Name is Ram\n",
    "I am from Nepal'''"
   ]
  },
  {
   "cell_type": "markdown",
   "id": "eade83a8",
   "metadata": {},
   "source": [
    "# String Methods"
   ]
  },
  {
   "cell_type": "markdown",
   "id": "6ea22354",
   "metadata": {},
   "source": [
    "Formatted string\n"
   ]
  },
  {
   "cell_type": "code",
   "execution_count": 52,
   "id": "c0ba35a2",
   "metadata": {},
   "outputs": [
    {
     "name": "stdout",
     "output_type": "stream",
     "text": [
      "my name is Harry\n"
     ]
    }
   ],
   "source": [
    "name=\"Harry\"\n",
    "print(f\"my name is {name}\")"
   ]
  },
  {
   "cell_type": "markdown",
   "id": "d1f3496f",
   "metadata": {},
   "source": [
    "https://www.w3schools.com/python/python_strings_methods.asp"
   ]
  },
  {
   "cell_type": "markdown",
   "id": "7238e339",
   "metadata": {},
   "source": [
    "# Booleans"
   ]
  },
  {
   "cell_type": "markdown",
   "id": "70debb2e",
   "metadata": {},
   "source": [
    "Booleans represent one of two values: True or False."
   ]
  },
  {
   "cell_type": "code",
   "execution_count": 24,
   "id": "508ef2f3",
   "metadata": {},
   "outputs": [
    {
     "name": "stdout",
     "output_type": "stream",
     "text": [
      "True\n",
      "False\n"
     ]
    }
   ],
   "source": [
    "print(100 > 29)\n",
    "print(11==7)\n"
   ]
  },
  {
   "cell_type": "code",
   "execution_count": 25,
   "id": "f7e4c853",
   "metadata": {},
   "outputs": [
    {
     "name": "stdout",
     "output_type": "stream",
     "text": [
      "Enter any number: 11\n",
      "False\n"
     ]
    }
   ],
   "source": [
    "num1=20\n",
    "num2=input(\"Enter any number: \")\n",
    "print(num1==num2)"
   ]
  },
  {
   "cell_type": "markdown",
   "id": "57279e5e",
   "metadata": {},
   "source": [
    "# Operators"
   ]
  },
  {
   "cell_type": "markdown",
   "id": "8b8e9182",
   "metadata": {},
   "source": [
    "Arithmetic operators (+,-,/,*,**) <br>\n",
    "Assignment operators (=)<br>\n",
    "Comparison operators (==,>,<,>=)<br>\n"
   ]
  },
  {
   "cell_type": "code",
   "execution_count": 26,
   "id": "f9bb165d",
   "metadata": {},
   "outputs": [
    {
     "data": {
      "text/plain": [
       "30"
      ]
     },
     "execution_count": 26,
     "metadata": {},
     "output_type": "execute_result"
    }
   ],
   "source": [
    "10+20"
   ]
  },
  {
   "cell_type": "code",
   "execution_count": 27,
   "id": "c4f6da5e",
   "metadata": {},
   "outputs": [
    {
     "data": {
      "text/plain": [
       "9"
      ]
     },
     "execution_count": 27,
     "metadata": {},
     "output_type": "execute_result"
    }
   ],
   "source": [
    "20-11"
   ]
  },
  {
   "cell_type": "code",
   "execution_count": 29,
   "id": "977ddd0c",
   "metadata": {},
   "outputs": [
    {
     "data": {
      "text/plain": [
       "True"
      ]
     },
     "execution_count": 29,
     "metadata": {},
     "output_type": "execute_result"
    }
   ],
   "source": [
    "10==10"
   ]
  },
  {
   "cell_type": "code",
   "execution_count": 30,
   "id": "0011cd8b",
   "metadata": {},
   "outputs": [],
   "source": [
    "a=10"
   ]
  },
  {
   "cell_type": "code",
   "execution_count": 31,
   "id": "21ec557e",
   "metadata": {},
   "outputs": [
    {
     "data": {
      "text/plain": [
       "True"
      ]
     },
     "execution_count": 31,
     "metadata": {},
     "output_type": "execute_result"
    }
   ],
   "source": [
    "10>=10\n"
   ]
  },
  {
   "cell_type": "markdown",
   "id": "0c3cc4e4",
   "metadata": {},
   "source": [
    "# If..Else"
   ]
  },
  {
   "cell_type": "markdown",
   "id": "d600b1a1",
   "metadata": {},
   "source": [
    "\n",
    "The if statement in Python is used for decision-making. It allows you to execute certain blocks of code based on whether a condition is true or false."
   ]
  },
  {
   "cell_type": "markdown",
   "id": "2babe4f7",
   "metadata": {},
   "source": [
    "if condition: <br>\n",
    "    # block of code to execute if condition is true\n"
   ]
  },
  {
   "cell_type": "code",
   "execution_count": 32,
   "id": "a33536f0",
   "metadata": {},
   "outputs": [
    {
     "name": "stdout",
     "output_type": "stream",
     "text": [
      "True\n"
     ]
    }
   ],
   "source": [
    "if 10>5:\n",
    "    print(\"True\")"
   ]
  },
  {
   "cell_type": "code",
   "execution_count": 35,
   "id": "14d2f1ce",
   "metadata": {},
   "outputs": [
    {
     "name": "stdout",
     "output_type": "stream",
     "text": [
      "a is exactly divisible by 3\n"
     ]
    }
   ],
   "source": [
    "a=12\n",
    "if a%3==0:\n",
    "    print(\"a is exactly divisible by 3\")"
   ]
  },
  {
   "cell_type": "markdown",
   "id": "4f6e2321",
   "metadata": {},
   "source": [
    "Else"
   ]
  },
  {
   "cell_type": "code",
   "execution_count": 37,
   "id": "696fbf1d",
   "metadata": {},
   "outputs": [
    {
     "name": "stdout",
     "output_type": "stream",
     "text": [
      "Enter a day: sunday\n",
      "oops! Its working day\n"
     ]
    }
   ],
   "source": [
    "today=input(\"Enter a day: \")\n",
    "if today==\"saturday\":\n",
    "    print(\"Bravo its holiday\")\n",
    "else:\n",
    "    print(\"oops! Its working day\")"
   ]
  },
  {
   "cell_type": "markdown",
   "id": "807acfd5",
   "metadata": {},
   "source": [
    "el_if"
   ]
  },
  {
   "cell_type": "code",
   "execution_count": 38,
   "id": "24878460",
   "metadata": {},
   "outputs": [
    {
     "name": "stdout",
     "output_type": "stream",
     "text": [
      "a is greater than b\n"
     ]
    }
   ],
   "source": [
    "a = 200\n",
    "b = 33\n",
    "if b > a:\n",
    "  print(\"b is greater than a\")\n",
    "elif a == b:\n",
    "  print(\"a and b are equal\")\n",
    "else:\n",
    "  print(\"a is greater than b\")"
   ]
  },
  {
   "cell_type": "markdown",
   "id": "2c8b1de2",
   "metadata": {},
   "source": [
    "# While loop"
   ]
  },
  {
   "cell_type": "code",
   "execution_count": 40,
   "id": "83ede6c2",
   "metadata": {},
   "outputs": [
    {
     "name": "stdout",
     "output_type": "stream",
     "text": [
      "1\n",
      "2\n",
      "3\n",
      "4\n",
      "5\n"
     ]
    }
   ],
   "source": [
    "i = 1 #the inital value of i=1\n",
    "while i < 6: #we check the condition if i which is 1 is smaller than 6 or not. \n",
    "  print(i) #the value of is printed\n",
    "  i += 1 #the value of i is increased by 1\n",
    "#this program will run untill and unless the value of i is smaller than 6"
   ]
  },
  {
   "cell_type": "code",
   "execution_count": 42,
   "id": "f27fd89c",
   "metadata": {},
   "outputs": [
    {
     "name": "stdout",
     "output_type": "stream",
     "text": [
      "1\n",
      "2\n",
      "3\n",
      "4\n",
      "5\n",
      "i is no longer less than 6\n"
     ]
    }
   ],
   "source": [
    "#while_else\n",
    "i = 1\n",
    "while i < 6:\n",
    "  print(i)\n",
    "  i += 1\n",
    "else:\n",
    "  print(\"i is no longer less than 6\")"
   ]
  },
  {
   "cell_type": "markdown",
   "id": "c8864cc2",
   "metadata": {},
   "source": [
    "# For Loop"
   ]
  },
  {
   "cell_type": "markdown",
   "id": "6029b6b8",
   "metadata": {},
   "source": [
    "A for loop in Python is used to iterate over a sequence (such as a list, tuple, string, or range) and execute a block of code for each item in the sequence. It's a powerful tool for automating repetitive tasks and iterating over data structures."
   ]
  },
  {
   "cell_type": "markdown",
   "id": "c7dcf165",
   "metadata": {},
   "source": [
    "Example 1: Iterating Over a List"
   ]
  },
  {
   "cell_type": "code",
   "execution_count": 43,
   "id": "9059080b",
   "metadata": {},
   "outputs": [
    {
     "name": "stdout",
     "output_type": "stream",
     "text": [
      "apple\n",
      "banana\n",
      "cherry\n"
     ]
    }
   ],
   "source": [
    "fruits = [\"apple\", \"banana\", \"cherry\"]\n",
    "\n",
    "for fruit in fruits:\n",
    "    print(fruit)\n"
   ]
  },
  {
   "cell_type": "markdown",
   "id": "8006b9f3",
   "metadata": {},
   "source": [
    "# Example 2: Iterating Over a String"
   ]
  },
  {
   "cell_type": "code",
   "execution_count": 44,
   "id": "0b69ff22",
   "metadata": {},
   "outputs": [
    {
     "name": "stdout",
     "output_type": "stream",
     "text": [
      "P\n",
      "y\n",
      "t\n",
      "h\n",
      "o\n",
      "n\n"
     ]
    }
   ],
   "source": [
    "word = \"Python\"\n",
    "\n",
    "for letter in word:\n",
    "    print(letter)\n"
   ]
  },
  {
   "cell_type": "markdown",
   "id": "6e953dbc",
   "metadata": {},
   "source": [
    "Example 3: Using the range() Function"
   ]
  },
  {
   "cell_type": "code",
   "execution_count": 45,
   "id": "6d039576",
   "metadata": {},
   "outputs": [
    {
     "name": "stdout",
     "output_type": "stream",
     "text": [
      "0\n",
      "1\n",
      "2\n",
      "3\n",
      "4\n"
     ]
    }
   ],
   "source": [
    "for i in range(5):\n",
    "    print(i)\n"
   ]
  },
  {
   "cell_type": "code",
   "execution_count": 50,
   "id": "149e6a94",
   "metadata": {},
   "outputs": [
    {
     "name": "stdout",
     "output_type": "stream",
     "text": [
      "2\n",
      "3\n",
      "4\n",
      "5\n",
      "6\n",
      "7\n",
      "8\n",
      "9\n"
     ]
    }
   ],
   "source": [
    "for i in range(2,10): #starts from 2\n",
    "    print(i)"
   ]
  },
  {
   "cell_type": "code",
   "execution_count": 49,
   "id": "452b87df",
   "metadata": {},
   "outputs": [
    {
     "name": "stdout",
     "output_type": "stream",
     "text": [
      "2\n",
      "5\n",
      "8\n"
     ]
    }
   ],
   "source": [
    "for i in range(2,10,3): #jumps with step of 3\n",
    "    print(i)"
   ]
  },
  {
   "cell_type": "markdown",
   "id": "405ed441",
   "metadata": {},
   "source": [
    "# Function"
   ]
  },
  {
   "cell_type": "markdown",
   "id": "64443572",
   "metadata": {},
   "source": [
    "function is a reusable block of code that performs a specific task. Functions help organize code into logical, manageable chunks, making it easier to read, debug, and maintain. They can take inputs, called parameters, and return outputs."
   ]
  },
  {
   "cell_type": "markdown",
   "id": "c3d8b09b",
   "metadata": {},
   "source": [
    "Defining a function"
   ]
  },
  {
   "cell_type": "code",
   "execution_count": 54,
   "id": "106a303a",
   "metadata": {},
   "outputs": [
    {
     "name": "stdout",
     "output_type": "stream",
     "text": [
      "Hello, World!\n"
     ]
    }
   ],
   "source": [
    "def greet(): #def is used to define the function and greet is the name of function\n",
    "    print(\"Hello, World!\")\n",
    "\n",
    "greet()  # Calling the function\n"
   ]
  },
  {
   "cell_type": "code",
   "execution_count": 55,
   "id": "ec2e04ed",
   "metadata": {},
   "outputs": [],
   "source": [
    "#The above function named greet do print the hello world whenever it is called"
   ]
  },
  {
   "cell_type": "markdown",
   "id": "7bce17aa",
   "metadata": {},
   "source": [
    "# Example 2: Function with Parameters"
   ]
  },
  {
   "cell_type": "code",
   "execution_count": 57,
   "id": "89381e6b",
   "metadata": {},
   "outputs": [
    {
     "name": "stdout",
     "output_type": "stream",
     "text": [
      "Hello, Ram!\n",
      "Hello, Sita!\n"
     ]
    }
   ],
   "source": [
    "def greet(name):\n",
    "    print(f\"Hello, {name}!\")\n",
    "\n",
    "greet(\"Ram\")  # Output: Hello, Alice!\n",
    "greet(\"Sita\")    # Output: Hello, Bob!\n"
   ]
  },
  {
   "cell_type": "markdown",
   "id": "b2966fd0",
   "metadata": {},
   "source": [
    "In this example, the greet function takes one parameter, name, and uses it to personalize the greeting."
   ]
  },
  {
   "cell_type": "markdown",
   "id": "685d6876",
   "metadata": {},
   "source": [
    "# Example 3: Function with Return Value"
   ]
  },
  {
   "cell_type": "code",
   "execution_count": 58,
   "id": "e585a595",
   "metadata": {},
   "outputs": [
    {
     "name": "stdout",
     "output_type": "stream",
     "text": [
      "8\n"
     ]
    }
   ],
   "source": [
    "def add(a, b):\n",
    "    return a + b\n",
    "\n",
    "result = add(5, 3)\n",
    "print(result)  # Output: 8\n"
   ]
  },
  {
   "cell_type": "markdown",
   "id": "f703090b",
   "metadata": {},
   "source": [
    "The add function takes two parameters, a and b, and returns their sum. The returned value is stored in the variable result."
   ]
  },
  {
   "cell_type": "markdown",
   "id": "370dc920",
   "metadata": {},
   "source": [
    "# Example 4: Function with Default Parameters"
   ]
  },
  {
   "cell_type": "code",
   "execution_count": 59,
   "id": "d357e0a4",
   "metadata": {},
   "outputs": [
    {
     "name": "stdout",
     "output_type": "stream",
     "text": [
      "Hello, Guest!\n",
      "Hello, Alice!\n"
     ]
    }
   ],
   "source": [
    "def greet(name=\"Guest\"):\n",
    "    print(f\"Hello, {name}!\")\n",
    "\n",
    "greet()         # Output: Hello, Guest!\n",
    "greet(\"Alice\")  # Output: Hello, Alice!\n"
   ]
  },
  {
   "cell_type": "markdown",
   "id": "dc367b64",
   "metadata": {},
   "source": [
    "The greet function here has a default parameter value of \"Guest\". If no argument is passed when the function is called, it uses the default value."
   ]
  },
  {
   "cell_type": "markdown",
   "id": "0c7b6e86",
   "metadata": {},
   "source": [
    "# TASK"
   ]
  },
  {
   "cell_type": "markdown",
   "id": "e6f58940",
   "metadata": {},
   "source": [
    "Question 1: Write a Python program that checks if a number is exactly divisble by 5 or not."
   ]
  },
  {
   "cell_type": "markdown",
   "id": "37c9d7d3",
   "metadata": {},
   "source": [
    "Question 2: Write a Python program that uses a for loop to iterate over a list of numbers and prints each number squared. "
   ]
  },
  {
   "cell_type": "markdown",
   "id": "974e17bb",
   "metadata": {},
   "source": [
    "Question 3: Write a program, which creates a function named grade which has default grade as A and call the function with other parameters"
   ]
  },
  {
   "cell_type": "code",
   "execution_count": null,
   "id": "c668c693",
   "metadata": {},
   "outputs": [],
   "source": []
  }
 ],
 "metadata": {
  "kernelspec": {
   "display_name": "Python 3 (ipykernel)",
   "language": "python",
   "name": "python3"
  },
  "language_info": {
   "codemirror_mode": {
    "name": "ipython",
    "version": 3
   },
   "file_extension": ".py",
   "mimetype": "text/x-python",
   "name": "python",
   "nbconvert_exporter": "python",
   "pygments_lexer": "ipython3",
   "version": "3.11.5"
  }
 },
 "nbformat": 4,
 "nbformat_minor": 5
}
