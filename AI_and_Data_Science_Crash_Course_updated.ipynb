{
  "cells": [
    {
      "cell_type": "markdown",
      "metadata": {
        "id": "view-in-github",
        "colab_type": "text"
      },
      "source": [
        "<a href=\"https://colab.research.google.com/github/sadanmagar/AI-and-Data-Science-Crash-Course/blob/main/AI_and_Data_Science_Crash_Course_updated.ipynb\" target=\"_parent\"><img src=\"https://colab.research.google.com/assets/colab-badge.svg\" alt=\"Open In Colab\"/></a>"
      ]
    },
    {
      "cell_type": "markdown",
      "id": "6e2722b3",
      "metadata": {
        "id": "6e2722b3"
      },
      "source": [
        "# Download Python"
      ]
    },
    {
      "cell_type": "markdown",
      "id": "916d8c90",
      "metadata": {
        "id": "916d8c90"
      },
      "source": [
        "https://www.python.org/downloads/release/python-3124/"
      ]
    },
    {
      "cell_type": "markdown",
      "id": "4367f0e2",
      "metadata": {
        "id": "4367f0e2"
      },
      "source": [
        "# Install Jupyter Notebook"
      ]
    },
    {
      "cell_type": "markdown",
      "id": "65b4c39a",
      "metadata": {
        "id": "65b4c39a"
      },
      "source": [
        "Step 1: Open your command prompt <br>\n",
        "Step 2: type install jupyter"
      ]
    },
    {
      "cell_type": "markdown",
      "id": "6572cbe3",
      "metadata": {
        "id": "6572cbe3"
      },
      "source": [
        "# Running your first python Program"
      ]
    },
    {
      "cell_type": "code",
      "execution_count": null,
      "id": "f06f9ff0",
      "metadata": {
        "colab": {
          "base_uri": "https://localhost:8080/"
        },
        "id": "f06f9ff0",
        "outputId": "87d3d138-a129-415f-a1ec-7d0d39687362"
      },
      "outputs": [
        {
          "output_type": "stream",
          "name": "stdout",
          "text": [
            "Hello World\n"
          ]
        }
      ],
      "source": [
        "print(\"Hello World\")"
      ]
    },
    {
      "cell_type": "markdown",
      "id": "219d8134",
      "metadata": {
        "id": "219d8134"
      },
      "source": [
        "# Taking Input from User"
      ]
    },
    {
      "cell_type": "code",
      "execution_count": null,
      "id": "40422c33",
      "metadata": {
        "id": "40422c33",
        "outputId": "43394347-6b35-4f0d-bfd0-25ef6afee0ff"
      },
      "outputs": [
        {
          "name": "stdout",
          "output_type": "stream",
          "text": [
            "Enter your name: Hello James\n",
            "Hello James\n"
          ]
        }
      ],
      "source": [
        "name=input(\"Enter your name: \")\n",
        "print(name)"
      ]
    },
    {
      "cell_type": "markdown",
      "id": "f9bbd286",
      "metadata": {
        "id": "f9bbd286"
      },
      "source": [
        "# Python Variables"
      ]
    },
    {
      "cell_type": "markdown",
      "id": "83d1a477",
      "metadata": {
        "id": "83d1a477"
      },
      "source": [
        "Variables are containers for storing data values."
      ]
    },
    {
      "cell_type": "code",
      "execution_count": null,
      "id": "d2b5fcd7",
      "metadata": {
        "id": "d2b5fcd7"
      },
      "outputs": [],
      "source": [
        "#x and y are integeres and name is string\n",
        "x=5\n",
        "y=10"
      ]
    },
    {
      "cell_type": "code",
      "execution_count": null,
      "id": "bdf932c3",
      "metadata": {
        "id": "bdf932c3"
      },
      "outputs": [],
      "source": [
        "name=\"Xavier\""
      ]
    },
    {
      "cell_type": "code",
      "execution_count": null,
      "id": "9382d06d",
      "metadata": {
        "id": "9382d06d",
        "outputId": "7757f270-bebf-4364-e4af-2556a532585b"
      },
      "outputs": [
        {
          "name": "stdout",
          "output_type": "stream",
          "text": [
            "5\n",
            "10\n",
            "Xavier\n",
            "5 10 Xavier\n"
          ]
        }
      ],
      "source": [
        "print(x)\n",
        "print(y)\n",
        "print(name)\n",
        "print(x,y,name)"
      ]
    },
    {
      "cell_type": "markdown",
      "id": "38c1a447",
      "metadata": {
        "id": "38c1a447"
      },
      "source": [
        "Variable names are case-sensitive"
      ]
    },
    {
      "cell_type": "code",
      "execution_count": null,
      "id": "f903a7f4",
      "metadata": {
        "id": "f903a7f4",
        "outputId": "a1506148-a6a3-4509-b4d6-505922a1e4b1"
      },
      "outputs": [
        {
          "name": "stdout",
          "output_type": "stream",
          "text": [
            "10\n",
            "15\n"
          ]
        }
      ],
      "source": [
        "a=10\n",
        "A=15\n",
        "print(a)\n",
        "print(A)"
      ]
    },
    {
      "cell_type": "markdown",
      "id": "61f8c1b0",
      "metadata": {
        "id": "61f8c1b0"
      },
      "source": [
        "# Data Types"
      ]
    },
    {
      "cell_type": "markdown",
      "id": "0ace2e0e",
      "metadata": {
        "id": "0ace2e0e"
      },
      "source": [
        "Text Type:\tstr <br>\n",
        "Numeric Types:\tint, float<br>\n",
        "Sequence Types:\tlist, tuple, range <br>\n",
        "Mapping Type:\tdict <br>\n",
        "Set Types:\tset, frozenset <br>\n",
        "Boolean Type:\tbool <br>"
      ]
    },
    {
      "cell_type": "markdown",
      "id": "23177e5b",
      "metadata": {
        "id": "23177e5b"
      },
      "source": [
        "x = \"Hello World\"\tstr\t<br>\n",
        "x = 20\tint\t<br>\n",
        "x = 20.5\tfloat <br>\n",
        "x = 1j\tcomplex\t<br>\n",
        "x = [\"apple\", \"banana\", \"cherry\"]\tlist <br>\n",
        "x = (\"apple\", \"banana\", \"cherry\")\ttuple\t<br>\n",
        "x = range(6)\trange\t<br>\n",
        "x = {\"name\" : \"John\", \"age\" : 36}\tdict <br>\n",
        "x = {\"apple\", \"banana\", \"cherry\"}\tset <br>"
      ]
    },
    {
      "cell_type": "markdown",
      "id": "2b3d5680",
      "metadata": {
        "id": "2b3d5680"
      },
      "source": [
        "Getting the Data Type"
      ]
    },
    {
      "cell_type": "code",
      "execution_count": null,
      "id": "11b08ec4",
      "metadata": {
        "id": "11b08ec4",
        "outputId": "3150363b-63a5-4e71-fd42-a17d6745cea7"
      },
      "outputs": [
        {
          "name": "stdout",
          "output_type": "stream",
          "text": [
            "<class 'int'>\n"
          ]
        }
      ],
      "source": [
        "a=20\n",
        "print(type(a))"
      ]
    },
    {
      "cell_type": "code",
      "execution_count": null,
      "id": "ca6d5a32",
      "metadata": {
        "id": "ca6d5a32",
        "outputId": "f629a51a-0f69-4e89-d609-109ecadd1d15"
      },
      "outputs": [
        {
          "name": "stdout",
          "output_type": "stream",
          "text": [
            "<class 'str'>\n"
          ]
        }
      ],
      "source": [
        "name=\"Smith\"\n",
        "print(type(name))"
      ]
    },
    {
      "cell_type": "markdown",
      "id": "4291b7ae",
      "metadata": {
        "id": "4291b7ae"
      },
      "source": [
        "# Python Numbers"
      ]
    },
    {
      "cell_type": "markdown",
      "id": "2163c523",
      "metadata": {
        "id": "2163c523"
      },
      "source": [
        "There are three numeric types in Python:\n",
        "\n",
        "int<br>\n",
        "float <br>\n",
        "Complex <br>"
      ]
    },
    {
      "cell_type": "code",
      "execution_count": null,
      "id": "911c1287",
      "metadata": {
        "id": "911c1287",
        "outputId": "b1666d0e-0dc8-4aba-8b13-7036bdd972b3"
      },
      "outputs": [
        {
          "name": "stdout",
          "output_type": "stream",
          "text": [
            "<class 'int'>\n",
            "<class 'float'>\n",
            "<class 'complex'>\n"
          ]
        }
      ],
      "source": [
        "a=10\n",
        "b=10.5\n",
        "c=1j\n",
        "\n",
        "print(type(a))\n",
        "print(type(b))\n",
        "print(type(c))"
      ]
    },
    {
      "cell_type": "markdown",
      "id": "0691dad1",
      "metadata": {
        "id": "0691dad1"
      },
      "source": [
        "Complex: In Python, a complex number is a number that has both a real part and an imaginary part. The imaginary part is denoted by a suffix j or J. Complex numbers are supported natively in Python and can be created using literals or the complex() function."
      ]
    },
    {
      "cell_type": "markdown",
      "id": "7f333657",
      "metadata": {
        "id": "7f333657"
      },
      "source": [
        "# Python Casting\n"
      ]
    },
    {
      "cell_type": "markdown",
      "id": "ecaab312",
      "metadata": {
        "id": "ecaab312"
      },
      "source": [
        "In Python, casting is commonly used to convert between different types of variables, such as integers, floats, strings, and more. Python supports several built-in functions for casting."
      ]
    },
    {
      "cell_type": "code",
      "execution_count": null,
      "id": "493af6e7",
      "metadata": {
        "id": "493af6e7",
        "outputId": "a33de2fc-75c4-4051-88ba-d0af4276a055"
      },
      "outputs": [
        {
          "name": "stdout",
          "output_type": "stream",
          "text": [
            "3\n"
          ]
        }
      ],
      "source": [
        "a = 3.14\n",
        "b = int(a)  # Output: 3\n",
        "print(b)\n"
      ]
    },
    {
      "cell_type": "code",
      "execution_count": null,
      "id": "8a92e0ee",
      "metadata": {
        "colab": {
          "base_uri": "https://localhost:8080/"
        },
        "id": "8a92e0ee",
        "outputId": "3765b5e6-a5a4-4a0c-9f36-a20899c59caa"
      },
      "outputs": [
        {
          "output_type": "stream",
          "name": "stdout",
          "text": [
            "<class 'str'>\n",
            "<class 'int'>\n",
            "123\n"
          ]
        }
      ],
      "source": [
        "s = \"123\"\n",
        "i = int(s)  # Output: 123\n",
        "print(type(s))\n",
        "print(type(i))\n",
        "print(s)\n"
      ]
    },
    {
      "cell_type": "code",
      "source": [],
      "metadata": {
        "id": "u2hczKYyht4Z"
      },
      "id": "u2hczKYyht4Z",
      "execution_count": null,
      "outputs": []
    },
    {
      "cell_type": "markdown",
      "id": "93e5147b",
      "metadata": {
        "id": "93e5147b"
      },
      "source": [
        "# Strings"
      ]
    },
    {
      "cell_type": "code",
      "execution_count": null,
      "id": "b184b772",
      "metadata": {
        "id": "b184b772"
      },
      "outputs": [],
      "source": [
        "str1 = 'Hello, World!'\n",
        "str2 = \"Hello, World!\" #Strings can be created using either single or double quotes\n"
      ]
    },
    {
      "cell_type": "markdown",
      "id": "fbfcf8cc",
      "metadata": {
        "id": "fbfcf8cc"
      },
      "source": [
        "Multi Line Strings"
      ]
    },
    {
      "cell_type": "code",
      "execution_count": null,
      "id": "480b668e",
      "metadata": {
        "id": "480b668e",
        "outputId": "579325de-1aa3-406b-e02f-effa0c3143a8"
      },
      "outputs": [
        {
          "name": "stdout",
          "output_type": "stream",
          "text": [
            "This is a multi-line\n",
            "string in Python.\n"
          ]
        }
      ],
      "source": [
        "mystr= '''This is a multi-line\n",
        "string in Python.'''\n",
        "print(mystr)\n"
      ]
    },
    {
      "cell_type": "code",
      "execution_count": null,
      "id": "1e344438",
      "metadata": {
        "id": "1e344438"
      },
      "outputs": [],
      "source": [
        "intro='''My Name is Ram\n",
        "I am from Nepal'''"
      ]
    },
    {
      "cell_type": "markdown",
      "id": "eade83a8",
      "metadata": {
        "id": "eade83a8"
      },
      "source": [
        "# String Methods"
      ]
    },
    {
      "cell_type": "markdown",
      "id": "6ea22354",
      "metadata": {
        "id": "6ea22354"
      },
      "source": [
        "Formatted string\n"
      ]
    },
    {
      "cell_type": "code",
      "execution_count": null,
      "id": "c0ba35a2",
      "metadata": {
        "id": "c0ba35a2",
        "outputId": "ec923899-872e-460a-c8f3-0170db60bc76"
      },
      "outputs": [
        {
          "name": "stdout",
          "output_type": "stream",
          "text": [
            "my name is Harry\n"
          ]
        }
      ],
      "source": [
        "name=\"Harry\"\n",
        "print(f\"my name is {name}\")"
      ]
    },
    {
      "cell_type": "markdown",
      "id": "d1f3496f",
      "metadata": {
        "id": "d1f3496f"
      },
      "source": [
        "https://www.w3schools.com/python/python_strings_methods.asp"
      ]
    },
    {
      "cell_type": "markdown",
      "id": "7238e339",
      "metadata": {
        "id": "7238e339"
      },
      "source": [
        "# Booleans"
      ]
    },
    {
      "cell_type": "markdown",
      "id": "70debb2e",
      "metadata": {
        "id": "70debb2e"
      },
      "source": [
        "Booleans represent one of two values: True or False."
      ]
    },
    {
      "cell_type": "code",
      "execution_count": null,
      "id": "508ef2f3",
      "metadata": {
        "id": "508ef2f3",
        "outputId": "935b4091-b47e-40c8-a0bc-caf68c7afaa7"
      },
      "outputs": [
        {
          "name": "stdout",
          "output_type": "stream",
          "text": [
            "True\n",
            "False\n"
          ]
        }
      ],
      "source": [
        "print(100 > 29)\n",
        "print(11==7)\n"
      ]
    },
    {
      "cell_type": "code",
      "execution_count": null,
      "id": "f7e4c853",
      "metadata": {
        "id": "f7e4c853",
        "outputId": "c9febebf-a02f-40a1-e47e-7e9681262518"
      },
      "outputs": [
        {
          "name": "stdout",
          "output_type": "stream",
          "text": [
            "Enter any number: 11\n",
            "False\n"
          ]
        }
      ],
      "source": [
        "num1=20\n",
        "num2=input(\"Enter any number: \")\n",
        "print(num1==num2)"
      ]
    },
    {
      "cell_type": "markdown",
      "id": "57279e5e",
      "metadata": {
        "id": "57279e5e"
      },
      "source": [
        "# Operators"
      ]
    },
    {
      "cell_type": "markdown",
      "id": "8b8e9182",
      "metadata": {
        "id": "8b8e9182"
      },
      "source": [
        "Arithmetic operators (+,-,/,*,**) <br>\n",
        "Assignment operators (=)<br>\n",
        "Comparison operators (==,>,<,>=)<br>\n"
      ]
    },
    {
      "cell_type": "code",
      "execution_count": null,
      "id": "f9bb165d",
      "metadata": {
        "id": "f9bb165d",
        "outputId": "eeba97d5-477d-47f3-db31-126c0d61fe75"
      },
      "outputs": [
        {
          "data": {
            "text/plain": [
              "30"
            ]
          },
          "execution_count": 26,
          "metadata": {},
          "output_type": "execute_result"
        }
      ],
      "source": [
        "10+20"
      ]
    },
    {
      "cell_type": "code",
      "execution_count": null,
      "id": "c4f6da5e",
      "metadata": {
        "id": "c4f6da5e",
        "outputId": "a9fb6a90-901f-4381-accd-0645f9155f34"
      },
      "outputs": [
        {
          "data": {
            "text/plain": [
              "9"
            ]
          },
          "execution_count": 27,
          "metadata": {},
          "output_type": "execute_result"
        }
      ],
      "source": [
        "20-11"
      ]
    },
    {
      "cell_type": "code",
      "execution_count": null,
      "id": "977ddd0c",
      "metadata": {
        "id": "977ddd0c",
        "outputId": "7294ce2c-0b7f-4e39-e6b3-e24c96793705"
      },
      "outputs": [
        {
          "data": {
            "text/plain": [
              "True"
            ]
          },
          "execution_count": 29,
          "metadata": {},
          "output_type": "execute_result"
        }
      ],
      "source": [
        "10==10"
      ]
    },
    {
      "cell_type": "code",
      "execution_count": null,
      "id": "0011cd8b",
      "metadata": {
        "id": "0011cd8b"
      },
      "outputs": [],
      "source": [
        "a=10"
      ]
    },
    {
      "cell_type": "markdown",
      "source": [
        "**LIST**"
      ],
      "metadata": {
        "id": "jqA-LRw1vxLu"
      },
      "id": "jqA-LRw1vxLu"
    },
    {
      "cell_type": "code",
      "source": [],
      "metadata": {
        "id": "J7fg69PKwNp-"
      },
      "id": "J7fg69PKwNp-",
      "execution_count": null,
      "outputs": []
    },
    {
      "cell_type": "markdown",
      "source": [
        "Lists are used to store multiple items in a single variable."
      ],
      "metadata": {
        "id": "U6i3XQYEv185"
      },
      "id": "U6i3XQYEv185"
    },
    {
      "cell_type": "code",
      "source": [
        "game=[\"chess\",\"football\",\"basketball\"]\n",
        "print(game)\n",
        "print(type(game))"
      ],
      "metadata": {
        "id": "--xAzm-HtkuQ",
        "outputId": "3a143757-fc39-42cf-89fd-58c56219f048",
        "colab": {
          "base_uri": "https://localhost:8080/"
        }
      },
      "id": "--xAzm-HtkuQ",
      "execution_count": null,
      "outputs": [
        {
          "output_type": "stream",
          "name": "stdout",
          "text": [
            "['chess', 'football', 'basketball']\n",
            "<class 'list'>\n"
          ]
        }
      ]
    },
    {
      "cell_type": "markdown",
      "source": [
        "List items are ordered, changeable, and allow duplicate values."
      ],
      "metadata": {
        "id": "t2_LLSS9v_JI"
      },
      "id": "t2_LLSS9v_JI"
    },
    {
      "cell_type": "code",
      "source": [
        "#finding the length of lis\n",
        "thislist = [\"apple\", \"banana\", \"cherry\"]\n",
        "print(len(thislist))"
      ],
      "metadata": {
        "id": "RzlmDfLkwJAf",
        "outputId": "932d516b-b111-43cf-c730-639a6ea4da4b",
        "colab": {
          "base_uri": "https://localhost:8080/"
        }
      },
      "id": "RzlmDfLkwJAf",
      "execution_count": null,
      "outputs": [
        {
          "output_type": "stream",
          "name": "stdout",
          "text": [
            "3\n"
          ]
        }
      ]
    },
    {
      "cell_type": "code",
      "source": [
        "#Accessing the list item\n",
        "print(game[1])\n",
        "print(game[-1]) #negative indexing\n",
        "print(game[0:2]) #range from 1st item to 2nd\n"
      ],
      "metadata": {
        "id": "hSD7p7GRwPHm",
        "outputId": "5224594e-c536-4727-8373-0291d96a04f9",
        "colab": {
          "base_uri": "https://localhost:8080/"
        }
      },
      "id": "hSD7p7GRwPHm",
      "execution_count": null,
      "outputs": [
        {
          "output_type": "stream",
          "name": "stdout",
          "text": [
            "football\n",
            "basketball\n",
            "['chess', 'football']\n"
          ]
        }
      ]
    },
    {
      "cell_type": "code",
      "source": [
        "\n",
        "game[1]=\"american football\" #changing list item\n",
        "print(game)"
      ],
      "metadata": {
        "id": "LbdDwX4Ow1rv",
        "outputId": "3b588c05-e631-47ed-bce9-344c239c7cb0",
        "colab": {
          "base_uri": "https://localhost:8080/"
        }
      },
      "id": "LbdDwX4Ow1rv",
      "execution_count": null,
      "outputs": [
        {
          "output_type": "stream",
          "name": "stdout",
          "text": [
            "['chess', 'american football', 'basketball']\n"
          ]
        }
      ]
    },
    {
      "cell_type": "code",
      "source": [
        "game.append(\"Cards\") #adding new item, append adds the item to the end of the list\n",
        "print(game)"
      ],
      "metadata": {
        "id": "O-pksAMDxIpm",
        "outputId": "f194be5d-b91c-4c84-b145-4bd6fb6a859b",
        "colab": {
          "base_uri": "https://localhost:8080/"
        }
      },
      "id": "O-pksAMDxIpm",
      "execution_count": null,
      "outputs": [
        {
          "output_type": "stream",
          "name": "stdout",
          "text": [
            "['chess', 'american football', 'basketball', 'Cards', 'Cards']\n"
          ]
        }
      ]
    },
    {
      "cell_type": "code",
      "source": [
        "#inserting item in specific position\n",
        "game.insert(2,\"Pubg\")\n",
        "print(game)"
      ],
      "metadata": {
        "id": "sDQ8p7rtxadX",
        "outputId": "1569c894-b700-4b2e-e596-8e24b4ba197d",
        "colab": {
          "base_uri": "https://localhost:8080/"
        }
      },
      "id": "sDQ8p7rtxadX",
      "execution_count": null,
      "outputs": [
        {
          "output_type": "stream",
          "name": "stdout",
          "text": [
            "['chess', 'american football', 'Pubg', 'basketball', 'Cards', 'Cards']\n"
          ]
        }
      ]
    },
    {
      "cell_type": "code",
      "source": [
        "#removing list item\n",
        "\n",
        "game.remove(\"Cards\")\n",
        "print(game)"
      ],
      "metadata": {
        "id": "tI6T558yxtD3",
        "outputId": "9a615cf8-1f41-4279-8359-773c0f4be122",
        "colab": {
          "base_uri": "https://localhost:8080/"
        }
      },
      "id": "tI6T558yxtD3",
      "execution_count": null,
      "outputs": [
        {
          "output_type": "stream",
          "name": "stdout",
          "text": [
            "['chess', 'american football', 'Pubg', 'basketball', 'Cards']\n"
          ]
        }
      ]
    },
    {
      "cell_type": "markdown",
      "source": [
        "**Tuple**"
      ],
      "metadata": {
        "id": "ackmFLOoyC2A"
      },
      "id": "ackmFLOoyC2A"
    },
    {
      "cell_type": "markdown",
      "source": [
        "Tuples are used to store multiple items in a single variable."
      ],
      "metadata": {
        "id": "lMFlgxXhyHiu"
      },
      "id": "lMFlgxXhyHiu"
    },
    {
      "cell_type": "code",
      "source": [
        "city = (\"ktm\",\"bhaktapur\",\"lalitpur\",\"jhapa\",\"ilam\")\n",
        "print(city)"
      ],
      "metadata": {
        "id": "3V8Qy4BsyGxl",
        "outputId": "01ff3c17-1f89-41ff-b409-8f803e9fb929",
        "colab": {
          "base_uri": "https://localhost:8080/"
        }
      },
      "id": "3V8Qy4BsyGxl",
      "execution_count": null,
      "outputs": [
        {
          "output_type": "stream",
          "name": "stdout",
          "text": [
            "('ktm', 'bhaktapur', 'lalitpur', 'jhapa', 'ilam')\n"
          ]
        }
      ]
    },
    {
      "cell_type": "markdown",
      "source": [
        "Tuple items are ordered, unchangeable, and allow duplicate values."
      ],
      "metadata": {
        "id": "8H-tG8Yiyeen"
      },
      "id": "8H-tG8Yiyeen"
    },
    {
      "cell_type": "markdown",
      "source": [
        "**Update Tuples**"
      ],
      "metadata": {
        "id": "oQqSXyqhymtA"
      },
      "id": "oQqSXyqhymtA"
    },
    {
      "cell_type": "markdown",
      "source": [
        "Tuples are unchangeable, meaning that you cannot change, add, or remove items once the tuple is created.\n",
        "\n",
        "But there are some workarounds."
      ],
      "metadata": {
        "id": "ciFPgMqryti-"
      },
      "id": "ciFPgMqryti-"
    },
    {
      "cell_type": "markdown",
      "source": [
        "\n",
        "You can convert the tuple into a list, change the list, and convert the list back into a tuple.\n",
        "\n",
        "\n"
      ],
      "metadata": {
        "id": "lgVhlsZqy2Q9"
      },
      "id": "lgVhlsZqy2Q9"
    },
    {
      "cell_type": "code",
      "source": [
        "new_city=list(city)\n",
        "new_city.append(\"Chitwan\")\n",
        "print(new_city)"
      ],
      "metadata": {
        "id": "HIEvzFo_y1JN",
        "outputId": "80ccc1cf-3443-4c79-c5f4-d29295e1564a",
        "colab": {
          "base_uri": "https://localhost:8080/"
        }
      },
      "id": "HIEvzFo_y1JN",
      "execution_count": null,
      "outputs": [
        {
          "output_type": "stream",
          "name": "stdout",
          "text": [
            "['ktm', 'bhaktapur', 'lalitpur', 'jhapa', 'ilam', 'Chitwan']\n"
          ]
        }
      ]
    },
    {
      "cell_type": "markdown",
      "source": [
        "**Sets**"
      ],
      "metadata": {
        "id": "2HHesVFxzS8W"
      },
      "id": "2HHesVFxzS8W"
    },
    {
      "cell_type": "markdown",
      "source": [
        "A set is a collection which is unordered, unchangeable*, and unindexed."
      ],
      "metadata": {
        "id": "jozIQPKSzVPe"
      },
      "id": "jozIQPKSzVPe"
    },
    {
      "cell_type": "code",
      "source": [
        "city={\"Kathmandu\",\"Pokhara\",\"Lalitpur\",\"Dang\"}\n",
        "print(type(city))\n",
        "print(len(city))\n",
        "city.add(\"Jhapa\") #Once a set is created, you cannot change its items, but you can add new items.\n",
        "print(city)"
      ],
      "metadata": {
        "id": "zJcjSJkpzu3f",
        "outputId": "d7fd8ce6-a27b-480a-d8a0-85b14c916a3f",
        "colab": {
          "base_uri": "https://localhost:8080/"
        }
      },
      "id": "zJcjSJkpzu3f",
      "execution_count": null,
      "outputs": [
        {
          "output_type": "stream",
          "name": "stdout",
          "text": [
            "<class 'set'>\n",
            "4\n",
            "{'Lalitpur', 'Jhapa', 'Pokhara', 'Kathmandu', 'Dang'}\n"
          ]
        }
      ]
    },
    {
      "cell_type": "code",
      "source": [
        "city.remove(\"Dang\") #we can remove the item using the remove method\n",
        "print(city)"
      ],
      "metadata": {
        "id": "Zxqp46vD0MOF",
        "outputId": "84cedef4-f5e6-4c56-cd72-0a0413fc015e",
        "colab": {
          "base_uri": "https://localhost:8080/"
        }
      },
      "id": "Zxqp46vD0MOF",
      "execution_count": null,
      "outputs": [
        {
          "output_type": "stream",
          "name": "stdout",
          "text": [
            "{'Lalitpur', 'Pokhara', 'Kathmandu'}\n"
          ]
        }
      ]
    },
    {
      "cell_type": "markdown",
      "source": [
        "**Dictionaries**"
      ],
      "metadata": {
        "id": "A5rPdSOu0ome"
      },
      "id": "A5rPdSOu0ome"
    },
    {
      "cell_type": "markdown",
      "source": [
        "Dictionaries are used to store data values in key:value pairs.\n",
        "\n",
        "A dictionary is a collection which is ordered*, changeable and do not allow duplicates."
      ],
      "metadata": {
        "id": "3M_nQjft0wQd"
      },
      "id": "3M_nQjft0wQd"
    },
    {
      "cell_type": "code",
      "source": [
        "thisdict = {\n",
        "  \"brand\": \"Ford\",\n",
        "  \"model\": \"Mustang\",\n",
        "  \"year\": 1964\n",
        "}\n",
        "print(thisdict)\n"
      ],
      "metadata": {
        "id": "isD9eq9r0sC9",
        "outputId": "878cb029-53ee-4321-8287-8778123054fc",
        "colab": {
          "base_uri": "https://localhost:8080/"
        }
      },
      "id": "isD9eq9r0sC9",
      "execution_count": null,
      "outputs": [
        {
          "output_type": "stream",
          "name": "stdout",
          "text": [
            "{'brand': 'Ford', 'model': 'Mustang', 'year': 1964}\n"
          ]
        }
      ]
    },
    {
      "cell_type": "markdown",
      "source": [
        "**Duplicates Not Allowed in Dictionaries**"
      ],
      "metadata": {
        "id": "cn3SWQFS09Hf"
      },
      "id": "cn3SWQFS09Hf"
    },
    {
      "cell_type": "code",
      "source": [
        "thisdict = {\n",
        "  \"brand\": \"Ford\",\n",
        "  \"model\": \"Mustang\",\n",
        "  \"year\": 1964,\n",
        "  \"year\": 2020\n",
        "}\n",
        "print(thisdict)\n",
        "\n",
        "#Duplicate values will overwrite existing values:"
      ],
      "metadata": {
        "id": "Yjee04cX1Df2",
        "outputId": "4ea7138f-da8c-4b00-f50d-8d164e31a2b4",
        "colab": {
          "base_uri": "https://localhost:8080/"
        }
      },
      "id": "Yjee04cX1Df2",
      "execution_count": null,
      "outputs": [
        {
          "output_type": "stream",
          "name": "stdout",
          "text": [
            "{'brand': 'Ford', 'model': 'Mustang', 'year': 2020}\n"
          ]
        }
      ]
    },
    {
      "cell_type": "code",
      "source": [
        "#changing values in dictionaries\n",
        "thisdict = {\n",
        "  \"brand\": \"Ford\",\n",
        "  \"model\": \"Mustang\",\n",
        "  \"year\": 1964\n",
        "}\n",
        "thisdict[\"year\"] = 2018\n",
        "\n",
        "print(thisdict)"
      ],
      "metadata": {
        "id": "t5cHihUm1QFO",
        "outputId": "de654e44-7beb-406c-8c19-63f36ba5126c",
        "colab": {
          "base_uri": "https://localhost:8080/"
        }
      },
      "id": "t5cHihUm1QFO",
      "execution_count": null,
      "outputs": [
        {
          "output_type": "stream",
          "name": "stdout",
          "text": [
            "{'brand': 'Ford', 'model': 'Mustang', 'year': 2018}\n"
          ]
        }
      ]
    },
    {
      "cell_type": "code",
      "source": [
        "#adding item in dictionaries\n",
        "thisdict = {\n",
        "  \"brand\": \"Ford\",\n",
        "  \"model\": \"Mustang\",\n",
        "  \"year\": 1964\n",
        "}\n",
        "thisdict[\"color\"] = \"red\"\n",
        "print(thisdict)"
      ],
      "metadata": {
        "id": "wkGTEPX91eBW",
        "outputId": "48652711-1540-4629-8f9e-521a583c99d4",
        "colab": {
          "base_uri": "https://localhost:8080/"
        }
      },
      "id": "wkGTEPX91eBW",
      "execution_count": null,
      "outputs": [
        {
          "output_type": "stream",
          "name": "stdout",
          "text": [
            "{'brand': 'Ford', 'model': 'Mustang', 'year': 1964, 'color': 'red'}\n"
          ]
        }
      ]
    },
    {
      "cell_type": "code",
      "source": [
        "#The pop() method removes the item with the specified key name\n",
        "thisdict = {\n",
        "  \"brand\": \"Ford\",\n",
        "  \"model\": \"Mustang\",\n",
        "  \"year\": 1964\n",
        "}\n",
        "thisdict[\"color\"] = \"red\"\n",
        "print(thisdict)"
      ],
      "metadata": {
        "id": "WuzvkZQ91l5u",
        "outputId": "9db3e8f4-e039-45b3-fe52-04e0bc438c45",
        "colab": {
          "base_uri": "https://localhost:8080/"
        }
      },
      "id": "WuzvkZQ91l5u",
      "execution_count": null,
      "outputs": [
        {
          "output_type": "stream",
          "name": "stdout",
          "text": [
            "{'brand': 'Ford', 'model': 'Mustang', 'year': 1964, 'color': 'red'}\n"
          ]
        }
      ]
    },
    {
      "cell_type": "code",
      "execution_count": null,
      "id": "21ec557e",
      "metadata": {
        "id": "21ec557e",
        "outputId": "75b071d3-fcd0-4249-a3c7-7329f65b07a6",
        "colab": {
          "base_uri": "https://localhost:8080/"
        }
      },
      "outputs": [
        {
          "output_type": "execute_result",
          "data": {
            "text/plain": [
              "True"
            ]
          },
          "metadata": {},
          "execution_count": 27
        }
      ],
      "source": [
        "10>=10\n"
      ]
    },
    {
      "cell_type": "markdown",
      "id": "0c3cc4e4",
      "metadata": {
        "id": "0c3cc4e4"
      },
      "source": [
        "# If..Else"
      ]
    },
    {
      "cell_type": "markdown",
      "id": "d600b1a1",
      "metadata": {
        "id": "d600b1a1"
      },
      "source": [
        "\n",
        "The if statement in Python is used for decision-making. It allows you to execute certain blocks of code based on whether a condition is true or false."
      ]
    },
    {
      "cell_type": "markdown",
      "id": "2babe4f7",
      "metadata": {
        "id": "2babe4f7"
      },
      "source": [
        "if condition: <br>\n",
        "    # block of code to execute if condition is true\n"
      ]
    },
    {
      "cell_type": "code",
      "execution_count": null,
      "id": "a33536f0",
      "metadata": {
        "id": "a33536f0",
        "outputId": "e3b620a0-b780-41eb-d397-7792e1d6bd92"
      },
      "outputs": [
        {
          "name": "stdout",
          "output_type": "stream",
          "text": [
            "True\n"
          ]
        }
      ],
      "source": [
        "if 10>5:\n",
        "    print(\"True\")"
      ]
    },
    {
      "cell_type": "code",
      "execution_count": null,
      "id": "14d2f1ce",
      "metadata": {
        "id": "14d2f1ce",
        "outputId": "bd2829c6-3b29-4b79-8620-308b3ef3c52f"
      },
      "outputs": [
        {
          "name": "stdout",
          "output_type": "stream",
          "text": [
            "a is exactly divisible by 3\n"
          ]
        }
      ],
      "source": [
        "a=12\n",
        "if a%3==0:\n",
        "    print(\"a is exactly divisible by 3\")"
      ]
    },
    {
      "cell_type": "markdown",
      "id": "4f6e2321",
      "metadata": {
        "id": "4f6e2321"
      },
      "source": [
        "Else"
      ]
    },
    {
      "cell_type": "code",
      "execution_count": null,
      "id": "696fbf1d",
      "metadata": {
        "id": "696fbf1d",
        "outputId": "8bbbe36a-afdc-4641-d96f-1b3e46bbbffd"
      },
      "outputs": [
        {
          "name": "stdout",
          "output_type": "stream",
          "text": [
            "Enter a day: sunday\n",
            "oops! Its working day\n"
          ]
        }
      ],
      "source": [
        "today=input(\"Enter a day: \")\n",
        "if today==\"saturday\":\n",
        "    print(\"Bravo its holiday\")\n",
        "else:\n",
        "    print(\"oops! Its working day\")"
      ]
    },
    {
      "cell_type": "markdown",
      "id": "807acfd5",
      "metadata": {
        "id": "807acfd5"
      },
      "source": [
        "el_if"
      ]
    },
    {
      "cell_type": "code",
      "execution_count": null,
      "id": "24878460",
      "metadata": {
        "id": "24878460",
        "outputId": "1df2a655-2a19-483d-d32d-f99116b62735"
      },
      "outputs": [
        {
          "name": "stdout",
          "output_type": "stream",
          "text": [
            "a is greater than b\n"
          ]
        }
      ],
      "source": [
        "a = 200\n",
        "b = 33\n",
        "if b > a:\n",
        "  print(\"b is greater than a\")\n",
        "elif a == b:\n",
        "  print(\"a and b are equal\")\n",
        "else:\n",
        "  print(\"a is greater than b\")"
      ]
    },
    {
      "cell_type": "markdown",
      "id": "2c8b1de2",
      "metadata": {
        "id": "2c8b1de2"
      },
      "source": [
        "# While loop"
      ]
    },
    {
      "cell_type": "code",
      "execution_count": null,
      "id": "83ede6c2",
      "metadata": {
        "id": "83ede6c2",
        "outputId": "a12f0fb2-5e27-4c5e-d201-efafee6b9a38"
      },
      "outputs": [
        {
          "name": "stdout",
          "output_type": "stream",
          "text": [
            "1\n",
            "2\n",
            "3\n",
            "4\n",
            "5\n"
          ]
        }
      ],
      "source": [
        "i = 1 #the inital value of i=1\n",
        "while i < 6: #we check the condition if i which is 1 is smaller than 6 or not.\n",
        "  print(i) #the value of is printed\n",
        "  i += 1 #the value of i is increased by 1\n",
        "#this program will run untill and unless the value of i is smaller than 6"
      ]
    },
    {
      "cell_type": "code",
      "execution_count": null,
      "id": "f27fd89c",
      "metadata": {
        "id": "f27fd89c",
        "outputId": "bb0011f1-0b61-4406-c3a7-3132942a4e4f"
      },
      "outputs": [
        {
          "name": "stdout",
          "output_type": "stream",
          "text": [
            "1\n",
            "2\n",
            "3\n",
            "4\n",
            "5\n",
            "i is no longer less than 6\n"
          ]
        }
      ],
      "source": [
        "#while_else\n",
        "i = 1\n",
        "while i < 6:\n",
        "  print(i)\n",
        "  i += 1\n",
        "else:\n",
        "  print(\"i is no longer less than 6\")"
      ]
    },
    {
      "cell_type": "markdown",
      "id": "c8864cc2",
      "metadata": {
        "id": "c8864cc2"
      },
      "source": [
        "# For Loop"
      ]
    },
    {
      "cell_type": "markdown",
      "id": "6029b6b8",
      "metadata": {
        "id": "6029b6b8"
      },
      "source": [
        "A for loop in Python is used to iterate over a sequence (such as a list, tuple, string, or range) and execute a block of code for each item in the sequence. It's a powerful tool for automating repetitive tasks and iterating over data structures."
      ]
    },
    {
      "cell_type": "markdown",
      "id": "c7dcf165",
      "metadata": {
        "id": "c7dcf165"
      },
      "source": [
        "Example 1: Iterating Over a List"
      ]
    },
    {
      "cell_type": "code",
      "execution_count": null,
      "id": "9059080b",
      "metadata": {
        "id": "9059080b",
        "outputId": "b8977ea8-5fb3-4596-87ed-50cd7b77360a"
      },
      "outputs": [
        {
          "name": "stdout",
          "output_type": "stream",
          "text": [
            "apple\n",
            "banana\n",
            "cherry\n"
          ]
        }
      ],
      "source": [
        "fruits = [\"apple\", \"banana\", \"cherry\"]\n",
        "\n",
        "for fruit in fruits:\n",
        "    print(fruit)\n"
      ]
    },
    {
      "cell_type": "markdown",
      "id": "8006b9f3",
      "metadata": {
        "id": "8006b9f3"
      },
      "source": [
        "# Example 2: Iterating Over a String"
      ]
    },
    {
      "cell_type": "code",
      "execution_count": null,
      "id": "0b69ff22",
      "metadata": {
        "id": "0b69ff22",
        "outputId": "fab2776e-c25b-490c-b188-a0a4405a9df2"
      },
      "outputs": [
        {
          "name": "stdout",
          "output_type": "stream",
          "text": [
            "P\n",
            "y\n",
            "t\n",
            "h\n",
            "o\n",
            "n\n"
          ]
        }
      ],
      "source": [
        "word = \"Python\"\n",
        "\n",
        "for letter in word:\n",
        "    print(letter)\n"
      ]
    },
    {
      "cell_type": "markdown",
      "id": "6e953dbc",
      "metadata": {
        "id": "6e953dbc"
      },
      "source": [
        "Example 3: Using the range() Function"
      ]
    },
    {
      "cell_type": "code",
      "execution_count": null,
      "id": "6d039576",
      "metadata": {
        "id": "6d039576",
        "outputId": "12bab320-488c-45d1-ee68-7082596edd40"
      },
      "outputs": [
        {
          "name": "stdout",
          "output_type": "stream",
          "text": [
            "0\n",
            "1\n",
            "2\n",
            "3\n",
            "4\n"
          ]
        }
      ],
      "source": [
        "for i in range(5):\n",
        "    print(i)\n"
      ]
    },
    {
      "cell_type": "code",
      "execution_count": null,
      "id": "149e6a94",
      "metadata": {
        "id": "149e6a94",
        "outputId": "b9eb2186-5072-4737-f209-f8367bbff764"
      },
      "outputs": [
        {
          "name": "stdout",
          "output_type": "stream",
          "text": [
            "2\n",
            "3\n",
            "4\n",
            "5\n",
            "6\n",
            "7\n",
            "8\n",
            "9\n"
          ]
        }
      ],
      "source": [
        "for i in range(2,10): #starts from 2\n",
        "    print(i)"
      ]
    },
    {
      "cell_type": "code",
      "execution_count": null,
      "id": "452b87df",
      "metadata": {
        "id": "452b87df",
        "outputId": "7203303a-59fa-4681-d3c3-baf30067dba8"
      },
      "outputs": [
        {
          "name": "stdout",
          "output_type": "stream",
          "text": [
            "2\n",
            "5\n",
            "8\n"
          ]
        }
      ],
      "source": [
        "for i in range(2,10,3): #jumps with step of 3\n",
        "    print(i)"
      ]
    },
    {
      "cell_type": "markdown",
      "id": "405ed441",
      "metadata": {
        "id": "405ed441"
      },
      "source": [
        "# Function"
      ]
    },
    {
      "cell_type": "markdown",
      "id": "64443572",
      "metadata": {
        "id": "64443572"
      },
      "source": [
        "function is a reusable block of code that performs a specific task. Functions help organize code into logical, manageable chunks, making it easier to read, debug, and maintain. They can take inputs, called parameters, and return outputs."
      ]
    },
    {
      "cell_type": "markdown",
      "id": "c3d8b09b",
      "metadata": {
        "id": "c3d8b09b"
      },
      "source": [
        "Defining a function"
      ]
    },
    {
      "cell_type": "code",
      "execution_count": null,
      "id": "106a303a",
      "metadata": {
        "id": "106a303a",
        "outputId": "d96b88fa-4413-4c12-ae07-cabe47f04ec7"
      },
      "outputs": [
        {
          "name": "stdout",
          "output_type": "stream",
          "text": [
            "Hello, World!\n"
          ]
        }
      ],
      "source": [
        "def greet(): #def is used to define the function and greet is the name of function\n",
        "    print(\"Hello, World!\")\n",
        "\n",
        "greet()  # Calling the function\n"
      ]
    },
    {
      "cell_type": "code",
      "execution_count": null,
      "id": "ec2e04ed",
      "metadata": {
        "id": "ec2e04ed"
      },
      "outputs": [],
      "source": [
        "#The above function named greet do print the hello world whenever it is called"
      ]
    },
    {
      "cell_type": "markdown",
      "id": "7bce17aa",
      "metadata": {
        "id": "7bce17aa"
      },
      "source": [
        "# Example 2: Function with Parameters"
      ]
    },
    {
      "cell_type": "code",
      "execution_count": null,
      "id": "89381e6b",
      "metadata": {
        "id": "89381e6b",
        "outputId": "ca32084a-d123-4aa8-b356-994c2ab0ee00"
      },
      "outputs": [
        {
          "name": "stdout",
          "output_type": "stream",
          "text": [
            "Hello, Ram!\n",
            "Hello, Sita!\n"
          ]
        }
      ],
      "source": [
        "def greet(name):\n",
        "    print(f\"Hello, {name}!\")\n",
        "\n",
        "greet(\"Ram\")  # Output: Hello, Alice!\n",
        "greet(\"Sita\")    # Output: Hello, Bob!\n"
      ]
    },
    {
      "cell_type": "markdown",
      "id": "b2966fd0",
      "metadata": {
        "id": "b2966fd0"
      },
      "source": [
        "In this example, the greet function takes one parameter, name, and uses it to personalize the greeting."
      ]
    },
    {
      "cell_type": "markdown",
      "id": "685d6876",
      "metadata": {
        "id": "685d6876"
      },
      "source": [
        "# Example 3: Function with Return Value"
      ]
    },
    {
      "cell_type": "code",
      "execution_count": null,
      "id": "e585a595",
      "metadata": {
        "id": "e585a595",
        "outputId": "fa7e66d2-5e91-40c6-b567-30dcad48d753"
      },
      "outputs": [
        {
          "name": "stdout",
          "output_type": "stream",
          "text": [
            "8\n"
          ]
        }
      ],
      "source": [
        "def add(a, b):\n",
        "    return a + b\n",
        "\n",
        "result = add(5, 3)\n",
        "print(result)  # Output: 8\n"
      ]
    },
    {
      "cell_type": "markdown",
      "id": "f703090b",
      "metadata": {
        "id": "f703090b"
      },
      "source": [
        "The add function takes two parameters, a and b, and returns their sum. The returned value is stored in the variable result."
      ]
    },
    {
      "cell_type": "markdown",
      "id": "370dc920",
      "metadata": {
        "id": "370dc920"
      },
      "source": [
        "# Example 4: Function with Default Parameters"
      ]
    },
    {
      "cell_type": "code",
      "execution_count": null,
      "id": "d357e0a4",
      "metadata": {
        "id": "d357e0a4",
        "outputId": "a693c294-c379-4cc1-f0a3-4829bbf1c534"
      },
      "outputs": [
        {
          "name": "stdout",
          "output_type": "stream",
          "text": [
            "Hello, Guest!\n",
            "Hello, Alice!\n"
          ]
        }
      ],
      "source": [
        "def greet(name=\"Guest\"):\n",
        "    print(f\"Hello, {name}!\")\n",
        "\n",
        "greet()         # Output: Hello, Guest!\n",
        "greet(\"Alice\")  # Output: Hello, Alice!\n"
      ]
    },
    {
      "cell_type": "markdown",
      "id": "dc367b64",
      "metadata": {
        "id": "dc367b64"
      },
      "source": [
        "The greet function here has a default parameter value of \"Guest\". If no argument is passed when the function is called, it uses the default value."
      ]
    },
    {
      "cell_type": "markdown",
      "id": "0c7b6e86",
      "metadata": {
        "id": "0c7b6e86"
      },
      "source": [
        "# TASK"
      ]
    },
    {
      "cell_type": "markdown",
      "id": "e6f58940",
      "metadata": {
        "id": "e6f58940"
      },
      "source": [
        "Question 1: Write a Python program that checks if a number is exactly divisble by 5 or not."
      ]
    },
    {
      "cell_type": "markdown",
      "id": "37c9d7d3",
      "metadata": {
        "id": "37c9d7d3"
      },
      "source": [
        "Question 2: Write a Python program that uses a for loop to iterate over a list of numbers and prints each number squared."
      ]
    },
    {
      "cell_type": "markdown",
      "id": "974e17bb",
      "metadata": {
        "id": "974e17bb"
      },
      "source": [
        "Question 3: Write a program, which creates a function named grade which has default grade as A and call the function with other parameters"
      ]
    },
    {
      "cell_type": "markdown",
      "source": [
        "## **NumPy**\n",
        "\n",
        "\n",
        "\n"
      ],
      "metadata": {
        "id": "YyfoQfuqsLO_"
      },
      "id": "YyfoQfuqsLO_"
    },
    {
      "cell_type": "markdown",
      "source": [
        "\n",
        "NumPy is a powerful library for numerical calculation in Python.<br>\n",
        "NumPy is used for working with arrays.<br>\n",
        "\n",
        "NumPy is short for \"Numerical Python\"."
      ],
      "metadata": {
        "id": "aBVRLKJ1scCj"
      },
      "id": "aBVRLKJ1scCj"
    },
    {
      "cell_type": "markdown",
      "source": [
        "NumPy is used to work with arrays. The array object in NumPy is called ndarray.<br>\n",
        "\n",
        "We can create a NumPy ndarray object by using the array() function."
      ],
      "metadata": {
        "id": "kjyAndCVtQ03"
      },
      "id": "kjyAndCVtQ03"
    },
    {
      "cell_type": "code",
      "source": [
        "import numpy as np\n",
        "arr = np.array([1, 2, 3, 4, 5])\n",
        "\n",
        "print(arr)\n",
        "\n",
        "print(type(arr))"
      ],
      "metadata": {
        "colab": {
          "base_uri": "https://localhost:8080/"
        },
        "id": "5bRZZEKitbeB",
        "outputId": "bc8754f3-d8fa-466c-e6e6-093659de2117"
      },
      "id": "5bRZZEKitbeB",
      "execution_count": 2,
      "outputs": [
        {
          "output_type": "stream",
          "name": "stdout",
          "text": [
            "[1 2 3 4 5]\n",
            "<class 'numpy.ndarray'>\n"
          ]
        }
      ]
    },
    {
      "cell_type": "markdown",
      "source": [
        "**Array Dimension**"
      ],
      "metadata": {
        "id": "pYZQigNPtw8I"
      },
      "id": "pYZQigNPtw8I"
    },
    {
      "cell_type": "markdown",
      "source": [
        "**1D**"
      ],
      "metadata": {
        "id": "r6sSguoltyGa"
      },
      "id": "r6sSguoltyGa"
    },
    {
      "cell_type": "code",
      "source": [
        "import numpy as np\n",
        "\n",
        "arr = np.array([1, 2, 3, 4, 5])\n",
        "\n",
        "print(arr)"
      ],
      "metadata": {
        "colab": {
          "base_uri": "https://localhost:8080/"
        },
        "id": "fBww-kOStkgj",
        "outputId": "5f44dd53-507d-47be-f562-f72678db2e56"
      },
      "id": "fBww-kOStkgj",
      "execution_count": 3,
      "outputs": [
        {
          "output_type": "stream",
          "name": "stdout",
          "text": [
            "[1 2 3 4 5]\n"
          ]
        }
      ]
    },
    {
      "cell_type": "markdown",
      "source": [
        "**2D**"
      ],
      "metadata": {
        "id": "-dAylbdKuBLu"
      },
      "id": "-dAylbdKuBLu"
    },
    {
      "cell_type": "code",
      "source": [
        "import numpy as np\n",
        "\n",
        "arr = np.array([[1, 2, 3], [4, 5, 6]])\n",
        "\n",
        "print(arr)"
      ],
      "metadata": {
        "colab": {
          "base_uri": "https://localhost:8080/"
        },
        "id": "TV5Qsi_2t-Vy",
        "outputId": "1c3225e7-4f15-4e6c-ea8f-2e533d22d962"
      },
      "id": "TV5Qsi_2t-Vy",
      "execution_count": 4,
      "outputs": [
        {
          "output_type": "stream",
          "name": "stdout",
          "text": [
            "[[1 2 3]\n",
            " [4 5 6]]\n"
          ]
        }
      ]
    },
    {
      "cell_type": "markdown",
      "source": [
        "**3D**"
      ],
      "metadata": {
        "id": "8nKJ4sYDuMyO"
      },
      "id": "8nKJ4sYDuMyO"
    },
    {
      "cell_type": "code",
      "source": [
        "import numpy as np\n",
        "\n",
        "arr = np.array([[[1, 2, 3], [4, 5, 6]], [[1, 2, 3], [4, 5, 6]]])\n",
        "\n",
        "print(arr)"
      ],
      "metadata": {
        "colab": {
          "base_uri": "https://localhost:8080/"
        },
        "id": "IP5-rDtEuNpp",
        "outputId": "02eb1700-2135-401c-8a70-e307f2218ce5"
      },
      "id": "IP5-rDtEuNpp",
      "execution_count": 5,
      "outputs": [
        {
          "output_type": "stream",
          "name": "stdout",
          "text": [
            "[[[1 2 3]\n",
            "  [4 5 6]]\n",
            "\n",
            " [[1 2 3]\n",
            "  [4 5 6]]]\n"
          ]
        }
      ]
    },
    {
      "cell_type": "markdown",
      "source": [
        "**Array Indexing**"
      ],
      "metadata": {
        "id": "e-3Ed7cZubbr"
      },
      "id": "e-3Ed7cZubbr"
    },
    {
      "cell_type": "code",
      "source": [
        "import numpy as np\n",
        "myarr=np.array([2,3,8,1,3])\n",
        "print(myarr[3]+myarr[2])"
      ],
      "metadata": {
        "colab": {
          "base_uri": "https://localhost:8080/"
        },
        "id": "sy3wddFeuFT9",
        "outputId": "455dc9ed-f148-45d3-9862-31d1f43ea193"
      },
      "id": "sy3wddFeuFT9",
      "execution_count": 6,
      "outputs": [
        {
          "output_type": "stream",
          "name": "stdout",
          "text": [
            "9\n"
          ]
        }
      ]
    },
    {
      "cell_type": "code",
      "source": [
        "import numpy as np\n",
        "myarr1=np.array([[[1,2,3],[2,4,6]],[[3,6,9],[5,10,15]]])\n",
        "print(myarr1)"
      ],
      "metadata": {
        "colab": {
          "base_uri": "https://localhost:8080/"
        },
        "id": "N4DXWzz6u6jq",
        "outputId": "8f9531fd-e921-4f5a-e494-0012cfaf6643"
      },
      "id": "N4DXWzz6u6jq",
      "execution_count": 9,
      "outputs": [
        {
          "output_type": "stream",
          "name": "stdout",
          "text": [
            "[[[ 1  2  3]\n",
            "  [ 2  4  6]]\n",
            "\n",
            " [[ 3  6  9]\n",
            "  [ 5 10 15]]]\n"
          ]
        }
      ]
    },
    {
      "cell_type": "code",
      "source": [
        "print(myarr1[1,1])"
      ],
      "metadata": {
        "colab": {
          "base_uri": "https://localhost:8080/"
        },
        "id": "sMsL9sPnvQK6",
        "outputId": "9ec73587-1d0f-4bc8-ab68-fe73e3cc544f"
      },
      "id": "sMsL9sPnvQK6",
      "execution_count": 11,
      "outputs": [
        {
          "output_type": "stream",
          "name": "stdout",
          "text": [
            "[ 5 10 15]\n"
          ]
        }
      ]
    },
    {
      "cell_type": "code",
      "source": [
        "print(myarr1[1,1,2])"
      ],
      "metadata": {
        "colab": {
          "base_uri": "https://localhost:8080/"
        },
        "id": "tkX0VhDrvgHX",
        "outputId": "af03a828-ef79-48eb-d57b-6cb1a9986d29"
      },
      "id": "tkX0VhDrvgHX",
      "execution_count": 13,
      "outputs": [
        {
          "output_type": "stream",
          "name": "stdout",
          "text": [
            "15\n"
          ]
        }
      ]
    },
    {
      "cell_type": "markdown",
      "source": [
        "**Task:**<br>\n",
        "\n",
        "WAP to find the element 6 and 4 from the above array myarr1\n"
      ],
      "metadata": {
        "id": "miC6VRgavvQN"
      },
      "id": "miC6VRgavvQN"
    },
    {
      "cell_type": "markdown",
      "source": [
        "**Array Iterating**"
      ],
      "metadata": {
        "id": "3NlVp8O5wQYh"
      },
      "id": "3NlVp8O5wQYh"
    },
    {
      "cell_type": "code",
      "source": [
        "import numpy as np\n",
        "\n",
        "arr = np.array([1, 2, 3])\n",
        "\n",
        "for x in arr:\n",
        "  print(x)"
      ],
      "metadata": {
        "colab": {
          "base_uri": "https://localhost:8080/"
        },
        "id": "2S8Tr7fSvrxs",
        "outputId": "2d9ca276-283b-4414-f58a-a661b56bcd19"
      },
      "id": "2S8Tr7fSvrxs",
      "execution_count": 14,
      "outputs": [
        {
          "output_type": "stream",
          "name": "stdout",
          "text": [
            "1\n",
            "2\n",
            "3\n"
          ]
        }
      ]
    },
    {
      "cell_type": "code",
      "source": [
        "#iterating 2d array\n",
        "import numpy as np\n",
        "\n",
        "arr = np.array([[1, 2, 3], [4, 5, 6]])\n",
        "\n",
        "for x in arr:\n",
        "  print(x)"
      ],
      "metadata": {
        "colab": {
          "base_uri": "https://localhost:8080/"
        },
        "id": "wlscghTRwXFF",
        "outputId": "bd871b70-518b-434c-bbd0-25286564e3b5"
      },
      "id": "wlscghTRwXFF",
      "execution_count": 15,
      "outputs": [
        {
          "output_type": "stream",
          "name": "stdout",
          "text": [
            "[1 2 3]\n",
            "[4 5 6]\n"
          ]
        }
      ]
    },
    {
      "cell_type": "markdown",
      "source": [
        "**Array Join**"
      ],
      "metadata": {
        "id": "T_akdyWTwp5E"
      },
      "id": "T_akdyWTwp5E"
    },
    {
      "cell_type": "markdown",
      "source": [
        "concatenate() function"
      ],
      "metadata": {
        "id": "Sh6aqu--wwYE"
      },
      "id": "Sh6aqu--wwYE"
    },
    {
      "cell_type": "code",
      "source": [
        "import numpy as np\n",
        "\n",
        "arr1 = np.array([1, 2, 3])\n",
        "\n",
        "arr2 = np.array([4, 5, 6])\n",
        "\n",
        "arr = np.concatenate((arr1, arr2))\n",
        "\n",
        "print(arr)"
      ],
      "metadata": {
        "colab": {
          "base_uri": "https://localhost:8080/"
        },
        "id": "hW6jTQJ4wdK3",
        "outputId": "e4b1af3a-dfb7-46f6-a668-00dcd9104633"
      },
      "id": "hW6jTQJ4wdK3",
      "execution_count": 17,
      "outputs": [
        {
          "output_type": "stream",
          "name": "stdout",
          "text": [
            "[1 2 3 4 5 6]\n"
          ]
        }
      ]
    },
    {
      "cell_type": "markdown",
      "source": [
        "**Array Spliting**"
      ],
      "metadata": {
        "id": "r8oyICHkxNnR"
      },
      "id": "r8oyICHkxNnR"
    },
    {
      "cell_type": "code",
      "source": [
        "import numpy as np\n",
        "\n",
        "arr = np.array([1, 2, 3, 4, 5, 6,7])\n",
        "\n",
        "newarr = np.array_split(arr, 3)\n",
        "\n",
        "print(newarr)"
      ],
      "metadata": {
        "colab": {
          "base_uri": "https://localhost:8080/"
        },
        "id": "lDbWwSSPwvpg",
        "outputId": "7975c042-993f-4eb0-ab38-4c3e12398dbb"
      },
      "id": "lDbWwSSPwvpg",
      "execution_count": 18,
      "outputs": [
        {
          "output_type": "stream",
          "name": "stdout",
          "text": [
            "[array([1, 2, 3]), array([4, 5]), array([6, 7])]\n"
          ]
        }
      ]
    },
    {
      "cell_type": "markdown",
      "source": [
        "**Array Sorting**"
      ],
      "metadata": {
        "id": "UpMRHGsrxX1K"
      },
      "id": "UpMRHGsrxX1K"
    },
    {
      "cell_type": "code",
      "source": [
        "import numpy as np\n",
        "\n",
        "arr = np.array([3, 2, 0, 1])\n",
        "\n",
        "print(np.sort(arr))"
      ],
      "metadata": {
        "colab": {
          "base_uri": "https://localhost:8080/"
        },
        "id": "VAFms2L0xHj0",
        "outputId": "ee678469-c75c-47b8-9eeb-1da1e7ddf03f"
      },
      "id": "VAFms2L0xHj0",
      "execution_count": 19,
      "outputs": [
        {
          "output_type": "stream",
          "name": "stdout",
          "text": [
            "[0 1 2 3]\n"
          ]
        }
      ]
    },
    {
      "cell_type": "code",
      "source": [
        "#sorting 2d array\n",
        "import numpy as np\n",
        "\n",
        "arr = np.array([[3, 2, 4], [5, 0, 1]])\n",
        "\n",
        "print(np.sort(arr))"
      ],
      "metadata": {
        "colab": {
          "base_uri": "https://localhost:8080/"
        },
        "id": "zU6Hg1W3xcn-",
        "outputId": "5f1dc742-d40f-43ca-966e-ea2b4d81e213"
      },
      "id": "zU6Hg1W3xcn-",
      "execution_count": 22,
      "outputs": [
        {
          "output_type": "stream",
          "name": "stdout",
          "text": [
            "[[2 3 4]\n",
            " [0 1 5]]\n"
          ]
        }
      ]
    },
    {
      "cell_type": "markdown",
      "source": [
        "**Pandas**\n"
      ],
      "metadata": {
        "id": "-kSD8ISkx4HF"
      },
      "id": "-kSD8ISkx4HF"
    },
    {
      "cell_type": "markdown",
      "source": [
        "**Pandas is a Python library used for working with data sets.<br>\n",
        "Used for data manipulation and analysis.<br>\n",
        "It provides data structures like Series and DataFrame, which make it easy to work with structured data. **"
      ],
      "metadata": {
        "id": "qIi4aCMHx-HK"
      },
      "id": "qIi4aCMHx-HK"
    },
    {
      "cell_type": "markdown",
      "source": [
        "**Series**\n",
        "A Series is a one-dimensional labeled array capable of holding any data type.<br>\n",
        "A Pandas Series is like a column in a table.<br>\n",
        "\n",
        "It is a one-dimensional array holding data of any type.\n"
      ],
      "metadata": {
        "id": "zgHCy-c3zepv"
      },
      "id": "zgHCy-c3zepv"
    },
    {
      "cell_type": "code",
      "source": [
        "import pandas as pd\n",
        "\n",
        "x = [11,22,33]\n",
        "\n",
        "y = pd.Series(x)\n",
        "\n",
        "print(y)\n",
        "\n",
        "#the output 0 1 2 are called labels\n"
      ],
      "metadata": {
        "colab": {
          "base_uri": "https://localhost:8080/"
        },
        "id": "eaeOvOeay5rK",
        "outputId": "020cf39b-360b-457d-bf15-6442b0185c5c"
      },
      "id": "eaeOvOeay5rK",
      "execution_count": 26,
      "outputs": [
        {
          "output_type": "stream",
          "name": "stdout",
          "text": [
            "0    11\n",
            "1    22\n",
            "2    33\n",
            "dtype: int64\n"
          ]
        }
      ]
    },
    {
      "cell_type": "markdown",
      "source": [
        "**Dataframe**<br>\n",
        "A Pandas DataFrame is a 2 dimensional data structure, like a 2 dimensional array, or a table with rows and columns."
      ],
      "metadata": {
        "id": "M1bXIdzH0Q6R"
      },
      "id": "M1bXIdzH0Q6R"
    },
    {
      "cell_type": "code",
      "source": [
        "import pandas as pd\n",
        "\n",
        "data = {\n",
        "  \"calories\": [420, 380, 390],\n",
        "  \"duration\": [50, 40, 45]\n",
        "}\n",
        "\n",
        "#loading data into a DataFrame object:\n",
        "df = pd.DataFrame(data)\n",
        "\n",
        "print(df)"
      ],
      "metadata": {
        "colab": {
          "base_uri": "https://localhost:8080/"
        },
        "id": "1l8yELpg0ElW",
        "outputId": "26b576c4-26dd-41cf-d711-92b7a6e4381c"
      },
      "id": "1l8yELpg0ElW",
      "execution_count": 29,
      "outputs": [
        {
          "output_type": "stream",
          "name": "stdout",
          "text": [
            "   calories  duration\n",
            "0       420        50\n",
            "1       380        40\n",
            "2       390        45\n"
          ]
        }
      ]
    },
    {
      "cell_type": "markdown",
      "source": [
        "**Reading CSV file**"
      ],
      "metadata": {
        "id": "tEmnFRL91Tp1"
      },
      "id": "tEmnFRL91Tp1"
    },
    {
      "cell_type": "code",
      "source": [
        "#creating labels according to user requirements\n",
        "import pandas as pd\n",
        "\n",
        "a = [1, 7, 2]\n",
        "\n",
        "myvar = pd.Series(a, index = [\"x\", \"y\", \"z\"])\n",
        "\n",
        "print(myvar)\n",
        "\n"
      ],
      "metadata": {
        "colab": {
          "base_uri": "https://localhost:8080/",
          "height": 432
        },
        "id": "kUykg0pbxhMQ",
        "outputId": "e15caed6-d367-4ae7-f9a8-15b16f421e0c"
      },
      "id": "kUykg0pbxhMQ",
      "execution_count": 40,
      "outputs": [
        {
          "output_type": "stream",
          "name": "stdout",
          "text": [
            "x    1\n",
            "y    7\n",
            "z    2\n",
            "dtype: int64\n"
          ]
        },
        {
          "output_type": "execute_result",
          "data": {
            "text/plain": [
              "   Duration  Pulse  Maxpulse  Calories\n",
              "0        60    110       130     409.1\n",
              "1        60    117       145     479.0\n",
              "2        60    103       135     340.0\n",
              "3        45    109       175     282.4\n",
              "4        45    117       148     406.0\n",
              "5        60    102       127     300.0\n",
              "6        60    110       136     374.0\n",
              "7        45    104       134     253.3\n",
              "8        30    109       133     195.1\n",
              "9        60     98       124     269.0"
            ],
            "text/html": [
              "\n",
              "  <div id=\"df-14b660d5-a6b8-4c62-9a6e-05338505cbe1\" class=\"colab-df-container\">\n",
              "    <div>\n",
              "<style scoped>\n",
              "    .dataframe tbody tr th:only-of-type {\n",
              "        vertical-align: middle;\n",
              "    }\n",
              "\n",
              "    .dataframe tbody tr th {\n",
              "        vertical-align: top;\n",
              "    }\n",
              "\n",
              "    .dataframe thead th {\n",
              "        text-align: right;\n",
              "    }\n",
              "</style>\n",
              "<table border=\"1\" class=\"dataframe\">\n",
              "  <thead>\n",
              "    <tr style=\"text-align: right;\">\n",
              "      <th></th>\n",
              "      <th>Duration</th>\n",
              "      <th>Pulse</th>\n",
              "      <th>Maxpulse</th>\n",
              "      <th>Calories</th>\n",
              "    </tr>\n",
              "  </thead>\n",
              "  <tbody>\n",
              "    <tr>\n",
              "      <th>0</th>\n",
              "      <td>60</td>\n",
              "      <td>110</td>\n",
              "      <td>130</td>\n",
              "      <td>409.1</td>\n",
              "    </tr>\n",
              "    <tr>\n",
              "      <th>1</th>\n",
              "      <td>60</td>\n",
              "      <td>117</td>\n",
              "      <td>145</td>\n",
              "      <td>479.0</td>\n",
              "    </tr>\n",
              "    <tr>\n",
              "      <th>2</th>\n",
              "      <td>60</td>\n",
              "      <td>103</td>\n",
              "      <td>135</td>\n",
              "      <td>340.0</td>\n",
              "    </tr>\n",
              "    <tr>\n",
              "      <th>3</th>\n",
              "      <td>45</td>\n",
              "      <td>109</td>\n",
              "      <td>175</td>\n",
              "      <td>282.4</td>\n",
              "    </tr>\n",
              "    <tr>\n",
              "      <th>4</th>\n",
              "      <td>45</td>\n",
              "      <td>117</td>\n",
              "      <td>148</td>\n",
              "      <td>406.0</td>\n",
              "    </tr>\n",
              "    <tr>\n",
              "      <th>5</th>\n",
              "      <td>60</td>\n",
              "      <td>102</td>\n",
              "      <td>127</td>\n",
              "      <td>300.0</td>\n",
              "    </tr>\n",
              "    <tr>\n",
              "      <th>6</th>\n",
              "      <td>60</td>\n",
              "      <td>110</td>\n",
              "      <td>136</td>\n",
              "      <td>374.0</td>\n",
              "    </tr>\n",
              "    <tr>\n",
              "      <th>7</th>\n",
              "      <td>45</td>\n",
              "      <td>104</td>\n",
              "      <td>134</td>\n",
              "      <td>253.3</td>\n",
              "    </tr>\n",
              "    <tr>\n",
              "      <th>8</th>\n",
              "      <td>30</td>\n",
              "      <td>109</td>\n",
              "      <td>133</td>\n",
              "      <td>195.1</td>\n",
              "    </tr>\n",
              "    <tr>\n",
              "      <th>9</th>\n",
              "      <td>60</td>\n",
              "      <td>98</td>\n",
              "      <td>124</td>\n",
              "      <td>269.0</td>\n",
              "    </tr>\n",
              "  </tbody>\n",
              "</table>\n",
              "</div>\n",
              "    <div class=\"colab-df-buttons\">\n",
              "\n",
              "  <div class=\"colab-df-container\">\n",
              "    <button class=\"colab-df-convert\" onclick=\"convertToInteractive('df-14b660d5-a6b8-4c62-9a6e-05338505cbe1')\"\n",
              "            title=\"Convert this dataframe to an interactive table.\"\n",
              "            style=\"display:none;\">\n",
              "\n",
              "  <svg xmlns=\"http://www.w3.org/2000/svg\" height=\"24px\" viewBox=\"0 -960 960 960\">\n",
              "    <path d=\"M120-120v-720h720v720H120Zm60-500h600v-160H180v160Zm220 220h160v-160H400v160Zm0 220h160v-160H400v160ZM180-400h160v-160H180v160Zm440 0h160v-160H620v160ZM180-180h160v-160H180v160Zm440 0h160v-160H620v160Z\"/>\n",
              "  </svg>\n",
              "    </button>\n",
              "\n",
              "  <style>\n",
              "    .colab-df-container {\n",
              "      display:flex;\n",
              "      gap: 12px;\n",
              "    }\n",
              "\n",
              "    .colab-df-convert {\n",
              "      background-color: #E8F0FE;\n",
              "      border: none;\n",
              "      border-radius: 50%;\n",
              "      cursor: pointer;\n",
              "      display: none;\n",
              "      fill: #1967D2;\n",
              "      height: 32px;\n",
              "      padding: 0 0 0 0;\n",
              "      width: 32px;\n",
              "    }\n",
              "\n",
              "    .colab-df-convert:hover {\n",
              "      background-color: #E2EBFA;\n",
              "      box-shadow: 0px 1px 2px rgba(60, 64, 67, 0.3), 0px 1px 3px 1px rgba(60, 64, 67, 0.15);\n",
              "      fill: #174EA6;\n",
              "    }\n",
              "\n",
              "    .colab-df-buttons div {\n",
              "      margin-bottom: 4px;\n",
              "    }\n",
              "\n",
              "    [theme=dark] .colab-df-convert {\n",
              "      background-color: #3B4455;\n",
              "      fill: #D2E3FC;\n",
              "    }\n",
              "\n",
              "    [theme=dark] .colab-df-convert:hover {\n",
              "      background-color: #434B5C;\n",
              "      box-shadow: 0px 1px 3px 1px rgba(0, 0, 0, 0.15);\n",
              "      filter: drop-shadow(0px 1px 2px rgba(0, 0, 0, 0.3));\n",
              "      fill: #FFFFFF;\n",
              "    }\n",
              "  </style>\n",
              "\n",
              "    <script>\n",
              "      const buttonEl =\n",
              "        document.querySelector('#df-14b660d5-a6b8-4c62-9a6e-05338505cbe1 button.colab-df-convert');\n",
              "      buttonEl.style.display =\n",
              "        google.colab.kernel.accessAllowed ? 'block' : 'none';\n",
              "\n",
              "      async function convertToInteractive(key) {\n",
              "        const element = document.querySelector('#df-14b660d5-a6b8-4c62-9a6e-05338505cbe1');\n",
              "        const dataTable =\n",
              "          await google.colab.kernel.invokeFunction('convertToInteractive',\n",
              "                                                    [key], {});\n",
              "        if (!dataTable) return;\n",
              "\n",
              "        const docLinkHtml = 'Like what you see? Visit the ' +\n",
              "          '<a target=\"_blank\" href=https://colab.research.google.com/notebooks/data_table.ipynb>data table notebook</a>'\n",
              "          + ' to learn more about interactive tables.';\n",
              "        element.innerHTML = '';\n",
              "        dataTable['output_type'] = 'display_data';\n",
              "        await google.colab.output.renderOutput(dataTable, element);\n",
              "        const docLink = document.createElement('div');\n",
              "        docLink.innerHTML = docLinkHtml;\n",
              "        element.appendChild(docLink);\n",
              "      }\n",
              "    </script>\n",
              "  </div>\n",
              "\n",
              "\n",
              "<div id=\"df-70992c56-15be-4522-a1f4-1234f4f7a7b3\">\n",
              "  <button class=\"colab-df-quickchart\" onclick=\"quickchart('df-70992c56-15be-4522-a1f4-1234f4f7a7b3')\"\n",
              "            title=\"Suggest charts\"\n",
              "            style=\"display:none;\">\n",
              "\n",
              "<svg xmlns=\"http://www.w3.org/2000/svg\" height=\"24px\"viewBox=\"0 0 24 24\"\n",
              "     width=\"24px\">\n",
              "    <g>\n",
              "        <path d=\"M19 3H5c-1.1 0-2 .9-2 2v14c0 1.1.9 2 2 2h14c1.1 0 2-.9 2-2V5c0-1.1-.9-2-2-2zM9 17H7v-7h2v7zm4 0h-2V7h2v10zm4 0h-2v-4h2v4z\"/>\n",
              "    </g>\n",
              "</svg>\n",
              "  </button>\n",
              "\n",
              "<style>\n",
              "  .colab-df-quickchart {\n",
              "      --bg-color: #E8F0FE;\n",
              "      --fill-color: #1967D2;\n",
              "      --hover-bg-color: #E2EBFA;\n",
              "      --hover-fill-color: #174EA6;\n",
              "      --disabled-fill-color: #AAA;\n",
              "      --disabled-bg-color: #DDD;\n",
              "  }\n",
              "\n",
              "  [theme=dark] .colab-df-quickchart {\n",
              "      --bg-color: #3B4455;\n",
              "      --fill-color: #D2E3FC;\n",
              "      --hover-bg-color: #434B5C;\n",
              "      --hover-fill-color: #FFFFFF;\n",
              "      --disabled-bg-color: #3B4455;\n",
              "      --disabled-fill-color: #666;\n",
              "  }\n",
              "\n",
              "  .colab-df-quickchart {\n",
              "    background-color: var(--bg-color);\n",
              "    border: none;\n",
              "    border-radius: 50%;\n",
              "    cursor: pointer;\n",
              "    display: none;\n",
              "    fill: var(--fill-color);\n",
              "    height: 32px;\n",
              "    padding: 0;\n",
              "    width: 32px;\n",
              "  }\n",
              "\n",
              "  .colab-df-quickchart:hover {\n",
              "    background-color: var(--hover-bg-color);\n",
              "    box-shadow: 0 1px 2px rgba(60, 64, 67, 0.3), 0 1px 3px 1px rgba(60, 64, 67, 0.15);\n",
              "    fill: var(--button-hover-fill-color);\n",
              "  }\n",
              "\n",
              "  .colab-df-quickchart-complete:disabled,\n",
              "  .colab-df-quickchart-complete:disabled:hover {\n",
              "    background-color: var(--disabled-bg-color);\n",
              "    fill: var(--disabled-fill-color);\n",
              "    box-shadow: none;\n",
              "  }\n",
              "\n",
              "  .colab-df-spinner {\n",
              "    border: 2px solid var(--fill-color);\n",
              "    border-color: transparent;\n",
              "    border-bottom-color: var(--fill-color);\n",
              "    animation:\n",
              "      spin 1s steps(1) infinite;\n",
              "  }\n",
              "\n",
              "  @keyframes spin {\n",
              "    0% {\n",
              "      border-color: transparent;\n",
              "      border-bottom-color: var(--fill-color);\n",
              "      border-left-color: var(--fill-color);\n",
              "    }\n",
              "    20% {\n",
              "      border-color: transparent;\n",
              "      border-left-color: var(--fill-color);\n",
              "      border-top-color: var(--fill-color);\n",
              "    }\n",
              "    30% {\n",
              "      border-color: transparent;\n",
              "      border-left-color: var(--fill-color);\n",
              "      border-top-color: var(--fill-color);\n",
              "      border-right-color: var(--fill-color);\n",
              "    }\n",
              "    40% {\n",
              "      border-color: transparent;\n",
              "      border-right-color: var(--fill-color);\n",
              "      border-top-color: var(--fill-color);\n",
              "    }\n",
              "    60% {\n",
              "      border-color: transparent;\n",
              "      border-right-color: var(--fill-color);\n",
              "    }\n",
              "    80% {\n",
              "      border-color: transparent;\n",
              "      border-right-color: var(--fill-color);\n",
              "      border-bottom-color: var(--fill-color);\n",
              "    }\n",
              "    90% {\n",
              "      border-color: transparent;\n",
              "      border-bottom-color: var(--fill-color);\n",
              "    }\n",
              "  }\n",
              "</style>\n",
              "\n",
              "  <script>\n",
              "    async function quickchart(key) {\n",
              "      const quickchartButtonEl =\n",
              "        document.querySelector('#' + key + ' button');\n",
              "      quickchartButtonEl.disabled = true;  // To prevent multiple clicks.\n",
              "      quickchartButtonEl.classList.add('colab-df-spinner');\n",
              "      try {\n",
              "        const charts = await google.colab.kernel.invokeFunction(\n",
              "            'suggestCharts', [key], {});\n",
              "      } catch (error) {\n",
              "        console.error('Error during call to suggestCharts:', error);\n",
              "      }\n",
              "      quickchartButtonEl.classList.remove('colab-df-spinner');\n",
              "      quickchartButtonEl.classList.add('colab-df-quickchart-complete');\n",
              "    }\n",
              "    (() => {\n",
              "      let quickchartButtonEl =\n",
              "        document.querySelector('#df-70992c56-15be-4522-a1f4-1234f4f7a7b3 button');\n",
              "      quickchartButtonEl.style.display =\n",
              "        google.colab.kernel.accessAllowed ? 'block' : 'none';\n",
              "    })();\n",
              "  </script>\n",
              "</div>\n",
              "\n",
              "    </div>\n",
              "  </div>\n"
            ],
            "application/vnd.google.colaboratory.intrinsic+json": {
              "type": "dataframe",
              "variable_name": "df",
              "summary": "{\n  \"name\": \"df\",\n  \"rows\": 169,\n  \"fields\": [\n    {\n      \"column\": \"Duration\",\n      \"properties\": {\n        \"dtype\": \"number\",\n        \"std\": 42,\n        \"min\": 15,\n        \"max\": 300,\n        \"num_unique_values\": 16,\n        \"samples\": [\n          60,\n          45,\n          210\n        ],\n        \"semantic_type\": \"\",\n        \"description\": \"\"\n      }\n    },\n    {\n      \"column\": \"Pulse\",\n      \"properties\": {\n        \"dtype\": \"number\",\n        \"std\": 14,\n        \"min\": 80,\n        \"max\": 159,\n        \"num_unique_values\": 47,\n        \"samples\": [\n          159,\n          112,\n          153\n        ],\n        \"semantic_type\": \"\",\n        \"description\": \"\"\n      }\n    },\n    {\n      \"column\": \"Maxpulse\",\n      \"properties\": {\n        \"dtype\": \"number\",\n        \"std\": 16,\n        \"min\": 100,\n        \"max\": 184,\n        \"num_unique_values\": 57,\n        \"samples\": [\n          130,\n          127,\n          146\n        ],\n        \"semantic_type\": \"\",\n        \"description\": \"\"\n      }\n    },\n    {\n      \"column\": \"Calories\",\n      \"properties\": {\n        \"dtype\": \"number\",\n        \"std\": 266.3799192443516,\n        \"min\": 50.3,\n        \"max\": 1860.4,\n        \"num_unique_values\": 142,\n        \"samples\": [\n          328.0,\n          282.0,\n          229.4\n        ],\n        \"semantic_type\": \"\",\n        \"description\": \"\"\n      }\n    }\n  ]\n}"
            }
          },
          "metadata": {},
          "execution_count": 40
        }
      ]
    },
    {
      "cell_type": "markdown",
      "source": [
        "A CSV (Comma-Separated Values) file is a plain text file that stores tabular data in a structured format."
      ],
      "metadata": {
        "id": "a0283Qnk1eHF"
      },
      "id": "a0283Qnk1eHF"
    },
    {
      "cell_type": "code",
      "source": [
        "import pandas as pd\n",
        "path=\"/content/pandas dataset.csv\"\n",
        "\n",
        "df = pd.read_csv(path)\n",
        "\n",
        "print(df.to_string())\n",
        "df.head(5)"
      ],
      "metadata": {
        "colab": {
          "base_uri": "https://localhost:8080/",
          "height": 3198
        },
        "id": "kbx49Tud1kxf",
        "outputId": "b6b38d5c-d713-4c0e-e05e-74254111450f"
      },
      "id": "kbx49Tud1kxf",
      "execution_count": 41,
      "outputs": [
        {
          "output_type": "stream",
          "name": "stdout",
          "text": [
            "     Duration  Pulse  Maxpulse  Calories\n",
            "0          60    110       130     409.1\n",
            "1          60    117       145     479.0\n",
            "2          60    103       135     340.0\n",
            "3          45    109       175     282.4\n",
            "4          45    117       148     406.0\n",
            "5          60    102       127     300.0\n",
            "6          60    110       136     374.0\n",
            "7          45    104       134     253.3\n",
            "8          30    109       133     195.1\n",
            "9          60     98       124     269.0\n",
            "10         60    103       147     329.3\n",
            "11         60    100       120     250.7\n",
            "12         60    106       128     345.3\n",
            "13         60    104       132     379.3\n",
            "14         60     98       123     275.0\n",
            "15         60     98       120     215.2\n",
            "16         60    100       120     300.0\n",
            "17         45     90       112       NaN\n",
            "18         60    103       123     323.0\n",
            "19         45     97       125     243.0\n",
            "20         60    108       131     364.2\n",
            "21         45    100       119     282.0\n",
            "22         60    130       101     300.0\n",
            "23         45    105       132     246.0\n",
            "24         60    102       126     334.5\n",
            "25         60    100       120     250.0\n",
            "26         60     92       118     241.0\n",
            "27         60    103       132       NaN\n",
            "28         60    100       132     280.0\n",
            "29         60    102       129     380.3\n",
            "30         60     92       115     243.0\n",
            "31         45     90       112     180.1\n",
            "32         60    101       124     299.0\n",
            "33         60     93       113     223.0\n",
            "34         60    107       136     361.0\n",
            "35         60    114       140     415.0\n",
            "36         60    102       127     300.0\n",
            "37         60    100       120     300.0\n",
            "38         60    100       120     300.0\n",
            "39         45    104       129     266.0\n",
            "40         45     90       112     180.1\n",
            "41         60     98       126     286.0\n",
            "42         60    100       122     329.4\n",
            "43         60    111       138     400.0\n",
            "44         60    111       131     397.0\n",
            "45         60     99       119     273.0\n",
            "46         60    109       153     387.6\n",
            "47         45    111       136     300.0\n",
            "48         45    108       129     298.0\n",
            "49         60    111       139     397.6\n",
            "50         60    107       136     380.2\n",
            "51         80    123       146     643.1\n",
            "52         60    106       130     263.0\n",
            "53         60    118       151     486.0\n",
            "54         30    136       175     238.0\n",
            "55         60    121       146     450.7\n",
            "56         60    118       121     413.0\n",
            "57         45    115       144     305.0\n",
            "58         20    153       172     226.4\n",
            "59         45    123       152     321.0\n",
            "60        210    108       160    1376.0\n",
            "61        160    110       137    1034.4\n",
            "62        160    109       135     853.0\n",
            "63         45    118       141     341.0\n",
            "64         20    110       130     131.4\n",
            "65        180     90       130     800.4\n",
            "66        150    105       135     873.4\n",
            "67        150    107       130     816.0\n",
            "68         20    106       136     110.4\n",
            "69        300    108       143    1500.2\n",
            "70        150     97       129    1115.0\n",
            "71         60    109       153     387.6\n",
            "72         90    100       127     700.0\n",
            "73        150     97       127     953.2\n",
            "74         45    114       146     304.0\n",
            "75         90     98       125     563.2\n",
            "76         45    105       134     251.0\n",
            "77         45    110       141     300.0\n",
            "78        120    100       130     500.4\n",
            "79        270    100       131    1729.0\n",
            "80         30    159       182     319.2\n",
            "81         45    149       169     344.0\n",
            "82         30    103       139     151.1\n",
            "83        120    100       130     500.0\n",
            "84         45    100       120     225.3\n",
            "85         30    151       170     300.0\n",
            "86         45    102       136     234.0\n",
            "87        120    100       157    1000.1\n",
            "88         45    129       103     242.0\n",
            "89         20     83       107      50.3\n",
            "90        180    101       127     600.1\n",
            "91         45    107       137       NaN\n",
            "92         30     90       107     105.3\n",
            "93         15     80       100      50.5\n",
            "94         20    150       171     127.4\n",
            "95         20    151       168     229.4\n",
            "96         30     95       128     128.2\n",
            "97         25    152       168     244.2\n",
            "98         30    109       131     188.2\n",
            "99         90     93       124     604.1\n",
            "100        20     95       112      77.7\n",
            "101        90     90       110     500.0\n",
            "102        90     90       100     500.0\n",
            "103        90     90       100     500.4\n",
            "104        30     92       108      92.7\n",
            "105        30     93       128     124.0\n",
            "106       180     90       120     800.3\n",
            "107        30     90       120      86.2\n",
            "108        90     90       120     500.3\n",
            "109       210    137       184    1860.4\n",
            "110        60    102       124     325.2\n",
            "111        45    107       124     275.0\n",
            "112        15    124       139     124.2\n",
            "113        45    100       120     225.3\n",
            "114        60    108       131     367.6\n",
            "115        60    108       151     351.7\n",
            "116        60    116       141     443.0\n",
            "117        60     97       122     277.4\n",
            "118        60    105       125       NaN\n",
            "119        60    103       124     332.7\n",
            "120        30    112       137     193.9\n",
            "121        45    100       120     100.7\n",
            "122        60    119       169     336.7\n",
            "123        60    107       127     344.9\n",
            "124        60    111       151     368.5\n",
            "125        60     98       122     271.0\n",
            "126        60     97       124     275.3\n",
            "127        60    109       127     382.0\n",
            "128        90     99       125     466.4\n",
            "129        60    114       151     384.0\n",
            "130        60    104       134     342.5\n",
            "131        60    107       138     357.5\n",
            "132        60    103       133     335.0\n",
            "133        60    106       132     327.5\n",
            "134        60    103       136     339.0\n",
            "135        20    136       156     189.0\n",
            "136        45    117       143     317.7\n",
            "137        45    115       137     318.0\n",
            "138        45    113       138     308.0\n",
            "139        20    141       162     222.4\n",
            "140        60    108       135     390.0\n",
            "141        60     97       127       NaN\n",
            "142        45    100       120     250.4\n",
            "143        45    122       149     335.4\n",
            "144        60    136       170     470.2\n",
            "145        45    106       126     270.8\n",
            "146        60    107       136     400.0\n",
            "147        60    112       146     361.9\n",
            "148        30    103       127     185.0\n",
            "149        60    110       150     409.4\n",
            "150        60    106       134     343.0\n",
            "151        60    109       129     353.2\n",
            "152        60    109       138     374.0\n",
            "153        30    150       167     275.8\n",
            "154        60    105       128     328.0\n",
            "155        60    111       151     368.5\n",
            "156        60     97       131     270.4\n",
            "157        60    100       120     270.4\n",
            "158        60    114       150     382.8\n",
            "159        30     80       120     240.9\n",
            "160        30     85       120     250.4\n",
            "161        45     90       130     260.4\n",
            "162        45     95       130     270.0\n",
            "163        45    100       140     280.9\n",
            "164        60    105       140     290.8\n",
            "165        60    110       145     300.0\n",
            "166        60    115       145     310.2\n",
            "167        75    120       150     320.4\n",
            "168        75    125       150     330.4\n"
          ]
        },
        {
          "output_type": "execute_result",
          "data": {
            "text/plain": [
              "   Duration  Pulse  Maxpulse  Calories\n",
              "0        60    110       130     409.1\n",
              "1        60    117       145     479.0\n",
              "2        60    103       135     340.0\n",
              "3        45    109       175     282.4\n",
              "4        45    117       148     406.0"
            ],
            "text/html": [
              "\n",
              "  <div id=\"df-97c280dd-bf59-45c9-99da-85b4e7329ff3\" class=\"colab-df-container\">\n",
              "    <div>\n",
              "<style scoped>\n",
              "    .dataframe tbody tr th:only-of-type {\n",
              "        vertical-align: middle;\n",
              "    }\n",
              "\n",
              "    .dataframe tbody tr th {\n",
              "        vertical-align: top;\n",
              "    }\n",
              "\n",
              "    .dataframe thead th {\n",
              "        text-align: right;\n",
              "    }\n",
              "</style>\n",
              "<table border=\"1\" class=\"dataframe\">\n",
              "  <thead>\n",
              "    <tr style=\"text-align: right;\">\n",
              "      <th></th>\n",
              "      <th>Duration</th>\n",
              "      <th>Pulse</th>\n",
              "      <th>Maxpulse</th>\n",
              "      <th>Calories</th>\n",
              "    </tr>\n",
              "  </thead>\n",
              "  <tbody>\n",
              "    <tr>\n",
              "      <th>0</th>\n",
              "      <td>60</td>\n",
              "      <td>110</td>\n",
              "      <td>130</td>\n",
              "      <td>409.1</td>\n",
              "    </tr>\n",
              "    <tr>\n",
              "      <th>1</th>\n",
              "      <td>60</td>\n",
              "      <td>117</td>\n",
              "      <td>145</td>\n",
              "      <td>479.0</td>\n",
              "    </tr>\n",
              "    <tr>\n",
              "      <th>2</th>\n",
              "      <td>60</td>\n",
              "      <td>103</td>\n",
              "      <td>135</td>\n",
              "      <td>340.0</td>\n",
              "    </tr>\n",
              "    <tr>\n",
              "      <th>3</th>\n",
              "      <td>45</td>\n",
              "      <td>109</td>\n",
              "      <td>175</td>\n",
              "      <td>282.4</td>\n",
              "    </tr>\n",
              "    <tr>\n",
              "      <th>4</th>\n",
              "      <td>45</td>\n",
              "      <td>117</td>\n",
              "      <td>148</td>\n",
              "      <td>406.0</td>\n",
              "    </tr>\n",
              "  </tbody>\n",
              "</table>\n",
              "</div>\n",
              "    <div class=\"colab-df-buttons\">\n",
              "\n",
              "  <div class=\"colab-df-container\">\n",
              "    <button class=\"colab-df-convert\" onclick=\"convertToInteractive('df-97c280dd-bf59-45c9-99da-85b4e7329ff3')\"\n",
              "            title=\"Convert this dataframe to an interactive table.\"\n",
              "            style=\"display:none;\">\n",
              "\n",
              "  <svg xmlns=\"http://www.w3.org/2000/svg\" height=\"24px\" viewBox=\"0 -960 960 960\">\n",
              "    <path d=\"M120-120v-720h720v720H120Zm60-500h600v-160H180v160Zm220 220h160v-160H400v160Zm0 220h160v-160H400v160ZM180-400h160v-160H180v160Zm440 0h160v-160H620v160ZM180-180h160v-160H180v160Zm440 0h160v-160H620v160Z\"/>\n",
              "  </svg>\n",
              "    </button>\n",
              "\n",
              "  <style>\n",
              "    .colab-df-container {\n",
              "      display:flex;\n",
              "      gap: 12px;\n",
              "    }\n",
              "\n",
              "    .colab-df-convert {\n",
              "      background-color: #E8F0FE;\n",
              "      border: none;\n",
              "      border-radius: 50%;\n",
              "      cursor: pointer;\n",
              "      display: none;\n",
              "      fill: #1967D2;\n",
              "      height: 32px;\n",
              "      padding: 0 0 0 0;\n",
              "      width: 32px;\n",
              "    }\n",
              "\n",
              "    .colab-df-convert:hover {\n",
              "      background-color: #E2EBFA;\n",
              "      box-shadow: 0px 1px 2px rgba(60, 64, 67, 0.3), 0px 1px 3px 1px rgba(60, 64, 67, 0.15);\n",
              "      fill: #174EA6;\n",
              "    }\n",
              "\n",
              "    .colab-df-buttons div {\n",
              "      margin-bottom: 4px;\n",
              "    }\n",
              "\n",
              "    [theme=dark] .colab-df-convert {\n",
              "      background-color: #3B4455;\n",
              "      fill: #D2E3FC;\n",
              "    }\n",
              "\n",
              "    [theme=dark] .colab-df-convert:hover {\n",
              "      background-color: #434B5C;\n",
              "      box-shadow: 0px 1px 3px 1px rgba(0, 0, 0, 0.15);\n",
              "      filter: drop-shadow(0px 1px 2px rgba(0, 0, 0, 0.3));\n",
              "      fill: #FFFFFF;\n",
              "    }\n",
              "  </style>\n",
              "\n",
              "    <script>\n",
              "      const buttonEl =\n",
              "        document.querySelector('#df-97c280dd-bf59-45c9-99da-85b4e7329ff3 button.colab-df-convert');\n",
              "      buttonEl.style.display =\n",
              "        google.colab.kernel.accessAllowed ? 'block' : 'none';\n",
              "\n",
              "      async function convertToInteractive(key) {\n",
              "        const element = document.querySelector('#df-97c280dd-bf59-45c9-99da-85b4e7329ff3');\n",
              "        const dataTable =\n",
              "          await google.colab.kernel.invokeFunction('convertToInteractive',\n",
              "                                                    [key], {});\n",
              "        if (!dataTable) return;\n",
              "\n",
              "        const docLinkHtml = 'Like what you see? Visit the ' +\n",
              "          '<a target=\"_blank\" href=https://colab.research.google.com/notebooks/data_table.ipynb>data table notebook</a>'\n",
              "          + ' to learn more about interactive tables.';\n",
              "        element.innerHTML = '';\n",
              "        dataTable['output_type'] = 'display_data';\n",
              "        await google.colab.output.renderOutput(dataTable, element);\n",
              "        const docLink = document.createElement('div');\n",
              "        docLink.innerHTML = docLinkHtml;\n",
              "        element.appendChild(docLink);\n",
              "      }\n",
              "    </script>\n",
              "  </div>\n",
              "\n",
              "\n",
              "<div id=\"df-3119a99a-6fb8-4fed-a1ef-52bc61a34913\">\n",
              "  <button class=\"colab-df-quickchart\" onclick=\"quickchart('df-3119a99a-6fb8-4fed-a1ef-52bc61a34913')\"\n",
              "            title=\"Suggest charts\"\n",
              "            style=\"display:none;\">\n",
              "\n",
              "<svg xmlns=\"http://www.w3.org/2000/svg\" height=\"24px\"viewBox=\"0 0 24 24\"\n",
              "     width=\"24px\">\n",
              "    <g>\n",
              "        <path d=\"M19 3H5c-1.1 0-2 .9-2 2v14c0 1.1.9 2 2 2h14c1.1 0 2-.9 2-2V5c0-1.1-.9-2-2-2zM9 17H7v-7h2v7zm4 0h-2V7h2v10zm4 0h-2v-4h2v4z\"/>\n",
              "    </g>\n",
              "</svg>\n",
              "  </button>\n",
              "\n",
              "<style>\n",
              "  .colab-df-quickchart {\n",
              "      --bg-color: #E8F0FE;\n",
              "      --fill-color: #1967D2;\n",
              "      --hover-bg-color: #E2EBFA;\n",
              "      --hover-fill-color: #174EA6;\n",
              "      --disabled-fill-color: #AAA;\n",
              "      --disabled-bg-color: #DDD;\n",
              "  }\n",
              "\n",
              "  [theme=dark] .colab-df-quickchart {\n",
              "      --bg-color: #3B4455;\n",
              "      --fill-color: #D2E3FC;\n",
              "      --hover-bg-color: #434B5C;\n",
              "      --hover-fill-color: #FFFFFF;\n",
              "      --disabled-bg-color: #3B4455;\n",
              "      --disabled-fill-color: #666;\n",
              "  }\n",
              "\n",
              "  .colab-df-quickchart {\n",
              "    background-color: var(--bg-color);\n",
              "    border: none;\n",
              "    border-radius: 50%;\n",
              "    cursor: pointer;\n",
              "    display: none;\n",
              "    fill: var(--fill-color);\n",
              "    height: 32px;\n",
              "    padding: 0;\n",
              "    width: 32px;\n",
              "  }\n",
              "\n",
              "  .colab-df-quickchart:hover {\n",
              "    background-color: var(--hover-bg-color);\n",
              "    box-shadow: 0 1px 2px rgba(60, 64, 67, 0.3), 0 1px 3px 1px rgba(60, 64, 67, 0.15);\n",
              "    fill: var(--button-hover-fill-color);\n",
              "  }\n",
              "\n",
              "  .colab-df-quickchart-complete:disabled,\n",
              "  .colab-df-quickchart-complete:disabled:hover {\n",
              "    background-color: var(--disabled-bg-color);\n",
              "    fill: var(--disabled-fill-color);\n",
              "    box-shadow: none;\n",
              "  }\n",
              "\n",
              "  .colab-df-spinner {\n",
              "    border: 2px solid var(--fill-color);\n",
              "    border-color: transparent;\n",
              "    border-bottom-color: var(--fill-color);\n",
              "    animation:\n",
              "      spin 1s steps(1) infinite;\n",
              "  }\n",
              "\n",
              "  @keyframes spin {\n",
              "    0% {\n",
              "      border-color: transparent;\n",
              "      border-bottom-color: var(--fill-color);\n",
              "      border-left-color: var(--fill-color);\n",
              "    }\n",
              "    20% {\n",
              "      border-color: transparent;\n",
              "      border-left-color: var(--fill-color);\n",
              "      border-top-color: var(--fill-color);\n",
              "    }\n",
              "    30% {\n",
              "      border-color: transparent;\n",
              "      border-left-color: var(--fill-color);\n",
              "      border-top-color: var(--fill-color);\n",
              "      border-right-color: var(--fill-color);\n",
              "    }\n",
              "    40% {\n",
              "      border-color: transparent;\n",
              "      border-right-color: var(--fill-color);\n",
              "      border-top-color: var(--fill-color);\n",
              "    }\n",
              "    60% {\n",
              "      border-color: transparent;\n",
              "      border-right-color: var(--fill-color);\n",
              "    }\n",
              "    80% {\n",
              "      border-color: transparent;\n",
              "      border-right-color: var(--fill-color);\n",
              "      border-bottom-color: var(--fill-color);\n",
              "    }\n",
              "    90% {\n",
              "      border-color: transparent;\n",
              "      border-bottom-color: var(--fill-color);\n",
              "    }\n",
              "  }\n",
              "</style>\n",
              "\n",
              "  <script>\n",
              "    async function quickchart(key) {\n",
              "      const quickchartButtonEl =\n",
              "        document.querySelector('#' + key + ' button');\n",
              "      quickchartButtonEl.disabled = true;  // To prevent multiple clicks.\n",
              "      quickchartButtonEl.classList.add('colab-df-spinner');\n",
              "      try {\n",
              "        const charts = await google.colab.kernel.invokeFunction(\n",
              "            'suggestCharts', [key], {});\n",
              "      } catch (error) {\n",
              "        console.error('Error during call to suggestCharts:', error);\n",
              "      }\n",
              "      quickchartButtonEl.classList.remove('colab-df-spinner');\n",
              "      quickchartButtonEl.classList.add('colab-df-quickchart-complete');\n",
              "    }\n",
              "    (() => {\n",
              "      let quickchartButtonEl =\n",
              "        document.querySelector('#df-3119a99a-6fb8-4fed-a1ef-52bc61a34913 button');\n",
              "      quickchartButtonEl.style.display =\n",
              "        google.colab.kernel.accessAllowed ? 'block' : 'none';\n",
              "    })();\n",
              "  </script>\n",
              "</div>\n",
              "\n",
              "    </div>\n",
              "  </div>\n"
            ],
            "application/vnd.google.colaboratory.intrinsic+json": {
              "type": "dataframe",
              "variable_name": "df",
              "summary": "{\n  \"name\": \"df\",\n  \"rows\": 169,\n  \"fields\": [\n    {\n      \"column\": \"Duration\",\n      \"properties\": {\n        \"dtype\": \"number\",\n        \"std\": 42,\n        \"min\": 15,\n        \"max\": 300,\n        \"num_unique_values\": 16,\n        \"samples\": [\n          60,\n          45,\n          210\n        ],\n        \"semantic_type\": \"\",\n        \"description\": \"\"\n      }\n    },\n    {\n      \"column\": \"Pulse\",\n      \"properties\": {\n        \"dtype\": \"number\",\n        \"std\": 14,\n        \"min\": 80,\n        \"max\": 159,\n        \"num_unique_values\": 47,\n        \"samples\": [\n          159,\n          112,\n          153\n        ],\n        \"semantic_type\": \"\",\n        \"description\": \"\"\n      }\n    },\n    {\n      \"column\": \"Maxpulse\",\n      \"properties\": {\n        \"dtype\": \"number\",\n        \"std\": 16,\n        \"min\": 100,\n        \"max\": 184,\n        \"num_unique_values\": 57,\n        \"samples\": [\n          130,\n          127,\n          146\n        ],\n        \"semantic_type\": \"\",\n        \"description\": \"\"\n      }\n    },\n    {\n      \"column\": \"Calories\",\n      \"properties\": {\n        \"dtype\": \"number\",\n        \"std\": 266.3799192443516,\n        \"min\": 50.3,\n        \"max\": 1860.4,\n        \"num_unique_values\": 142,\n        \"samples\": [\n          328.0,\n          282.0,\n          229.4\n        ],\n        \"semantic_type\": \"\",\n        \"description\": \"\"\n      }\n    }\n  ]\n}"
            }
          },
          "metadata": {},
          "execution_count": 41
        }
      ]
    },
    {
      "cell_type": "code",
      "source": [
        "df.head(10) #displays top 10 datas"
      ],
      "metadata": {
        "colab": {
          "base_uri": "https://localhost:8080/",
          "height": 363
        },
        "id": "_yQIUXBu3a_A",
        "outputId": "52f10300-3b6b-499b-d673-d0ed0aa8661b"
      },
      "id": "_yQIUXBu3a_A",
      "execution_count": 42,
      "outputs": [
        {
          "output_type": "execute_result",
          "data": {
            "text/plain": [
              "   Duration  Pulse  Maxpulse  Calories\n",
              "0        60    110       130     409.1\n",
              "1        60    117       145     479.0\n",
              "2        60    103       135     340.0\n",
              "3        45    109       175     282.4\n",
              "4        45    117       148     406.0\n",
              "5        60    102       127     300.0\n",
              "6        60    110       136     374.0\n",
              "7        45    104       134     253.3\n",
              "8        30    109       133     195.1\n",
              "9        60     98       124     269.0"
            ],
            "text/html": [
              "\n",
              "  <div id=\"df-a592c61d-120a-4f94-888b-5b5c65d7f47a\" class=\"colab-df-container\">\n",
              "    <div>\n",
              "<style scoped>\n",
              "    .dataframe tbody tr th:only-of-type {\n",
              "        vertical-align: middle;\n",
              "    }\n",
              "\n",
              "    .dataframe tbody tr th {\n",
              "        vertical-align: top;\n",
              "    }\n",
              "\n",
              "    .dataframe thead th {\n",
              "        text-align: right;\n",
              "    }\n",
              "</style>\n",
              "<table border=\"1\" class=\"dataframe\">\n",
              "  <thead>\n",
              "    <tr style=\"text-align: right;\">\n",
              "      <th></th>\n",
              "      <th>Duration</th>\n",
              "      <th>Pulse</th>\n",
              "      <th>Maxpulse</th>\n",
              "      <th>Calories</th>\n",
              "    </tr>\n",
              "  </thead>\n",
              "  <tbody>\n",
              "    <tr>\n",
              "      <th>0</th>\n",
              "      <td>60</td>\n",
              "      <td>110</td>\n",
              "      <td>130</td>\n",
              "      <td>409.1</td>\n",
              "    </tr>\n",
              "    <tr>\n",
              "      <th>1</th>\n",
              "      <td>60</td>\n",
              "      <td>117</td>\n",
              "      <td>145</td>\n",
              "      <td>479.0</td>\n",
              "    </tr>\n",
              "    <tr>\n",
              "      <th>2</th>\n",
              "      <td>60</td>\n",
              "      <td>103</td>\n",
              "      <td>135</td>\n",
              "      <td>340.0</td>\n",
              "    </tr>\n",
              "    <tr>\n",
              "      <th>3</th>\n",
              "      <td>45</td>\n",
              "      <td>109</td>\n",
              "      <td>175</td>\n",
              "      <td>282.4</td>\n",
              "    </tr>\n",
              "    <tr>\n",
              "      <th>4</th>\n",
              "      <td>45</td>\n",
              "      <td>117</td>\n",
              "      <td>148</td>\n",
              "      <td>406.0</td>\n",
              "    </tr>\n",
              "    <tr>\n",
              "      <th>5</th>\n",
              "      <td>60</td>\n",
              "      <td>102</td>\n",
              "      <td>127</td>\n",
              "      <td>300.0</td>\n",
              "    </tr>\n",
              "    <tr>\n",
              "      <th>6</th>\n",
              "      <td>60</td>\n",
              "      <td>110</td>\n",
              "      <td>136</td>\n",
              "      <td>374.0</td>\n",
              "    </tr>\n",
              "    <tr>\n",
              "      <th>7</th>\n",
              "      <td>45</td>\n",
              "      <td>104</td>\n",
              "      <td>134</td>\n",
              "      <td>253.3</td>\n",
              "    </tr>\n",
              "    <tr>\n",
              "      <th>8</th>\n",
              "      <td>30</td>\n",
              "      <td>109</td>\n",
              "      <td>133</td>\n",
              "      <td>195.1</td>\n",
              "    </tr>\n",
              "    <tr>\n",
              "      <th>9</th>\n",
              "      <td>60</td>\n",
              "      <td>98</td>\n",
              "      <td>124</td>\n",
              "      <td>269.0</td>\n",
              "    </tr>\n",
              "  </tbody>\n",
              "</table>\n",
              "</div>\n",
              "    <div class=\"colab-df-buttons\">\n",
              "\n",
              "  <div class=\"colab-df-container\">\n",
              "    <button class=\"colab-df-convert\" onclick=\"convertToInteractive('df-a592c61d-120a-4f94-888b-5b5c65d7f47a')\"\n",
              "            title=\"Convert this dataframe to an interactive table.\"\n",
              "            style=\"display:none;\">\n",
              "\n",
              "  <svg xmlns=\"http://www.w3.org/2000/svg\" height=\"24px\" viewBox=\"0 -960 960 960\">\n",
              "    <path d=\"M120-120v-720h720v720H120Zm60-500h600v-160H180v160Zm220 220h160v-160H400v160Zm0 220h160v-160H400v160ZM180-400h160v-160H180v160Zm440 0h160v-160H620v160ZM180-180h160v-160H180v160Zm440 0h160v-160H620v160Z\"/>\n",
              "  </svg>\n",
              "    </button>\n",
              "\n",
              "  <style>\n",
              "    .colab-df-container {\n",
              "      display:flex;\n",
              "      gap: 12px;\n",
              "    }\n",
              "\n",
              "    .colab-df-convert {\n",
              "      background-color: #E8F0FE;\n",
              "      border: none;\n",
              "      border-radius: 50%;\n",
              "      cursor: pointer;\n",
              "      display: none;\n",
              "      fill: #1967D2;\n",
              "      height: 32px;\n",
              "      padding: 0 0 0 0;\n",
              "      width: 32px;\n",
              "    }\n",
              "\n",
              "    .colab-df-convert:hover {\n",
              "      background-color: #E2EBFA;\n",
              "      box-shadow: 0px 1px 2px rgba(60, 64, 67, 0.3), 0px 1px 3px 1px rgba(60, 64, 67, 0.15);\n",
              "      fill: #174EA6;\n",
              "    }\n",
              "\n",
              "    .colab-df-buttons div {\n",
              "      margin-bottom: 4px;\n",
              "    }\n",
              "\n",
              "    [theme=dark] .colab-df-convert {\n",
              "      background-color: #3B4455;\n",
              "      fill: #D2E3FC;\n",
              "    }\n",
              "\n",
              "    [theme=dark] .colab-df-convert:hover {\n",
              "      background-color: #434B5C;\n",
              "      box-shadow: 0px 1px 3px 1px rgba(0, 0, 0, 0.15);\n",
              "      filter: drop-shadow(0px 1px 2px rgba(0, 0, 0, 0.3));\n",
              "      fill: #FFFFFF;\n",
              "    }\n",
              "  </style>\n",
              "\n",
              "    <script>\n",
              "      const buttonEl =\n",
              "        document.querySelector('#df-a592c61d-120a-4f94-888b-5b5c65d7f47a button.colab-df-convert');\n",
              "      buttonEl.style.display =\n",
              "        google.colab.kernel.accessAllowed ? 'block' : 'none';\n",
              "\n",
              "      async function convertToInteractive(key) {\n",
              "        const element = document.querySelector('#df-a592c61d-120a-4f94-888b-5b5c65d7f47a');\n",
              "        const dataTable =\n",
              "          await google.colab.kernel.invokeFunction('convertToInteractive',\n",
              "                                                    [key], {});\n",
              "        if (!dataTable) return;\n",
              "\n",
              "        const docLinkHtml = 'Like what you see? Visit the ' +\n",
              "          '<a target=\"_blank\" href=https://colab.research.google.com/notebooks/data_table.ipynb>data table notebook</a>'\n",
              "          + ' to learn more about interactive tables.';\n",
              "        element.innerHTML = '';\n",
              "        dataTable['output_type'] = 'display_data';\n",
              "        await google.colab.output.renderOutput(dataTable, element);\n",
              "        const docLink = document.createElement('div');\n",
              "        docLink.innerHTML = docLinkHtml;\n",
              "        element.appendChild(docLink);\n",
              "      }\n",
              "    </script>\n",
              "  </div>\n",
              "\n",
              "\n",
              "<div id=\"df-d96cd91f-3d9a-4e4d-993f-0671125935a9\">\n",
              "  <button class=\"colab-df-quickchart\" onclick=\"quickchart('df-d96cd91f-3d9a-4e4d-993f-0671125935a9')\"\n",
              "            title=\"Suggest charts\"\n",
              "            style=\"display:none;\">\n",
              "\n",
              "<svg xmlns=\"http://www.w3.org/2000/svg\" height=\"24px\"viewBox=\"0 0 24 24\"\n",
              "     width=\"24px\">\n",
              "    <g>\n",
              "        <path d=\"M19 3H5c-1.1 0-2 .9-2 2v14c0 1.1.9 2 2 2h14c1.1 0 2-.9 2-2V5c0-1.1-.9-2-2-2zM9 17H7v-7h2v7zm4 0h-2V7h2v10zm4 0h-2v-4h2v4z\"/>\n",
              "    </g>\n",
              "</svg>\n",
              "  </button>\n",
              "\n",
              "<style>\n",
              "  .colab-df-quickchart {\n",
              "      --bg-color: #E8F0FE;\n",
              "      --fill-color: #1967D2;\n",
              "      --hover-bg-color: #E2EBFA;\n",
              "      --hover-fill-color: #174EA6;\n",
              "      --disabled-fill-color: #AAA;\n",
              "      --disabled-bg-color: #DDD;\n",
              "  }\n",
              "\n",
              "  [theme=dark] .colab-df-quickchart {\n",
              "      --bg-color: #3B4455;\n",
              "      --fill-color: #D2E3FC;\n",
              "      --hover-bg-color: #434B5C;\n",
              "      --hover-fill-color: #FFFFFF;\n",
              "      --disabled-bg-color: #3B4455;\n",
              "      --disabled-fill-color: #666;\n",
              "  }\n",
              "\n",
              "  .colab-df-quickchart {\n",
              "    background-color: var(--bg-color);\n",
              "    border: none;\n",
              "    border-radius: 50%;\n",
              "    cursor: pointer;\n",
              "    display: none;\n",
              "    fill: var(--fill-color);\n",
              "    height: 32px;\n",
              "    padding: 0;\n",
              "    width: 32px;\n",
              "  }\n",
              "\n",
              "  .colab-df-quickchart:hover {\n",
              "    background-color: var(--hover-bg-color);\n",
              "    box-shadow: 0 1px 2px rgba(60, 64, 67, 0.3), 0 1px 3px 1px rgba(60, 64, 67, 0.15);\n",
              "    fill: var(--button-hover-fill-color);\n",
              "  }\n",
              "\n",
              "  .colab-df-quickchart-complete:disabled,\n",
              "  .colab-df-quickchart-complete:disabled:hover {\n",
              "    background-color: var(--disabled-bg-color);\n",
              "    fill: var(--disabled-fill-color);\n",
              "    box-shadow: none;\n",
              "  }\n",
              "\n",
              "  .colab-df-spinner {\n",
              "    border: 2px solid var(--fill-color);\n",
              "    border-color: transparent;\n",
              "    border-bottom-color: var(--fill-color);\n",
              "    animation:\n",
              "      spin 1s steps(1) infinite;\n",
              "  }\n",
              "\n",
              "  @keyframes spin {\n",
              "    0% {\n",
              "      border-color: transparent;\n",
              "      border-bottom-color: var(--fill-color);\n",
              "      border-left-color: var(--fill-color);\n",
              "    }\n",
              "    20% {\n",
              "      border-color: transparent;\n",
              "      border-left-color: var(--fill-color);\n",
              "      border-top-color: var(--fill-color);\n",
              "    }\n",
              "    30% {\n",
              "      border-color: transparent;\n",
              "      border-left-color: var(--fill-color);\n",
              "      border-top-color: var(--fill-color);\n",
              "      border-right-color: var(--fill-color);\n",
              "    }\n",
              "    40% {\n",
              "      border-color: transparent;\n",
              "      border-right-color: var(--fill-color);\n",
              "      border-top-color: var(--fill-color);\n",
              "    }\n",
              "    60% {\n",
              "      border-color: transparent;\n",
              "      border-right-color: var(--fill-color);\n",
              "    }\n",
              "    80% {\n",
              "      border-color: transparent;\n",
              "      border-right-color: var(--fill-color);\n",
              "      border-bottom-color: var(--fill-color);\n",
              "    }\n",
              "    90% {\n",
              "      border-color: transparent;\n",
              "      border-bottom-color: var(--fill-color);\n",
              "    }\n",
              "  }\n",
              "</style>\n",
              "\n",
              "  <script>\n",
              "    async function quickchart(key) {\n",
              "      const quickchartButtonEl =\n",
              "        document.querySelector('#' + key + ' button');\n",
              "      quickchartButtonEl.disabled = true;  // To prevent multiple clicks.\n",
              "      quickchartButtonEl.classList.add('colab-df-spinner');\n",
              "      try {\n",
              "        const charts = await google.colab.kernel.invokeFunction(\n",
              "            'suggestCharts', [key], {});\n",
              "      } catch (error) {\n",
              "        console.error('Error during call to suggestCharts:', error);\n",
              "      }\n",
              "      quickchartButtonEl.classList.remove('colab-df-spinner');\n",
              "      quickchartButtonEl.classList.add('colab-df-quickchart-complete');\n",
              "    }\n",
              "    (() => {\n",
              "      let quickchartButtonEl =\n",
              "        document.querySelector('#df-d96cd91f-3d9a-4e4d-993f-0671125935a9 button');\n",
              "      quickchartButtonEl.style.display =\n",
              "        google.colab.kernel.accessAllowed ? 'block' : 'none';\n",
              "    })();\n",
              "  </script>\n",
              "</div>\n",
              "\n",
              "    </div>\n",
              "  </div>\n"
            ],
            "application/vnd.google.colaboratory.intrinsic+json": {
              "type": "dataframe",
              "variable_name": "df",
              "summary": "{\n  \"name\": \"df\",\n  \"rows\": 169,\n  \"fields\": [\n    {\n      \"column\": \"Duration\",\n      \"properties\": {\n        \"dtype\": \"number\",\n        \"std\": 42,\n        \"min\": 15,\n        \"max\": 300,\n        \"num_unique_values\": 16,\n        \"samples\": [\n          60,\n          45,\n          210\n        ],\n        \"semantic_type\": \"\",\n        \"description\": \"\"\n      }\n    },\n    {\n      \"column\": \"Pulse\",\n      \"properties\": {\n        \"dtype\": \"number\",\n        \"std\": 14,\n        \"min\": 80,\n        \"max\": 159,\n        \"num_unique_values\": 47,\n        \"samples\": [\n          159,\n          112,\n          153\n        ],\n        \"semantic_type\": \"\",\n        \"description\": \"\"\n      }\n    },\n    {\n      \"column\": \"Maxpulse\",\n      \"properties\": {\n        \"dtype\": \"number\",\n        \"std\": 16,\n        \"min\": 100,\n        \"max\": 184,\n        \"num_unique_values\": 57,\n        \"samples\": [\n          130,\n          127,\n          146\n        ],\n        \"semantic_type\": \"\",\n        \"description\": \"\"\n      }\n    },\n    {\n      \"column\": \"Calories\",\n      \"properties\": {\n        \"dtype\": \"number\",\n        \"std\": 266.3799192443516,\n        \"min\": 50.3,\n        \"max\": 1860.4,\n        \"num_unique_values\": 142,\n        \"samples\": [\n          328.0,\n          282.0,\n          229.4\n        ],\n        \"semantic_type\": \"\",\n        \"description\": \"\"\n      }\n    }\n  ]\n}"
            }
          },
          "metadata": {},
          "execution_count": 42
        }
      ]
    },
    {
      "cell_type": "code",
      "source": [
        "import pandas as pd\n",
        "path=\"/content/nike_shoes_sales.csv\"\n",
        "df=pd.read_csv(path)\n",
        "df.head(10)"
      ],
      "metadata": {
        "colab": {
          "base_uri": "https://localhost:8080/",
          "height": 1000
        },
        "id": "UFkFNpUv3z93",
        "outputId": "d5598cf1-33e4-4806-b435-69e26ce352f9"
      },
      "id": "UFkFNpUv3z93",
      "execution_count": 43,
      "outputs": [
        {
          "output_type": "execute_result",
          "data": {
            "text/plain": [
              "                     product_name  product_id  listing_price  sale_price  \\\n",
              "0  Nike Air Force 1 '07 Essential  CJ1646-600              0        7495   \n",
              "1            Nike Air Force 1 '07  CT4328-101              0        7495   \n",
              "2    Nike Air Force 1 Sage Low LX  CI3482-200              0        9995   \n",
              "3             Nike Air Max Dia SE  CD0479-200              0        9995   \n",
              "4             Nike Air Max Verona  CZ6156-101              0        9995   \n",
              "5              Nike Free Metcon 3  CJ6314-146              0        9995   \n",
              "6                 NikeCourt Blanc  CI0808-100              0        5995   \n",
              "7              Nike Free Metcon 3  CJ0861-017              0        9995   \n",
              "8       Nike Zoom Pegasus Turbo 2  AT8242-009              0       15995   \n",
              "9      Nike Air Max 270 React ENG  CK2595-500              0       14995   \n",
              "\n",
              "   discount brand                                        description  rating  \\\n",
              "0         0  Nike  Let your shoe game shimmer in the Nike Air For...     0.0   \n",
              "1         0  Nike  The legend lives on in the Nike Air Force 1 '0...     0.0   \n",
              "2         0  Nike  Taking both height and craft to new levels, th...     0.0   \n",
              "3         0  Nike  Designed for a woman's foot, the Nike Air Max ...     0.0   \n",
              "4         0  Nike  Pass on the good vibes in the Nike Air Max Ver...     0.0   \n",
              "5         0  Nike  The Nike Free Metcon 3 combines the flexibilit...     0.0   \n",
              "6         0  Nike  Inspired by heritage models, the NikeCourt Bla...     0.0   \n",
              "7         0  Nike  The Nike Free Metcon 3 combines Nike Free flex...     5.0   \n",
              "8         0  Nike  The Nike Zoom Pegasus Turbo 2 is updated with ...     2.7   \n",
              "9         0  Nike  The Nike Air Max 270 React ENG combines a full...     5.0   \n",
              "\n",
              "   reviews                                             images  \n",
              "0        0  [\"https://static.nike.com/a/images/t_PDP_1728_...  \n",
              "1        0  [\"https://static.nike.com/a/images/t_PDP_1728_...  \n",
              "2        0  [\"https://static.nike.com/a/images/t_PDP_1728_...  \n",
              "3        0  [\"https://static.nike.com/a/images/t_PDP_1728_...  \n",
              "4        0  [\"https://static.nike.com/a/images/t_PDP_1728_...  \n",
              "5        0  [\"https://static.nike.com/a/images/t_PDP_1728_...  \n",
              "6        0  [\"https://static.nike.com/a/images/t_PDP_1728_...  \n",
              "7        1                                                NaN  \n",
              "8       14  [\"https://static.nike.com/a/images/t_PDP_1728_...  \n",
              "9        2  [\"https://static.nike.com/a/images/t_PDP_1728_...  "
            ],
            "text/html": [
              "\n",
              "  <div id=\"df-6aa19e08-d4a1-4421-9ebe-7a45f057dbeb\" class=\"colab-df-container\">\n",
              "    <div>\n",
              "<style scoped>\n",
              "    .dataframe tbody tr th:only-of-type {\n",
              "        vertical-align: middle;\n",
              "    }\n",
              "\n",
              "    .dataframe tbody tr th {\n",
              "        vertical-align: top;\n",
              "    }\n",
              "\n",
              "    .dataframe thead th {\n",
              "        text-align: right;\n",
              "    }\n",
              "</style>\n",
              "<table border=\"1\" class=\"dataframe\">\n",
              "  <thead>\n",
              "    <tr style=\"text-align: right;\">\n",
              "      <th></th>\n",
              "      <th>product_name</th>\n",
              "      <th>product_id</th>\n",
              "      <th>listing_price</th>\n",
              "      <th>sale_price</th>\n",
              "      <th>discount</th>\n",
              "      <th>brand</th>\n",
              "      <th>description</th>\n",
              "      <th>rating</th>\n",
              "      <th>reviews</th>\n",
              "      <th>images</th>\n",
              "    </tr>\n",
              "  </thead>\n",
              "  <tbody>\n",
              "    <tr>\n",
              "      <th>0</th>\n",
              "      <td>Nike Air Force 1 '07 Essential</td>\n",
              "      <td>CJ1646-600</td>\n",
              "      <td>0</td>\n",
              "      <td>7495</td>\n",
              "      <td>0</td>\n",
              "      <td>Nike</td>\n",
              "      <td>Let your shoe game shimmer in the Nike Air For...</td>\n",
              "      <td>0.0</td>\n",
              "      <td>0</td>\n",
              "      <td>[\"https://static.nike.com/a/images/t_PDP_1728_...</td>\n",
              "    </tr>\n",
              "    <tr>\n",
              "      <th>1</th>\n",
              "      <td>Nike Air Force 1 '07</td>\n",
              "      <td>CT4328-101</td>\n",
              "      <td>0</td>\n",
              "      <td>7495</td>\n",
              "      <td>0</td>\n",
              "      <td>Nike</td>\n",
              "      <td>The legend lives on in the Nike Air Force 1 '0...</td>\n",
              "      <td>0.0</td>\n",
              "      <td>0</td>\n",
              "      <td>[\"https://static.nike.com/a/images/t_PDP_1728_...</td>\n",
              "    </tr>\n",
              "    <tr>\n",
              "      <th>2</th>\n",
              "      <td>Nike Air Force 1 Sage Low LX</td>\n",
              "      <td>CI3482-200</td>\n",
              "      <td>0</td>\n",
              "      <td>9995</td>\n",
              "      <td>0</td>\n",
              "      <td>Nike</td>\n",
              "      <td>Taking both height and craft to new levels, th...</td>\n",
              "      <td>0.0</td>\n",
              "      <td>0</td>\n",
              "      <td>[\"https://static.nike.com/a/images/t_PDP_1728_...</td>\n",
              "    </tr>\n",
              "    <tr>\n",
              "      <th>3</th>\n",
              "      <td>Nike Air Max Dia SE</td>\n",
              "      <td>CD0479-200</td>\n",
              "      <td>0</td>\n",
              "      <td>9995</td>\n",
              "      <td>0</td>\n",
              "      <td>Nike</td>\n",
              "      <td>Designed for a woman's foot, the Nike Air Max ...</td>\n",
              "      <td>0.0</td>\n",
              "      <td>0</td>\n",
              "      <td>[\"https://static.nike.com/a/images/t_PDP_1728_...</td>\n",
              "    </tr>\n",
              "    <tr>\n",
              "      <th>4</th>\n",
              "      <td>Nike Air Max Verona</td>\n",
              "      <td>CZ6156-101</td>\n",
              "      <td>0</td>\n",
              "      <td>9995</td>\n",
              "      <td>0</td>\n",
              "      <td>Nike</td>\n",
              "      <td>Pass on the good vibes in the Nike Air Max Ver...</td>\n",
              "      <td>0.0</td>\n",
              "      <td>0</td>\n",
              "      <td>[\"https://static.nike.com/a/images/t_PDP_1728_...</td>\n",
              "    </tr>\n",
              "    <tr>\n",
              "      <th>5</th>\n",
              "      <td>Nike Free Metcon 3</td>\n",
              "      <td>CJ6314-146</td>\n",
              "      <td>0</td>\n",
              "      <td>9995</td>\n",
              "      <td>0</td>\n",
              "      <td>Nike</td>\n",
              "      <td>The Nike Free Metcon 3 combines the flexibilit...</td>\n",
              "      <td>0.0</td>\n",
              "      <td>0</td>\n",
              "      <td>[\"https://static.nike.com/a/images/t_PDP_1728_...</td>\n",
              "    </tr>\n",
              "    <tr>\n",
              "      <th>6</th>\n",
              "      <td>NikeCourt Blanc</td>\n",
              "      <td>CI0808-100</td>\n",
              "      <td>0</td>\n",
              "      <td>5995</td>\n",
              "      <td>0</td>\n",
              "      <td>Nike</td>\n",
              "      <td>Inspired by heritage models, the NikeCourt Bla...</td>\n",
              "      <td>0.0</td>\n",
              "      <td>0</td>\n",
              "      <td>[\"https://static.nike.com/a/images/t_PDP_1728_...</td>\n",
              "    </tr>\n",
              "    <tr>\n",
              "      <th>7</th>\n",
              "      <td>Nike Free Metcon 3</td>\n",
              "      <td>CJ0861-017</td>\n",
              "      <td>0</td>\n",
              "      <td>9995</td>\n",
              "      <td>0</td>\n",
              "      <td>Nike</td>\n",
              "      <td>The Nike Free Metcon 3 combines Nike Free flex...</td>\n",
              "      <td>5.0</td>\n",
              "      <td>1</td>\n",
              "      <td>NaN</td>\n",
              "    </tr>\n",
              "    <tr>\n",
              "      <th>8</th>\n",
              "      <td>Nike Zoom Pegasus Turbo 2</td>\n",
              "      <td>AT8242-009</td>\n",
              "      <td>0</td>\n",
              "      <td>15995</td>\n",
              "      <td>0</td>\n",
              "      <td>Nike</td>\n",
              "      <td>The Nike Zoom Pegasus Turbo 2 is updated with ...</td>\n",
              "      <td>2.7</td>\n",
              "      <td>14</td>\n",
              "      <td>[\"https://static.nike.com/a/images/t_PDP_1728_...</td>\n",
              "    </tr>\n",
              "    <tr>\n",
              "      <th>9</th>\n",
              "      <td>Nike Air Max 270 React ENG</td>\n",
              "      <td>CK2595-500</td>\n",
              "      <td>0</td>\n",
              "      <td>14995</td>\n",
              "      <td>0</td>\n",
              "      <td>Nike</td>\n",
              "      <td>The Nike Air Max 270 React ENG combines a full...</td>\n",
              "      <td>5.0</td>\n",
              "      <td>2</td>\n",
              "      <td>[\"https://static.nike.com/a/images/t_PDP_1728_...</td>\n",
              "    </tr>\n",
              "  </tbody>\n",
              "</table>\n",
              "</div>\n",
              "    <div class=\"colab-df-buttons\">\n",
              "\n",
              "  <div class=\"colab-df-container\">\n",
              "    <button class=\"colab-df-convert\" onclick=\"convertToInteractive('df-6aa19e08-d4a1-4421-9ebe-7a45f057dbeb')\"\n",
              "            title=\"Convert this dataframe to an interactive table.\"\n",
              "            style=\"display:none;\">\n",
              "\n",
              "  <svg xmlns=\"http://www.w3.org/2000/svg\" height=\"24px\" viewBox=\"0 -960 960 960\">\n",
              "    <path d=\"M120-120v-720h720v720H120Zm60-500h600v-160H180v160Zm220 220h160v-160H400v160Zm0 220h160v-160H400v160ZM180-400h160v-160H180v160Zm440 0h160v-160H620v160ZM180-180h160v-160H180v160Zm440 0h160v-160H620v160Z\"/>\n",
              "  </svg>\n",
              "    </button>\n",
              "\n",
              "  <style>\n",
              "    .colab-df-container {\n",
              "      display:flex;\n",
              "      gap: 12px;\n",
              "    }\n",
              "\n",
              "    .colab-df-convert {\n",
              "      background-color: #E8F0FE;\n",
              "      border: none;\n",
              "      border-radius: 50%;\n",
              "      cursor: pointer;\n",
              "      display: none;\n",
              "      fill: #1967D2;\n",
              "      height: 32px;\n",
              "      padding: 0 0 0 0;\n",
              "      width: 32px;\n",
              "    }\n",
              "\n",
              "    .colab-df-convert:hover {\n",
              "      background-color: #E2EBFA;\n",
              "      box-shadow: 0px 1px 2px rgba(60, 64, 67, 0.3), 0px 1px 3px 1px rgba(60, 64, 67, 0.15);\n",
              "      fill: #174EA6;\n",
              "    }\n",
              "\n",
              "    .colab-df-buttons div {\n",
              "      margin-bottom: 4px;\n",
              "    }\n",
              "\n",
              "    [theme=dark] .colab-df-convert {\n",
              "      background-color: #3B4455;\n",
              "      fill: #D2E3FC;\n",
              "    }\n",
              "\n",
              "    [theme=dark] .colab-df-convert:hover {\n",
              "      background-color: #434B5C;\n",
              "      box-shadow: 0px 1px 3px 1px rgba(0, 0, 0, 0.15);\n",
              "      filter: drop-shadow(0px 1px 2px rgba(0, 0, 0, 0.3));\n",
              "      fill: #FFFFFF;\n",
              "    }\n",
              "  </style>\n",
              "\n",
              "    <script>\n",
              "      const buttonEl =\n",
              "        document.querySelector('#df-6aa19e08-d4a1-4421-9ebe-7a45f057dbeb button.colab-df-convert');\n",
              "      buttonEl.style.display =\n",
              "        google.colab.kernel.accessAllowed ? 'block' : 'none';\n",
              "\n",
              "      async function convertToInteractive(key) {\n",
              "        const element = document.querySelector('#df-6aa19e08-d4a1-4421-9ebe-7a45f057dbeb');\n",
              "        const dataTable =\n",
              "          await google.colab.kernel.invokeFunction('convertToInteractive',\n",
              "                                                    [key], {});\n",
              "        if (!dataTable) return;\n",
              "\n",
              "        const docLinkHtml = 'Like what you see? Visit the ' +\n",
              "          '<a target=\"_blank\" href=https://colab.research.google.com/notebooks/data_table.ipynb>data table notebook</a>'\n",
              "          + ' to learn more about interactive tables.';\n",
              "        element.innerHTML = '';\n",
              "        dataTable['output_type'] = 'display_data';\n",
              "        await google.colab.output.renderOutput(dataTable, element);\n",
              "        const docLink = document.createElement('div');\n",
              "        docLink.innerHTML = docLinkHtml;\n",
              "        element.appendChild(docLink);\n",
              "      }\n",
              "    </script>\n",
              "  </div>\n",
              "\n",
              "\n",
              "<div id=\"df-c561d9ea-99bb-4b40-aa12-3893bfe00ac9\">\n",
              "  <button class=\"colab-df-quickchart\" onclick=\"quickchart('df-c561d9ea-99bb-4b40-aa12-3893bfe00ac9')\"\n",
              "            title=\"Suggest charts\"\n",
              "            style=\"display:none;\">\n",
              "\n",
              "<svg xmlns=\"http://www.w3.org/2000/svg\" height=\"24px\"viewBox=\"0 0 24 24\"\n",
              "     width=\"24px\">\n",
              "    <g>\n",
              "        <path d=\"M19 3H5c-1.1 0-2 .9-2 2v14c0 1.1.9 2 2 2h14c1.1 0 2-.9 2-2V5c0-1.1-.9-2-2-2zM9 17H7v-7h2v7zm4 0h-2V7h2v10zm4 0h-2v-4h2v4z\"/>\n",
              "    </g>\n",
              "</svg>\n",
              "  </button>\n",
              "\n",
              "<style>\n",
              "  .colab-df-quickchart {\n",
              "      --bg-color: #E8F0FE;\n",
              "      --fill-color: #1967D2;\n",
              "      --hover-bg-color: #E2EBFA;\n",
              "      --hover-fill-color: #174EA6;\n",
              "      --disabled-fill-color: #AAA;\n",
              "      --disabled-bg-color: #DDD;\n",
              "  }\n",
              "\n",
              "  [theme=dark] .colab-df-quickchart {\n",
              "      --bg-color: #3B4455;\n",
              "      --fill-color: #D2E3FC;\n",
              "      --hover-bg-color: #434B5C;\n",
              "      --hover-fill-color: #FFFFFF;\n",
              "      --disabled-bg-color: #3B4455;\n",
              "      --disabled-fill-color: #666;\n",
              "  }\n",
              "\n",
              "  .colab-df-quickchart {\n",
              "    background-color: var(--bg-color);\n",
              "    border: none;\n",
              "    border-radius: 50%;\n",
              "    cursor: pointer;\n",
              "    display: none;\n",
              "    fill: var(--fill-color);\n",
              "    height: 32px;\n",
              "    padding: 0;\n",
              "    width: 32px;\n",
              "  }\n",
              "\n",
              "  .colab-df-quickchart:hover {\n",
              "    background-color: var(--hover-bg-color);\n",
              "    box-shadow: 0 1px 2px rgba(60, 64, 67, 0.3), 0 1px 3px 1px rgba(60, 64, 67, 0.15);\n",
              "    fill: var(--button-hover-fill-color);\n",
              "  }\n",
              "\n",
              "  .colab-df-quickchart-complete:disabled,\n",
              "  .colab-df-quickchart-complete:disabled:hover {\n",
              "    background-color: var(--disabled-bg-color);\n",
              "    fill: var(--disabled-fill-color);\n",
              "    box-shadow: none;\n",
              "  }\n",
              "\n",
              "  .colab-df-spinner {\n",
              "    border: 2px solid var(--fill-color);\n",
              "    border-color: transparent;\n",
              "    border-bottom-color: var(--fill-color);\n",
              "    animation:\n",
              "      spin 1s steps(1) infinite;\n",
              "  }\n",
              "\n",
              "  @keyframes spin {\n",
              "    0% {\n",
              "      border-color: transparent;\n",
              "      border-bottom-color: var(--fill-color);\n",
              "      border-left-color: var(--fill-color);\n",
              "    }\n",
              "    20% {\n",
              "      border-color: transparent;\n",
              "      border-left-color: var(--fill-color);\n",
              "      border-top-color: var(--fill-color);\n",
              "    }\n",
              "    30% {\n",
              "      border-color: transparent;\n",
              "      border-left-color: var(--fill-color);\n",
              "      border-top-color: var(--fill-color);\n",
              "      border-right-color: var(--fill-color);\n",
              "    }\n",
              "    40% {\n",
              "      border-color: transparent;\n",
              "      border-right-color: var(--fill-color);\n",
              "      border-top-color: var(--fill-color);\n",
              "    }\n",
              "    60% {\n",
              "      border-color: transparent;\n",
              "      border-right-color: var(--fill-color);\n",
              "    }\n",
              "    80% {\n",
              "      border-color: transparent;\n",
              "      border-right-color: var(--fill-color);\n",
              "      border-bottom-color: var(--fill-color);\n",
              "    }\n",
              "    90% {\n",
              "      border-color: transparent;\n",
              "      border-bottom-color: var(--fill-color);\n",
              "    }\n",
              "  }\n",
              "</style>\n",
              "\n",
              "  <script>\n",
              "    async function quickchart(key) {\n",
              "      const quickchartButtonEl =\n",
              "        document.querySelector('#' + key + ' button');\n",
              "      quickchartButtonEl.disabled = true;  // To prevent multiple clicks.\n",
              "      quickchartButtonEl.classList.add('colab-df-spinner');\n",
              "      try {\n",
              "        const charts = await google.colab.kernel.invokeFunction(\n",
              "            'suggestCharts', [key], {});\n",
              "      } catch (error) {\n",
              "        console.error('Error during call to suggestCharts:', error);\n",
              "      }\n",
              "      quickchartButtonEl.classList.remove('colab-df-spinner');\n",
              "      quickchartButtonEl.classList.add('colab-df-quickchart-complete');\n",
              "    }\n",
              "    (() => {\n",
              "      let quickchartButtonEl =\n",
              "        document.querySelector('#df-c561d9ea-99bb-4b40-aa12-3893bfe00ac9 button');\n",
              "      quickchartButtonEl.style.display =\n",
              "        google.colab.kernel.accessAllowed ? 'block' : 'none';\n",
              "    })();\n",
              "  </script>\n",
              "</div>\n",
              "\n",
              "    </div>\n",
              "  </div>\n"
            ],
            "application/vnd.google.colaboratory.intrinsic+json": {
              "type": "dataframe",
              "variable_name": "df",
              "summary": "{\n  \"name\": \"df\",\n  \"rows\": 643,\n  \"fields\": [\n    {\n      \"column\": \"product_name\",\n      \"properties\": {\n        \"dtype\": \"string\",\n        \"num_unique_values\": 393,\n        \"samples\": [\n          \"Nike Mercurial Superfly 7 Academy MG\",\n          \"Nike React Metcon\",\n          \"Air Jordan 11 Retro Low\"\n        ],\n        \"semantic_type\": \"\",\n        \"description\": \"\"\n      }\n    },\n    {\n      \"column\": \"product_id\",\n      \"properties\": {\n        \"dtype\": \"string\",\n        \"num_unique_values\": 554,\n        \"samples\": [\n          \"AT1198-401\",\n          \"AO2434-101\",\n          \"CD2189-002\"\n        ],\n        \"semantic_type\": \"\",\n        \"description\": \"\"\n      }\n    },\n    {\n      \"column\": \"listing_price\",\n      \"properties\": {\n        \"dtype\": \"number\",\n        \"std\": 5889,\n        \"min\": 0,\n        \"max\": 19995,\n        \"num_unique_values\": 26,\n        \"samples\": [\n          11995,\n          17995,\n          0\n        ],\n        \"semantic_type\": \"\",\n        \"description\": \"\"\n      }\n    },\n    {\n      \"column\": \"sale_price\",\n      \"properties\": {\n        \"dtype\": \"number\",\n        \"std\": 4513,\n        \"min\": 1595,\n        \"max\": 36500,\n        \"num_unique_values\": 91,\n        \"samples\": [\n          20995,\n          11197,\n          6397\n        ],\n        \"semantic_type\": \"\",\n        \"description\": \"\"\n      }\n    },\n    {\n      \"column\": \"discount\",\n      \"properties\": {\n        \"dtype\": \"number\",\n        \"std\": 0,\n        \"min\": 0,\n        \"max\": 0,\n        \"num_unique_values\": 1,\n        \"samples\": [\n          0\n        ],\n        \"semantic_type\": \"\",\n        \"description\": \"\"\n      }\n    },\n    {\n      \"column\": \"brand\",\n      \"properties\": {\n        \"dtype\": \"category\",\n        \"num_unique_values\": 1,\n        \"samples\": [\n          \"Nike\"\n        ],\n        \"semantic_type\": \"\",\n        \"description\": \"\"\n      }\n    },\n    {\n      \"column\": \"description\",\n      \"properties\": {\n        \"dtype\": \"string\",\n        \"num_unique_values\": 510,\n        \"samples\": [\n          \"The Nike Odyssey React Women's Running Shoe provides crazy comfort that lasts as long as you can run. Its Nike React foam cushioning is responsive yet lightweight, durable yet soft. This attraction of opposites creates a sensation that not only enhances the feeling of moving forwards, but makes running feel fun, too.\\u00a0The upper of the Nike Odyssey React is built with a lightweight, breathable fabric instead of the premium Flyknit featured on the Nike Epic React.\"\n        ],\n        \"semantic_type\": \"\",\n        \"description\": \"\"\n      }\n    },\n    {\n      \"column\": \"rating\",\n      \"properties\": {\n        \"dtype\": \"number\",\n        \"std\": 2.137755707994253,\n        \"min\": 0.0,\n        \"max\": 5.0,\n        \"num_unique_values\": 32,\n        \"samples\": [\n          2.4\n        ],\n        \"semantic_type\": \"\",\n        \"description\": \"\"\n      }\n    },\n    {\n      \"column\": \"reviews\",\n      \"properties\": {\n        \"dtype\": \"number\",\n        \"std\": 15,\n        \"min\": 0,\n        \"max\": 223,\n        \"num_unique_values\": 53,\n        \"samples\": [\n          47\n        ],\n        \"semantic_type\": \"\",\n        \"description\": \"\"\n      }\n    },\n    {\n      \"column\": \"images\",\n      \"properties\": {\n        \"dtype\": \"string\",\n        \"num_unique_values\": 498,\n        \"samples\": [\n          \"[\\\"https://c.static-nike.com/a/images/t_PDP_1728_v1/go6y9fdinwqn9rrvsu7c/zoom-pegasus-turbo-xx-running-shoe-pCFSFC.jpg\\\",\\\"https://c.static-nike.com/a/images/t_PDP_1728_v1/iqwqzqc35e2r4ynwv1jv/zoom-pegasus-turbo-xx-running-shoe-pCFSFC.jpg\\\",\\\"https://c.static-nike.com/a/images/t_PDP_1728_v1/wgamzazc9hltxhwgrr67/zoom-pegasus-turbo-xx-running-shoe-pCFSFC.jpg\\\",\\\"https://c.static-nike.com/a/images/t_PDP_1728_v1/nearjr64e0zldqiozegc/zoom-pegasus-turbo-xx-running-shoe-pCFSFC.jpg\\\",\\\"https://c.static-nike.com/a/images/t_PDP_1728_v1/pngrmclylymrm6t5ij4b/zoom-pegasus-turbo-xx-running-shoe-pCFSFC.jpg\\\",\\\"https://c.static-nike.com/a/images/t_PDP_1728_v1/qdohfocsb2pqc2khz0uc/zoom-pegasus-turbo-xx-running-shoe-pCFSFC.jpg\\\"]\"\n        ],\n        \"semantic_type\": \"\",\n        \"description\": \"\"\n      }\n    }\n  ]\n}"
            }
          },
          "metadata": {},
          "execution_count": 43
        }
      ]
    },
    {
      "cell_type": "markdown",
      "source": [
        "**Data Cleaning**"
      ],
      "metadata": {
        "id": "m64geQ3V8SMb"
      },
      "id": "m64geQ3V8SMb"
    },
    {
      "cell_type": "markdown",
      "source": [
        "Data cleaning means fixing bad data in your data set.<br>\n",
        "\n",
        "Bad data could be:<br>\n",
        "\n",
        "Empty cells<br>\n",
        "\n",
        "Data in wrong format<br>\n",
        "\n",
        "Wrong data<br>\n",
        "\n",
        "Duplicates<br>"
      ],
      "metadata": {
        "id": "X7dWZwJr8Y5Y"
      },
      "id": "X7dWZwJr8Y5Y"
    },
    {
      "cell_type": "markdown",
      "source": [
        "**Dealing with empty cells**\n",
        "\n",
        "one of the easiest way to deal with empty cells is to delete the row which contains empty dataset"
      ],
      "metadata": {
        "id": "BJ4WYnEa8yAr"
      },
      "id": "BJ4WYnEa8yAr"
    },
    {
      "cell_type": "code",
      "source": [
        "import pandas as pd\n",
        "\n",
        "df = pd.read_csv('nike_shoes_sales.csv')\n",
        "\n",
        "new_df = df.dropna() #Dropping Rows with Missing Values\n",
        "new_df.head(10)\n",
        "\n"
      ],
      "metadata": {
        "id": "zRCsAbnl8_Lp",
        "outputId": "afb5283e-ec4c-4f96-ed54-46656ab7fa5d",
        "colab": {
          "base_uri": "https://localhost:8080/",
          "height": 991
        }
      },
      "id": "zRCsAbnl8_Lp",
      "execution_count": 69,
      "outputs": [
        {
          "output_type": "execute_result",
          "data": {
            "text/plain": [
              "                      product_name  product_id  listing_price  sale_price  \\\n",
              "0   Nike Air Force 1 '07 Essential  CJ1646-600              0        7495   \n",
              "1             Nike Air Force 1 '07  CT4328-101              0        7495   \n",
              "2     Nike Air Force 1 Sage Low LX  CI3482-200              0        9995   \n",
              "3              Nike Air Max Dia SE  CD0479-200              0        9995   \n",
              "4              Nike Air Max Verona  CZ6156-101              0        9995   \n",
              "5               Nike Free Metcon 3  CJ6314-146              0        9995   \n",
              "6                  NikeCourt Blanc  CI0808-100              0        5995   \n",
              "8        Nike Zoom Pegasus Turbo 2  AT8242-009              0       15995   \n",
              "9       Nike Air Max 270 React ENG  CK2595-500              0       14995   \n",
              "10                 Nike Air Max 90  CD0490-104              0        9995   \n",
              "\n",
              "    discount brand                                        description  rating  \\\n",
              "0          0  Nike  Let your shoe game shimmer in the Nike Air For...     0.0   \n",
              "1          0  Nike  The legend lives on in the Nike Air Force 1 '0...     0.0   \n",
              "2          0  Nike  Taking both height and craft to new levels, th...     0.0   \n",
              "3          0  Nike  Designed for a woman's foot, the Nike Air Max ...     0.0   \n",
              "4          0  Nike  Pass on the good vibes in the Nike Air Max Ver...     0.0   \n",
              "5          0  Nike  The Nike Free Metcon 3 combines the flexibilit...     0.0   \n",
              "6          0  Nike  Inspired by heritage models, the NikeCourt Bla...     0.0   \n",
              "8          0  Nike  The Nike Zoom Pegasus Turbo 2 is updated with ...     2.7   \n",
              "9          0  Nike  The Nike Air Max 270 React ENG combines a full...     5.0   \n",
              "10         0  Nike  Clean lines, versatile and timeless—the people...     5.0   \n",
              "\n",
              "    reviews                                             images  \n",
              "0         0  [\"https://static.nike.com/a/images/t_PDP_1728_...  \n",
              "1         0  [\"https://static.nike.com/a/images/t_PDP_1728_...  \n",
              "2         0  [\"https://static.nike.com/a/images/t_PDP_1728_...  \n",
              "3         0  [\"https://static.nike.com/a/images/t_PDP_1728_...  \n",
              "4         0  [\"https://static.nike.com/a/images/t_PDP_1728_...  \n",
              "5         0  [\"https://static.nike.com/a/images/t_PDP_1728_...  \n",
              "6         0  [\"https://static.nike.com/a/images/t_PDP_1728_...  \n",
              "8        14  [\"https://static.nike.com/a/images/t_PDP_1728_...  \n",
              "9         2  [\"https://static.nike.com/a/images/t_PDP_1728_...  \n",
              "10        9  [\"https://static.nike.com/a/images/t_PDP_1728_...  "
            ],
            "text/html": [
              "\n",
              "  <div id=\"df-14471e53-7eed-47af-8157-f4ed4c85165d\" class=\"colab-df-container\">\n",
              "    <div>\n",
              "<style scoped>\n",
              "    .dataframe tbody tr th:only-of-type {\n",
              "        vertical-align: middle;\n",
              "    }\n",
              "\n",
              "    .dataframe tbody tr th {\n",
              "        vertical-align: top;\n",
              "    }\n",
              "\n",
              "    .dataframe thead th {\n",
              "        text-align: right;\n",
              "    }\n",
              "</style>\n",
              "<table border=\"1\" class=\"dataframe\">\n",
              "  <thead>\n",
              "    <tr style=\"text-align: right;\">\n",
              "      <th></th>\n",
              "      <th>product_name</th>\n",
              "      <th>product_id</th>\n",
              "      <th>listing_price</th>\n",
              "      <th>sale_price</th>\n",
              "      <th>discount</th>\n",
              "      <th>brand</th>\n",
              "      <th>description</th>\n",
              "      <th>rating</th>\n",
              "      <th>reviews</th>\n",
              "      <th>images</th>\n",
              "    </tr>\n",
              "  </thead>\n",
              "  <tbody>\n",
              "    <tr>\n",
              "      <th>0</th>\n",
              "      <td>Nike Air Force 1 '07 Essential</td>\n",
              "      <td>CJ1646-600</td>\n",
              "      <td>0</td>\n",
              "      <td>7495</td>\n",
              "      <td>0</td>\n",
              "      <td>Nike</td>\n",
              "      <td>Let your shoe game shimmer in the Nike Air For...</td>\n",
              "      <td>0.0</td>\n",
              "      <td>0</td>\n",
              "      <td>[\"https://static.nike.com/a/images/t_PDP_1728_...</td>\n",
              "    </tr>\n",
              "    <tr>\n",
              "      <th>1</th>\n",
              "      <td>Nike Air Force 1 '07</td>\n",
              "      <td>CT4328-101</td>\n",
              "      <td>0</td>\n",
              "      <td>7495</td>\n",
              "      <td>0</td>\n",
              "      <td>Nike</td>\n",
              "      <td>The legend lives on in the Nike Air Force 1 '0...</td>\n",
              "      <td>0.0</td>\n",
              "      <td>0</td>\n",
              "      <td>[\"https://static.nike.com/a/images/t_PDP_1728_...</td>\n",
              "    </tr>\n",
              "    <tr>\n",
              "      <th>2</th>\n",
              "      <td>Nike Air Force 1 Sage Low LX</td>\n",
              "      <td>CI3482-200</td>\n",
              "      <td>0</td>\n",
              "      <td>9995</td>\n",
              "      <td>0</td>\n",
              "      <td>Nike</td>\n",
              "      <td>Taking both height and craft to new levels, th...</td>\n",
              "      <td>0.0</td>\n",
              "      <td>0</td>\n",
              "      <td>[\"https://static.nike.com/a/images/t_PDP_1728_...</td>\n",
              "    </tr>\n",
              "    <tr>\n",
              "      <th>3</th>\n",
              "      <td>Nike Air Max Dia SE</td>\n",
              "      <td>CD0479-200</td>\n",
              "      <td>0</td>\n",
              "      <td>9995</td>\n",
              "      <td>0</td>\n",
              "      <td>Nike</td>\n",
              "      <td>Designed for a woman's foot, the Nike Air Max ...</td>\n",
              "      <td>0.0</td>\n",
              "      <td>0</td>\n",
              "      <td>[\"https://static.nike.com/a/images/t_PDP_1728_...</td>\n",
              "    </tr>\n",
              "    <tr>\n",
              "      <th>4</th>\n",
              "      <td>Nike Air Max Verona</td>\n",
              "      <td>CZ6156-101</td>\n",
              "      <td>0</td>\n",
              "      <td>9995</td>\n",
              "      <td>0</td>\n",
              "      <td>Nike</td>\n",
              "      <td>Pass on the good vibes in the Nike Air Max Ver...</td>\n",
              "      <td>0.0</td>\n",
              "      <td>0</td>\n",
              "      <td>[\"https://static.nike.com/a/images/t_PDP_1728_...</td>\n",
              "    </tr>\n",
              "    <tr>\n",
              "      <th>5</th>\n",
              "      <td>Nike Free Metcon 3</td>\n",
              "      <td>CJ6314-146</td>\n",
              "      <td>0</td>\n",
              "      <td>9995</td>\n",
              "      <td>0</td>\n",
              "      <td>Nike</td>\n",
              "      <td>The Nike Free Metcon 3 combines the flexibilit...</td>\n",
              "      <td>0.0</td>\n",
              "      <td>0</td>\n",
              "      <td>[\"https://static.nike.com/a/images/t_PDP_1728_...</td>\n",
              "    </tr>\n",
              "    <tr>\n",
              "      <th>6</th>\n",
              "      <td>NikeCourt Blanc</td>\n",
              "      <td>CI0808-100</td>\n",
              "      <td>0</td>\n",
              "      <td>5995</td>\n",
              "      <td>0</td>\n",
              "      <td>Nike</td>\n",
              "      <td>Inspired by heritage models, the NikeCourt Bla...</td>\n",
              "      <td>0.0</td>\n",
              "      <td>0</td>\n",
              "      <td>[\"https://static.nike.com/a/images/t_PDP_1728_...</td>\n",
              "    </tr>\n",
              "    <tr>\n",
              "      <th>8</th>\n",
              "      <td>Nike Zoom Pegasus Turbo 2</td>\n",
              "      <td>AT8242-009</td>\n",
              "      <td>0</td>\n",
              "      <td>15995</td>\n",
              "      <td>0</td>\n",
              "      <td>Nike</td>\n",
              "      <td>The Nike Zoom Pegasus Turbo 2 is updated with ...</td>\n",
              "      <td>2.7</td>\n",
              "      <td>14</td>\n",
              "      <td>[\"https://static.nike.com/a/images/t_PDP_1728_...</td>\n",
              "    </tr>\n",
              "    <tr>\n",
              "      <th>9</th>\n",
              "      <td>Nike Air Max 270 React ENG</td>\n",
              "      <td>CK2595-500</td>\n",
              "      <td>0</td>\n",
              "      <td>14995</td>\n",
              "      <td>0</td>\n",
              "      <td>Nike</td>\n",
              "      <td>The Nike Air Max 270 React ENG combines a full...</td>\n",
              "      <td>5.0</td>\n",
              "      <td>2</td>\n",
              "      <td>[\"https://static.nike.com/a/images/t_PDP_1728_...</td>\n",
              "    </tr>\n",
              "    <tr>\n",
              "      <th>10</th>\n",
              "      <td>Nike Air Max 90</td>\n",
              "      <td>CD0490-104</td>\n",
              "      <td>0</td>\n",
              "      <td>9995</td>\n",
              "      <td>0</td>\n",
              "      <td>Nike</td>\n",
              "      <td>Clean lines, versatile and timeless—the people...</td>\n",
              "      <td>5.0</td>\n",
              "      <td>9</td>\n",
              "      <td>[\"https://static.nike.com/a/images/t_PDP_1728_...</td>\n",
              "    </tr>\n",
              "  </tbody>\n",
              "</table>\n",
              "</div>\n",
              "    <div class=\"colab-df-buttons\">\n",
              "\n",
              "  <div class=\"colab-df-container\">\n",
              "    <button class=\"colab-df-convert\" onclick=\"convertToInteractive('df-14471e53-7eed-47af-8157-f4ed4c85165d')\"\n",
              "            title=\"Convert this dataframe to an interactive table.\"\n",
              "            style=\"display:none;\">\n",
              "\n",
              "  <svg xmlns=\"http://www.w3.org/2000/svg\" height=\"24px\" viewBox=\"0 -960 960 960\">\n",
              "    <path d=\"M120-120v-720h720v720H120Zm60-500h600v-160H180v160Zm220 220h160v-160H400v160Zm0 220h160v-160H400v160ZM180-400h160v-160H180v160Zm440 0h160v-160H620v160ZM180-180h160v-160H180v160Zm440 0h160v-160H620v160Z\"/>\n",
              "  </svg>\n",
              "    </button>\n",
              "\n",
              "  <style>\n",
              "    .colab-df-container {\n",
              "      display:flex;\n",
              "      gap: 12px;\n",
              "    }\n",
              "\n",
              "    .colab-df-convert {\n",
              "      background-color: #E8F0FE;\n",
              "      border: none;\n",
              "      border-radius: 50%;\n",
              "      cursor: pointer;\n",
              "      display: none;\n",
              "      fill: #1967D2;\n",
              "      height: 32px;\n",
              "      padding: 0 0 0 0;\n",
              "      width: 32px;\n",
              "    }\n",
              "\n",
              "    .colab-df-convert:hover {\n",
              "      background-color: #E2EBFA;\n",
              "      box-shadow: 0px 1px 2px rgba(60, 64, 67, 0.3), 0px 1px 3px 1px rgba(60, 64, 67, 0.15);\n",
              "      fill: #174EA6;\n",
              "    }\n",
              "\n",
              "    .colab-df-buttons div {\n",
              "      margin-bottom: 4px;\n",
              "    }\n",
              "\n",
              "    [theme=dark] .colab-df-convert {\n",
              "      background-color: #3B4455;\n",
              "      fill: #D2E3FC;\n",
              "    }\n",
              "\n",
              "    [theme=dark] .colab-df-convert:hover {\n",
              "      background-color: #434B5C;\n",
              "      box-shadow: 0px 1px 3px 1px rgba(0, 0, 0, 0.15);\n",
              "      filter: drop-shadow(0px 1px 2px rgba(0, 0, 0, 0.3));\n",
              "      fill: #FFFFFF;\n",
              "    }\n",
              "  </style>\n",
              "\n",
              "    <script>\n",
              "      const buttonEl =\n",
              "        document.querySelector('#df-14471e53-7eed-47af-8157-f4ed4c85165d button.colab-df-convert');\n",
              "      buttonEl.style.display =\n",
              "        google.colab.kernel.accessAllowed ? 'block' : 'none';\n",
              "\n",
              "      async function convertToInteractive(key) {\n",
              "        const element = document.querySelector('#df-14471e53-7eed-47af-8157-f4ed4c85165d');\n",
              "        const dataTable =\n",
              "          await google.colab.kernel.invokeFunction('convertToInteractive',\n",
              "                                                    [key], {});\n",
              "        if (!dataTable) return;\n",
              "\n",
              "        const docLinkHtml = 'Like what you see? Visit the ' +\n",
              "          '<a target=\"_blank\" href=https://colab.research.google.com/notebooks/data_table.ipynb>data table notebook</a>'\n",
              "          + ' to learn more about interactive tables.';\n",
              "        element.innerHTML = '';\n",
              "        dataTable['output_type'] = 'display_data';\n",
              "        await google.colab.output.renderOutput(dataTable, element);\n",
              "        const docLink = document.createElement('div');\n",
              "        docLink.innerHTML = docLinkHtml;\n",
              "        element.appendChild(docLink);\n",
              "      }\n",
              "    </script>\n",
              "  </div>\n",
              "\n",
              "\n",
              "<div id=\"df-a2b26a66-85c7-457c-b61f-3b9416305e24\">\n",
              "  <button class=\"colab-df-quickchart\" onclick=\"quickchart('df-a2b26a66-85c7-457c-b61f-3b9416305e24')\"\n",
              "            title=\"Suggest charts\"\n",
              "            style=\"display:none;\">\n",
              "\n",
              "<svg xmlns=\"http://www.w3.org/2000/svg\" height=\"24px\"viewBox=\"0 0 24 24\"\n",
              "     width=\"24px\">\n",
              "    <g>\n",
              "        <path d=\"M19 3H5c-1.1 0-2 .9-2 2v14c0 1.1.9 2 2 2h14c1.1 0 2-.9 2-2V5c0-1.1-.9-2-2-2zM9 17H7v-7h2v7zm4 0h-2V7h2v10zm4 0h-2v-4h2v4z\"/>\n",
              "    </g>\n",
              "</svg>\n",
              "  </button>\n",
              "\n",
              "<style>\n",
              "  .colab-df-quickchart {\n",
              "      --bg-color: #E8F0FE;\n",
              "      --fill-color: #1967D2;\n",
              "      --hover-bg-color: #E2EBFA;\n",
              "      --hover-fill-color: #174EA6;\n",
              "      --disabled-fill-color: #AAA;\n",
              "      --disabled-bg-color: #DDD;\n",
              "  }\n",
              "\n",
              "  [theme=dark] .colab-df-quickchart {\n",
              "      --bg-color: #3B4455;\n",
              "      --fill-color: #D2E3FC;\n",
              "      --hover-bg-color: #434B5C;\n",
              "      --hover-fill-color: #FFFFFF;\n",
              "      --disabled-bg-color: #3B4455;\n",
              "      --disabled-fill-color: #666;\n",
              "  }\n",
              "\n",
              "  .colab-df-quickchart {\n",
              "    background-color: var(--bg-color);\n",
              "    border: none;\n",
              "    border-radius: 50%;\n",
              "    cursor: pointer;\n",
              "    display: none;\n",
              "    fill: var(--fill-color);\n",
              "    height: 32px;\n",
              "    padding: 0;\n",
              "    width: 32px;\n",
              "  }\n",
              "\n",
              "  .colab-df-quickchart:hover {\n",
              "    background-color: var(--hover-bg-color);\n",
              "    box-shadow: 0 1px 2px rgba(60, 64, 67, 0.3), 0 1px 3px 1px rgba(60, 64, 67, 0.15);\n",
              "    fill: var(--button-hover-fill-color);\n",
              "  }\n",
              "\n",
              "  .colab-df-quickchart-complete:disabled,\n",
              "  .colab-df-quickchart-complete:disabled:hover {\n",
              "    background-color: var(--disabled-bg-color);\n",
              "    fill: var(--disabled-fill-color);\n",
              "    box-shadow: none;\n",
              "  }\n",
              "\n",
              "  .colab-df-spinner {\n",
              "    border: 2px solid var(--fill-color);\n",
              "    border-color: transparent;\n",
              "    border-bottom-color: var(--fill-color);\n",
              "    animation:\n",
              "      spin 1s steps(1) infinite;\n",
              "  }\n",
              "\n",
              "  @keyframes spin {\n",
              "    0% {\n",
              "      border-color: transparent;\n",
              "      border-bottom-color: var(--fill-color);\n",
              "      border-left-color: var(--fill-color);\n",
              "    }\n",
              "    20% {\n",
              "      border-color: transparent;\n",
              "      border-left-color: var(--fill-color);\n",
              "      border-top-color: var(--fill-color);\n",
              "    }\n",
              "    30% {\n",
              "      border-color: transparent;\n",
              "      border-left-color: var(--fill-color);\n",
              "      border-top-color: var(--fill-color);\n",
              "      border-right-color: var(--fill-color);\n",
              "    }\n",
              "    40% {\n",
              "      border-color: transparent;\n",
              "      border-right-color: var(--fill-color);\n",
              "      border-top-color: var(--fill-color);\n",
              "    }\n",
              "    60% {\n",
              "      border-color: transparent;\n",
              "      border-right-color: var(--fill-color);\n",
              "    }\n",
              "    80% {\n",
              "      border-color: transparent;\n",
              "      border-right-color: var(--fill-color);\n",
              "      border-bottom-color: var(--fill-color);\n",
              "    }\n",
              "    90% {\n",
              "      border-color: transparent;\n",
              "      border-bottom-color: var(--fill-color);\n",
              "    }\n",
              "  }\n",
              "</style>\n",
              "\n",
              "  <script>\n",
              "    async function quickchart(key) {\n",
              "      const quickchartButtonEl =\n",
              "        document.querySelector('#' + key + ' button');\n",
              "      quickchartButtonEl.disabled = true;  // To prevent multiple clicks.\n",
              "      quickchartButtonEl.classList.add('colab-df-spinner');\n",
              "      try {\n",
              "        const charts = await google.colab.kernel.invokeFunction(\n",
              "            'suggestCharts', [key], {});\n",
              "      } catch (error) {\n",
              "        console.error('Error during call to suggestCharts:', error);\n",
              "      }\n",
              "      quickchartButtonEl.classList.remove('colab-df-spinner');\n",
              "      quickchartButtonEl.classList.add('colab-df-quickchart-complete');\n",
              "    }\n",
              "    (() => {\n",
              "      let quickchartButtonEl =\n",
              "        document.querySelector('#df-a2b26a66-85c7-457c-b61f-3b9416305e24 button');\n",
              "      quickchartButtonEl.style.display =\n",
              "        google.colab.kernel.accessAllowed ? 'block' : 'none';\n",
              "    })();\n",
              "  </script>\n",
              "</div>\n",
              "\n",
              "    </div>\n",
              "  </div>\n"
            ],
            "application/vnd.google.colaboratory.intrinsic+json": {
              "type": "dataframe",
              "variable_name": "new_df",
              "summary": "{\n  \"name\": \"new_df\",\n  \"rows\": 569,\n  \"fields\": [\n    {\n      \"column\": \"product_name\",\n      \"properties\": {\n        \"dtype\": \"string\",\n        \"num_unique_values\": 352,\n        \"samples\": [\n          \"Air Max 200 20\",\n          \"Nike Joyride Flyknit AW\",\n          \"Nike Legend React\"\n        ],\n        \"semantic_type\": \"\",\n        \"description\": \"\"\n      }\n    },\n    {\n      \"column\": \"product_id\",\n      \"properties\": {\n        \"dtype\": \"string\",\n        \"num_unique_values\": 495,\n        \"samples\": [\n          \"CQ0989-002\",\n          \"AT1198-401\",\n          \"AR4561-200\"\n        ],\n        \"semantic_type\": \"\",\n        \"description\": \"\"\n      }\n    },\n    {\n      \"column\": \"listing_price\",\n      \"properties\": {\n        \"dtype\": \"number\",\n        \"std\": 5994,\n        \"min\": 0,\n        \"max\": 19995,\n        \"num_unique_values\": 26,\n        \"samples\": [\n          8495,\n          19995,\n          0\n        ],\n        \"semantic_type\": \"\",\n        \"description\": \"\"\n      }\n    },\n    {\n      \"column\": \"sale_price\",\n      \"properties\": {\n        \"dtype\": \"number\",\n        \"std\": 4382,\n        \"min\": 1595,\n        \"max\": 36500,\n        \"num_unique_values\": 87,\n        \"samples\": [\n          13297,\n          7495,\n          7697\n        ],\n        \"semantic_type\": \"\",\n        \"description\": \"\"\n      }\n    },\n    {\n      \"column\": \"discount\",\n      \"properties\": {\n        \"dtype\": \"number\",\n        \"std\": 0,\n        \"min\": 0,\n        \"max\": 0,\n        \"num_unique_values\": 1,\n        \"samples\": [\n          0\n        ],\n        \"semantic_type\": \"\",\n        \"description\": \"\"\n      }\n    },\n    {\n      \"column\": \"brand\",\n      \"properties\": {\n        \"dtype\": \"category\",\n        \"num_unique_values\": 1,\n        \"samples\": [\n          \"Nike\"\n        ],\n        \"semantic_type\": \"\",\n        \"description\": \"\"\n      }\n    },\n    {\n      \"column\": \"description\",\n      \"properties\": {\n        \"dtype\": \"string\",\n        \"num_unique_values\": 461,\n        \"samples\": [\n          \"The Nike SB Chron Solarsoft Premium makes a statement with a fresh print. You'll get the same flexible comfort you love with a touch of something extra.\"\n        ],\n        \"semantic_type\": \"\",\n        \"description\": \"\"\n      }\n    },\n    {\n      \"column\": \"rating\",\n      \"properties\": {\n        \"dtype\": \"number\",\n        \"std\": 2.125474889531132,\n        \"min\": 0.0,\n        \"max\": 5.0,\n        \"num_unique_values\": 30,\n        \"samples\": [\n          3.2\n        ],\n        \"semantic_type\": \"\",\n        \"description\": \"\"\n      }\n    },\n    {\n      \"column\": \"reviews\",\n      \"properties\": {\n        \"dtype\": \"number\",\n        \"std\": 16,\n        \"min\": 0,\n        \"max\": 223,\n        \"num_unique_values\": 50,\n        \"samples\": [\n          13\n        ],\n        \"semantic_type\": \"\",\n        \"description\": \"\"\n      }\n    },\n    {\n      \"column\": \"images\",\n      \"properties\": {\n        \"dtype\": \"string\",\n        \"num_unique_values\": 495,\n        \"samples\": [\n          \"[\\\"https://static.nike.com/a/images/t_PDP_1728_v1/m5u3hbtedpsi3ef6i9s6/drop-type-shoe-1fZrf5.jpg\\\",\\\"https://static.nike.com/a/images/t_PDP_1728_v1/juixabc5znwyfwcmdlnr/drop-type-shoe-1fZrf5.jpg\\\",\\\"https://static.nike.com/a/images/t_PDP_1728_v1/tnl1uacedyjjdfzgyfh9/drop-type-shoe-1fZrf5.jpg\\\",\\\"https://static.nike.com/a/images/t_PDP_1728_v1/jxsjs173s9ulfyuhuox2/drop-type-shoe-1fZrf5.jpg\\\",\\\"https://static.nike.com/a/images/t_PDP_1728_v1/j2mhylenng9h0om6n5i1/drop-type-shoe-1fZrf5.jpg\\\",\\\"https://static.nike.com/a/images/t_PDP_1728_v1/yggu6chqsqmakwbwtc57/drop-type-shoe-1fZrf5.jpg\\\"]\"\n        ],\n        \"semantic_type\": \"\",\n        \"description\": \"\"\n      }\n    }\n  ]\n}"
            }
          },
          "metadata": {},
          "execution_count": 69
        }
      ]
    },
    {
      "cell_type": "markdown",
      "source": [
        "**Removing Duplicates Values**"
      ],
      "metadata": {
        "id": "W5HkpOFVAQbB"
      },
      "id": "W5HkpOFVAQbB"
    },
    {
      "cell_type": "code",
      "source": [
        "import pandas as pd\n",
        "path=\"/content/nike.csv\"\n",
        "df=pd.read_csv(path)\n",
        "print(df.duplicated())\n",
        "df.drop_duplicates()"
      ],
      "metadata": {
        "id": "5g9pHKGG-sVT",
        "outputId": "165bac9b-3873-4f8b-efb3-d0d5d288e4a4",
        "colab": {
          "base_uri": "https://localhost:8080/",
          "height": 1000
        }
      },
      "id": "5g9pHKGG-sVT",
      "execution_count": 62,
      "outputs": [
        {
          "output_type": "stream",
          "name": "stdout",
          "text": [
            "0      False\n",
            "1      False\n",
            "2      False\n",
            "3      False\n",
            "4      False\n",
            "       ...  \n",
            "638    False\n",
            "639     True\n",
            "640     True\n",
            "641    False\n",
            "642    False\n",
            "Length: 643, dtype: bool\n"
          ]
        },
        {
          "output_type": "execute_result",
          "data": {
            "text/plain": [
              "                        product_name  product_id  listing_price  sale_price  \\\n",
              "0     Nike Air Force 1 '07 Essential  CJ1646-600              0        7495   \n",
              "1               Nike Air Force 1 '07  CT4328-101              0        7495   \n",
              "2       Nike Air Force 1 Sage Low LX  CI3482-200              0        9995   \n",
              "3                Nike Air Max Dia SE  CD0479-200              0        9995   \n",
              "4                Nike Air Max Verona  CZ6156-101              0        9995   \n",
              "..                               ...         ...            ...         ...   \n",
              "635  Nike Tiempo Legend 8 Academy TF  AT6100-606              0        6495   \n",
              "637            Nike React Metcon AMP  CT9155-063              0       13995   \n",
              "638               Air Jordan 8 Retro  CI1236-100          15995       12797   \n",
              "641                  Nike Air Max 98  AH6799-300              0       16995   \n",
              "642                   Nike P-6000 SE  CJ9585-600           8995        6297   \n",
              "\n",
              "     discount brand                                        description  \\\n",
              "0           0  Nike  Let your shoe game shimmer in the Nike Air For...   \n",
              "1           0  Nike  The legend lives on in the Nike Air Force 1 '0...   \n",
              "2           0  Nike  Taking both height and craft to new levels, th...   \n",
              "3           0  Nike  Designed for a woman's foot, the Nike Air Max ...   \n",
              "4           0  Nike  Pass on the good vibes in the Nike Air Max Ver...   \n",
              "..        ...   ...                                                ...   \n",
              "635         0  Nike  The Nike Tiempo Legend 8 Academy TF takes the ...   \n",
              "637         0  Nike  The Nike React Metcon AMP takes the stability ...   \n",
              "638         0  Nike  The Air Jordan 8 Retro recaptures the memorabl...   \n",
              "641         0  Nike  The Nike Air Max 98 features the OG design lin...   \n",
              "642         0  Nike  A mash-up of Pegasus' past, the Nike P-6000 SE...   \n",
              "\n",
              "     rating  reviews                                             images  \n",
              "0       0.0        0  [\"https://static.nike.com/a/images/t_PDP_1728_...  \n",
              "1       0.0        0  [\"https://static.nike.com/a/images/t_PDP_1728_...  \n",
              "2       0.0        0  [\"https://static.nike.com/a/images/t_PDP_1728_...  \n",
              "3       0.0        0  [\"https://static.nike.com/a/images/t_PDP_1728_...  \n",
              "4       0.0        0  [\"https://static.nike.com/a/images/t_PDP_1728_...  \n",
              "..      ...      ...                                                ...  \n",
              "635     0.0        0  [\"https://static.nike.com/a/images/t_PDP_1728_...  \n",
              "637     3.0        1  [\"https://static.nike.com/a/images/t_PDP_1728_...  \n",
              "638     5.0        1  [\"https://static.nike.com/a/images/t_PDP_1728_...  \n",
              "641     4.0        4  [\"https://static.nike.com/a/images/t_PDP_1728_...  \n",
              "642     0.0        0  [\"https://static.nike.com/a/images/t_PDP_1728_...  \n",
              "\n",
              "[555 rows x 10 columns]"
            ],
            "text/html": [
              "\n",
              "  <div id=\"df-7648557e-178b-4366-be00-3e4e0ff31920\" class=\"colab-df-container\">\n",
              "    <div>\n",
              "<style scoped>\n",
              "    .dataframe tbody tr th:only-of-type {\n",
              "        vertical-align: middle;\n",
              "    }\n",
              "\n",
              "    .dataframe tbody tr th {\n",
              "        vertical-align: top;\n",
              "    }\n",
              "\n",
              "    .dataframe thead th {\n",
              "        text-align: right;\n",
              "    }\n",
              "</style>\n",
              "<table border=\"1\" class=\"dataframe\">\n",
              "  <thead>\n",
              "    <tr style=\"text-align: right;\">\n",
              "      <th></th>\n",
              "      <th>product_name</th>\n",
              "      <th>product_id</th>\n",
              "      <th>listing_price</th>\n",
              "      <th>sale_price</th>\n",
              "      <th>discount</th>\n",
              "      <th>brand</th>\n",
              "      <th>description</th>\n",
              "      <th>rating</th>\n",
              "      <th>reviews</th>\n",
              "      <th>images</th>\n",
              "    </tr>\n",
              "  </thead>\n",
              "  <tbody>\n",
              "    <tr>\n",
              "      <th>0</th>\n",
              "      <td>Nike Air Force 1 '07 Essential</td>\n",
              "      <td>CJ1646-600</td>\n",
              "      <td>0</td>\n",
              "      <td>7495</td>\n",
              "      <td>0</td>\n",
              "      <td>Nike</td>\n",
              "      <td>Let your shoe game shimmer in the Nike Air For...</td>\n",
              "      <td>0.0</td>\n",
              "      <td>0</td>\n",
              "      <td>[\"https://static.nike.com/a/images/t_PDP_1728_...</td>\n",
              "    </tr>\n",
              "    <tr>\n",
              "      <th>1</th>\n",
              "      <td>Nike Air Force 1 '07</td>\n",
              "      <td>CT4328-101</td>\n",
              "      <td>0</td>\n",
              "      <td>7495</td>\n",
              "      <td>0</td>\n",
              "      <td>Nike</td>\n",
              "      <td>The legend lives on in the Nike Air Force 1 '0...</td>\n",
              "      <td>0.0</td>\n",
              "      <td>0</td>\n",
              "      <td>[\"https://static.nike.com/a/images/t_PDP_1728_...</td>\n",
              "    </tr>\n",
              "    <tr>\n",
              "      <th>2</th>\n",
              "      <td>Nike Air Force 1 Sage Low LX</td>\n",
              "      <td>CI3482-200</td>\n",
              "      <td>0</td>\n",
              "      <td>9995</td>\n",
              "      <td>0</td>\n",
              "      <td>Nike</td>\n",
              "      <td>Taking both height and craft to new levels, th...</td>\n",
              "      <td>0.0</td>\n",
              "      <td>0</td>\n",
              "      <td>[\"https://static.nike.com/a/images/t_PDP_1728_...</td>\n",
              "    </tr>\n",
              "    <tr>\n",
              "      <th>3</th>\n",
              "      <td>Nike Air Max Dia SE</td>\n",
              "      <td>CD0479-200</td>\n",
              "      <td>0</td>\n",
              "      <td>9995</td>\n",
              "      <td>0</td>\n",
              "      <td>Nike</td>\n",
              "      <td>Designed for a woman's foot, the Nike Air Max ...</td>\n",
              "      <td>0.0</td>\n",
              "      <td>0</td>\n",
              "      <td>[\"https://static.nike.com/a/images/t_PDP_1728_...</td>\n",
              "    </tr>\n",
              "    <tr>\n",
              "      <th>4</th>\n",
              "      <td>Nike Air Max Verona</td>\n",
              "      <td>CZ6156-101</td>\n",
              "      <td>0</td>\n",
              "      <td>9995</td>\n",
              "      <td>0</td>\n",
              "      <td>Nike</td>\n",
              "      <td>Pass on the good vibes in the Nike Air Max Ver...</td>\n",
              "      <td>0.0</td>\n",
              "      <td>0</td>\n",
              "      <td>[\"https://static.nike.com/a/images/t_PDP_1728_...</td>\n",
              "    </tr>\n",
              "    <tr>\n",
              "      <th>...</th>\n",
              "      <td>...</td>\n",
              "      <td>...</td>\n",
              "      <td>...</td>\n",
              "      <td>...</td>\n",
              "      <td>...</td>\n",
              "      <td>...</td>\n",
              "      <td>...</td>\n",
              "      <td>...</td>\n",
              "      <td>...</td>\n",
              "      <td>...</td>\n",
              "    </tr>\n",
              "    <tr>\n",
              "      <th>635</th>\n",
              "      <td>Nike Tiempo Legend 8 Academy TF</td>\n",
              "      <td>AT6100-606</td>\n",
              "      <td>0</td>\n",
              "      <td>6495</td>\n",
              "      <td>0</td>\n",
              "      <td>Nike</td>\n",
              "      <td>The Nike Tiempo Legend 8 Academy TF takes the ...</td>\n",
              "      <td>0.0</td>\n",
              "      <td>0</td>\n",
              "      <td>[\"https://static.nike.com/a/images/t_PDP_1728_...</td>\n",
              "    </tr>\n",
              "    <tr>\n",
              "      <th>637</th>\n",
              "      <td>Nike React Metcon AMP</td>\n",
              "      <td>CT9155-063</td>\n",
              "      <td>0</td>\n",
              "      <td>13995</td>\n",
              "      <td>0</td>\n",
              "      <td>Nike</td>\n",
              "      <td>The Nike React Metcon AMP takes the stability ...</td>\n",
              "      <td>3.0</td>\n",
              "      <td>1</td>\n",
              "      <td>[\"https://static.nike.com/a/images/t_PDP_1728_...</td>\n",
              "    </tr>\n",
              "    <tr>\n",
              "      <th>638</th>\n",
              "      <td>Air Jordan 8 Retro</td>\n",
              "      <td>CI1236-100</td>\n",
              "      <td>15995</td>\n",
              "      <td>12797</td>\n",
              "      <td>0</td>\n",
              "      <td>Nike</td>\n",
              "      <td>The Air Jordan 8 Retro recaptures the memorabl...</td>\n",
              "      <td>5.0</td>\n",
              "      <td>1</td>\n",
              "      <td>[\"https://static.nike.com/a/images/t_PDP_1728_...</td>\n",
              "    </tr>\n",
              "    <tr>\n",
              "      <th>641</th>\n",
              "      <td>Nike Air Max 98</td>\n",
              "      <td>AH6799-300</td>\n",
              "      <td>0</td>\n",
              "      <td>16995</td>\n",
              "      <td>0</td>\n",
              "      <td>Nike</td>\n",
              "      <td>The Nike Air Max 98 features the OG design lin...</td>\n",
              "      <td>4.0</td>\n",
              "      <td>4</td>\n",
              "      <td>[\"https://static.nike.com/a/images/t_PDP_1728_...</td>\n",
              "    </tr>\n",
              "    <tr>\n",
              "      <th>642</th>\n",
              "      <td>Nike P-6000 SE</td>\n",
              "      <td>CJ9585-600</td>\n",
              "      <td>8995</td>\n",
              "      <td>6297</td>\n",
              "      <td>0</td>\n",
              "      <td>Nike</td>\n",
              "      <td>A mash-up of Pegasus' past, the Nike P-6000 SE...</td>\n",
              "      <td>0.0</td>\n",
              "      <td>0</td>\n",
              "      <td>[\"https://static.nike.com/a/images/t_PDP_1728_...</td>\n",
              "    </tr>\n",
              "  </tbody>\n",
              "</table>\n",
              "<p>555 rows × 10 columns</p>\n",
              "</div>\n",
              "    <div class=\"colab-df-buttons\">\n",
              "\n",
              "  <div class=\"colab-df-container\">\n",
              "    <button class=\"colab-df-convert\" onclick=\"convertToInteractive('df-7648557e-178b-4366-be00-3e4e0ff31920')\"\n",
              "            title=\"Convert this dataframe to an interactive table.\"\n",
              "            style=\"display:none;\">\n",
              "\n",
              "  <svg xmlns=\"http://www.w3.org/2000/svg\" height=\"24px\" viewBox=\"0 -960 960 960\">\n",
              "    <path d=\"M120-120v-720h720v720H120Zm60-500h600v-160H180v160Zm220 220h160v-160H400v160Zm0 220h160v-160H400v160ZM180-400h160v-160H180v160Zm440 0h160v-160H620v160ZM180-180h160v-160H180v160Zm440 0h160v-160H620v160Z\"/>\n",
              "  </svg>\n",
              "    </button>\n",
              "\n",
              "  <style>\n",
              "    .colab-df-container {\n",
              "      display:flex;\n",
              "      gap: 12px;\n",
              "    }\n",
              "\n",
              "    .colab-df-convert {\n",
              "      background-color: #E8F0FE;\n",
              "      border: none;\n",
              "      border-radius: 50%;\n",
              "      cursor: pointer;\n",
              "      display: none;\n",
              "      fill: #1967D2;\n",
              "      height: 32px;\n",
              "      padding: 0 0 0 0;\n",
              "      width: 32px;\n",
              "    }\n",
              "\n",
              "    .colab-df-convert:hover {\n",
              "      background-color: #E2EBFA;\n",
              "      box-shadow: 0px 1px 2px rgba(60, 64, 67, 0.3), 0px 1px 3px 1px rgba(60, 64, 67, 0.15);\n",
              "      fill: #174EA6;\n",
              "    }\n",
              "\n",
              "    .colab-df-buttons div {\n",
              "      margin-bottom: 4px;\n",
              "    }\n",
              "\n",
              "    [theme=dark] .colab-df-convert {\n",
              "      background-color: #3B4455;\n",
              "      fill: #D2E3FC;\n",
              "    }\n",
              "\n",
              "    [theme=dark] .colab-df-convert:hover {\n",
              "      background-color: #434B5C;\n",
              "      box-shadow: 0px 1px 3px 1px rgba(0, 0, 0, 0.15);\n",
              "      filter: drop-shadow(0px 1px 2px rgba(0, 0, 0, 0.3));\n",
              "      fill: #FFFFFF;\n",
              "    }\n",
              "  </style>\n",
              "\n",
              "    <script>\n",
              "      const buttonEl =\n",
              "        document.querySelector('#df-7648557e-178b-4366-be00-3e4e0ff31920 button.colab-df-convert');\n",
              "      buttonEl.style.display =\n",
              "        google.colab.kernel.accessAllowed ? 'block' : 'none';\n",
              "\n",
              "      async function convertToInteractive(key) {\n",
              "        const element = document.querySelector('#df-7648557e-178b-4366-be00-3e4e0ff31920');\n",
              "        const dataTable =\n",
              "          await google.colab.kernel.invokeFunction('convertToInteractive',\n",
              "                                                    [key], {});\n",
              "        if (!dataTable) return;\n",
              "\n",
              "        const docLinkHtml = 'Like what you see? Visit the ' +\n",
              "          '<a target=\"_blank\" href=https://colab.research.google.com/notebooks/data_table.ipynb>data table notebook</a>'\n",
              "          + ' to learn more about interactive tables.';\n",
              "        element.innerHTML = '';\n",
              "        dataTable['output_type'] = 'display_data';\n",
              "        await google.colab.output.renderOutput(dataTable, element);\n",
              "        const docLink = document.createElement('div');\n",
              "        docLink.innerHTML = docLinkHtml;\n",
              "        element.appendChild(docLink);\n",
              "      }\n",
              "    </script>\n",
              "  </div>\n",
              "\n",
              "\n",
              "<div id=\"df-bff670de-fbc5-48ae-a333-d10538c63577\">\n",
              "  <button class=\"colab-df-quickchart\" onclick=\"quickchart('df-bff670de-fbc5-48ae-a333-d10538c63577')\"\n",
              "            title=\"Suggest charts\"\n",
              "            style=\"display:none;\">\n",
              "\n",
              "<svg xmlns=\"http://www.w3.org/2000/svg\" height=\"24px\"viewBox=\"0 0 24 24\"\n",
              "     width=\"24px\">\n",
              "    <g>\n",
              "        <path d=\"M19 3H5c-1.1 0-2 .9-2 2v14c0 1.1.9 2 2 2h14c1.1 0 2-.9 2-2V5c0-1.1-.9-2-2-2zM9 17H7v-7h2v7zm4 0h-2V7h2v10zm4 0h-2v-4h2v4z\"/>\n",
              "    </g>\n",
              "</svg>\n",
              "  </button>\n",
              "\n",
              "<style>\n",
              "  .colab-df-quickchart {\n",
              "      --bg-color: #E8F0FE;\n",
              "      --fill-color: #1967D2;\n",
              "      --hover-bg-color: #E2EBFA;\n",
              "      --hover-fill-color: #174EA6;\n",
              "      --disabled-fill-color: #AAA;\n",
              "      --disabled-bg-color: #DDD;\n",
              "  }\n",
              "\n",
              "  [theme=dark] .colab-df-quickchart {\n",
              "      --bg-color: #3B4455;\n",
              "      --fill-color: #D2E3FC;\n",
              "      --hover-bg-color: #434B5C;\n",
              "      --hover-fill-color: #FFFFFF;\n",
              "      --disabled-bg-color: #3B4455;\n",
              "      --disabled-fill-color: #666;\n",
              "  }\n",
              "\n",
              "  .colab-df-quickchart {\n",
              "    background-color: var(--bg-color);\n",
              "    border: none;\n",
              "    border-radius: 50%;\n",
              "    cursor: pointer;\n",
              "    display: none;\n",
              "    fill: var(--fill-color);\n",
              "    height: 32px;\n",
              "    padding: 0;\n",
              "    width: 32px;\n",
              "  }\n",
              "\n",
              "  .colab-df-quickchart:hover {\n",
              "    background-color: var(--hover-bg-color);\n",
              "    box-shadow: 0 1px 2px rgba(60, 64, 67, 0.3), 0 1px 3px 1px rgba(60, 64, 67, 0.15);\n",
              "    fill: var(--button-hover-fill-color);\n",
              "  }\n",
              "\n",
              "  .colab-df-quickchart-complete:disabled,\n",
              "  .colab-df-quickchart-complete:disabled:hover {\n",
              "    background-color: var(--disabled-bg-color);\n",
              "    fill: var(--disabled-fill-color);\n",
              "    box-shadow: none;\n",
              "  }\n",
              "\n",
              "  .colab-df-spinner {\n",
              "    border: 2px solid var(--fill-color);\n",
              "    border-color: transparent;\n",
              "    border-bottom-color: var(--fill-color);\n",
              "    animation:\n",
              "      spin 1s steps(1) infinite;\n",
              "  }\n",
              "\n",
              "  @keyframes spin {\n",
              "    0% {\n",
              "      border-color: transparent;\n",
              "      border-bottom-color: var(--fill-color);\n",
              "      border-left-color: var(--fill-color);\n",
              "    }\n",
              "    20% {\n",
              "      border-color: transparent;\n",
              "      border-left-color: var(--fill-color);\n",
              "      border-top-color: var(--fill-color);\n",
              "    }\n",
              "    30% {\n",
              "      border-color: transparent;\n",
              "      border-left-color: var(--fill-color);\n",
              "      border-top-color: var(--fill-color);\n",
              "      border-right-color: var(--fill-color);\n",
              "    }\n",
              "    40% {\n",
              "      border-color: transparent;\n",
              "      border-right-color: var(--fill-color);\n",
              "      border-top-color: var(--fill-color);\n",
              "    }\n",
              "    60% {\n",
              "      border-color: transparent;\n",
              "      border-right-color: var(--fill-color);\n",
              "    }\n",
              "    80% {\n",
              "      border-color: transparent;\n",
              "      border-right-color: var(--fill-color);\n",
              "      border-bottom-color: var(--fill-color);\n",
              "    }\n",
              "    90% {\n",
              "      border-color: transparent;\n",
              "      border-bottom-color: var(--fill-color);\n",
              "    }\n",
              "  }\n",
              "</style>\n",
              "\n",
              "  <script>\n",
              "    async function quickchart(key) {\n",
              "      const quickchartButtonEl =\n",
              "        document.querySelector('#' + key + ' button');\n",
              "      quickchartButtonEl.disabled = true;  // To prevent multiple clicks.\n",
              "      quickchartButtonEl.classList.add('colab-df-spinner');\n",
              "      try {\n",
              "        const charts = await google.colab.kernel.invokeFunction(\n",
              "            'suggestCharts', [key], {});\n",
              "      } catch (error) {\n",
              "        console.error('Error during call to suggestCharts:', error);\n",
              "      }\n",
              "      quickchartButtonEl.classList.remove('colab-df-spinner');\n",
              "      quickchartButtonEl.classList.add('colab-df-quickchart-complete');\n",
              "    }\n",
              "    (() => {\n",
              "      let quickchartButtonEl =\n",
              "        document.querySelector('#df-bff670de-fbc5-48ae-a333-d10538c63577 button');\n",
              "      quickchartButtonEl.style.display =\n",
              "        google.colab.kernel.accessAllowed ? 'block' : 'none';\n",
              "    })();\n",
              "  </script>\n",
              "</div>\n",
              "\n",
              "    </div>\n",
              "  </div>\n"
            ],
            "application/vnd.google.colaboratory.intrinsic+json": {
              "type": "dataframe",
              "summary": "{\n  \"name\": \"df\",\n  \"rows\": 555,\n  \"fields\": [\n    {\n      \"column\": \"product_name\",\n      \"properties\": {\n        \"dtype\": \"string\",\n        \"num_unique_values\": 393,\n        \"samples\": [\n          \"Nike Mercurial Superfly 7 Academy MG\",\n          \"Nike React Metcon\",\n          \"Air Jordan 11 Retro Low\"\n        ],\n        \"semantic_type\": \"\",\n        \"description\": \"\"\n      }\n    },\n    {\n      \"column\": \"product_id\",\n      \"properties\": {\n        \"dtype\": \"string\",\n        \"num_unique_values\": 554,\n        \"samples\": [\n          \"AT1198-401\",\n          \"AO2434-101\",\n          \"CD2189-002\"\n        ],\n        \"semantic_type\": \"\",\n        \"description\": \"\"\n      }\n    },\n    {\n      \"column\": \"listing_price\",\n      \"properties\": {\n        \"dtype\": \"number\",\n        \"std\": 6081,\n        \"min\": 0,\n        \"max\": 19995,\n        \"num_unique_values\": 26,\n        \"samples\": [\n          11995,\n          17995,\n          0\n        ],\n        \"semantic_type\": \"\",\n        \"description\": \"\"\n      }\n    },\n    {\n      \"column\": \"sale_price\",\n      \"properties\": {\n        \"dtype\": \"number\",\n        \"std\": 4263,\n        \"min\": 1595,\n        \"max\": 36500,\n        \"num_unique_values\": 91,\n        \"samples\": [\n          20995,\n          11197,\n          6397\n        ],\n        \"semantic_type\": \"\",\n        \"description\": \"\"\n      }\n    },\n    {\n      \"column\": \"discount\",\n      \"properties\": {\n        \"dtype\": \"number\",\n        \"std\": 0,\n        \"min\": 0,\n        \"max\": 0,\n        \"num_unique_values\": 1,\n        \"samples\": [\n          0\n        ],\n        \"semantic_type\": \"\",\n        \"description\": \"\"\n      }\n    },\n    {\n      \"column\": \"brand\",\n      \"properties\": {\n        \"dtype\": \"category\",\n        \"num_unique_values\": 1,\n        \"samples\": [\n          \"Nike\"\n        ],\n        \"semantic_type\": \"\",\n        \"description\": \"\"\n      }\n    },\n    {\n      \"column\": \"description\",\n      \"properties\": {\n        \"dtype\": \"string\",\n        \"num_unique_values\": 510,\n        \"samples\": [\n          \"The Nike Odyssey React Women's Running Shoe provides crazy comfort that lasts as long as you can run. Its Nike React foam cushioning is responsive yet lightweight, durable yet soft. This attraction of opposites creates a sensation that not only enhances the feeling of moving forwards, but makes running feel fun, too.\\u00a0The upper of the Nike Odyssey React is built with a lightweight, breathable fabric instead of the premium Flyknit featured on the Nike Epic React.\"\n        ],\n        \"semantic_type\": \"\",\n        \"description\": \"\"\n      }\n    },\n    {\n      \"column\": \"rating\",\n      \"properties\": {\n        \"dtype\": \"number\",\n        \"std\": 2.1218588480130975,\n        \"min\": 0.0,\n        \"max\": 5.0,\n        \"num_unique_values\": 32,\n        \"samples\": [\n          2.4\n        ],\n        \"semantic_type\": \"\",\n        \"description\": \"\"\n      }\n    },\n    {\n      \"column\": \"reviews\",\n      \"properties\": {\n        \"dtype\": \"number\",\n        \"std\": 16,\n        \"min\": 0,\n        \"max\": 223,\n        \"num_unique_values\": 53,\n        \"samples\": [\n          47\n        ],\n        \"semantic_type\": \"\",\n        \"description\": \"\"\n      }\n    },\n    {\n      \"column\": \"images\",\n      \"properties\": {\n        \"dtype\": \"string\",\n        \"num_unique_values\": 498,\n        \"samples\": [\n          \"[\\\"https://c.static-nike.com/a/images/t_PDP_1728_v1/go6y9fdinwqn9rrvsu7c/zoom-pegasus-turbo-xx-running-shoe-pCFSFC.jpg\\\",\\\"https://c.static-nike.com/a/images/t_PDP_1728_v1/iqwqzqc35e2r4ynwv1jv/zoom-pegasus-turbo-xx-running-shoe-pCFSFC.jpg\\\",\\\"https://c.static-nike.com/a/images/t_PDP_1728_v1/wgamzazc9hltxhwgrr67/zoom-pegasus-turbo-xx-running-shoe-pCFSFC.jpg\\\",\\\"https://c.static-nike.com/a/images/t_PDP_1728_v1/nearjr64e0zldqiozegc/zoom-pegasus-turbo-xx-running-shoe-pCFSFC.jpg\\\",\\\"https://c.static-nike.com/a/images/t_PDP_1728_v1/pngrmclylymrm6t5ij4b/zoom-pegasus-turbo-xx-running-shoe-pCFSFC.jpg\\\",\\\"https://c.static-nike.com/a/images/t_PDP_1728_v1/qdohfocsb2pqc2khz0uc/zoom-pegasus-turbo-xx-running-shoe-pCFSFC.jpg\\\"]\"\n        ],\n        \"semantic_type\": \"\",\n        \"description\": \"\"\n      }\n    }\n  ]\n}"
            }
          },
          "metadata": {},
          "execution_count": 62
        }
      ]
    },
    {
      "cell_type": "code",
      "source": [
        "import pandas as pd\n",
        "\n",
        "# Path to the CSV file\n",
        "path = \"/content/nike.csv\"\n",
        "\n",
        "# Reading the CSV file into a DataFrame\n",
        "df = pd.read_csv(path)\n",
        "\n",
        "# Identifying duplicate rows\n",
        "duplicates = df.duplicated()\n",
        "print(duplicates)\n",
        "\n",
        "# Display duplicate rows\n",
        "print(\"Duplicate rows:\")\n",
        "print(df[duplicates])\n",
        "\n",
        "# Removing duplicate rows and storing the result in a new DataFrame\n",
        "df_no_duplicates = df.drop_duplicates()\n",
        "\n",
        "# Alternatively, remove duplicates in place\n",
        "# df.drop_duplicates(inplace=True)\n",
        "\n",
        "# Resetting the index if desired\n",
        "df_no_duplicates.reset_index(drop=True, inplace=True)\n",
        "\n",
        "# Displaying the DataFrame without duplicates\n",
        "print(\"DataFrame after removing duplicates:\")\n",
        "print(df_no_duplicates)\n",
        "df_no_duplicates.plot()"
      ],
      "metadata": {
        "id": "XVB3d4oNDVRt",
        "outputId": "88dcc632-ef21-4bb5-8917-87bd032a604b",
        "colab": {
          "base_uri": "https://localhost:8080/",
          "height": 1000
        }
      },
      "id": "XVB3d4oNDVRt",
      "execution_count": 64,
      "outputs": [
        {
          "output_type": "stream",
          "name": "stdout",
          "text": [
            "0      False\n",
            "1      False\n",
            "2      False\n",
            "3      False\n",
            "4      False\n",
            "       ...  \n",
            "638    False\n",
            "639     True\n",
            "640     True\n",
            "641    False\n",
            "642    False\n",
            "Length: 643, dtype: bool\n",
            "Duplicate rows:\n",
            "                                      product_name  product_id  listing_price  \\\n",
            "167                              Nike Metcon 5 AMP  CD3395-006              0   \n",
            "236     Nike Mercurial Vapor 13 Club Neymar Jr. TF  AT8000-104              0   \n",
            "237    Nike Mercurial Vapor 13 Elite Neymar Jr. FG  AT7898-104              0   \n",
            "238  Nike Mercurial Vapor 13 Academy Neymar Jr. TF  AT7995-104              0   \n",
            "239  Nike Mercurial Vapor 13 Academy Neymar Jr. MG  AT7960-104              0   \n",
            "..                                             ...         ...            ...   \n",
            "633                      Nike ZoomX Vaporfly NEXT%  AO4568-600              0   \n",
            "634             Nike Mercurial Vapor 13 Academy IC  AT7993-414           7495   \n",
            "636                        Kyrie 6 'Enlightenment'  BQ4630-500          10995   \n",
            "639                     Nike Phantom Venom Club IC  AO0578-717           4995   \n",
            "640           Nike Mercurial Superfly 7 Academy TF  AT7978-414           8495   \n",
            "\n",
            "     sale_price  discount brand  \\\n",
            "167       11995         0  Nike   \n",
            "236        5495         0  Nike   \n",
            "237       22995         0  Nike   \n",
            "238        7995         0  Nike   \n",
            "239        7995         0  Nike   \n",
            "..          ...       ...   ...   \n",
            "633       19995         0  Nike   \n",
            "634        5247         0  Nike   \n",
            "636        8797         0  Nike   \n",
            "639        3497         0  Nike   \n",
            "640        5947         0  Nike   \n",
            "\n",
            "                                           description  rating  reviews  \\\n",
            "167  The Nike Metcon 5 AMP arms you with stability ...     5.0        2   \n",
            "236  The Nike Mercurial Vapor 13 Club Neymar Jr. TF...     0.0        0   \n",
            "237  Building on the 360 innovation of the 12, the ...     0.0        0   \n",
            "238  The soft upper of the Nike Mercurial Vapor 13 ...     0.0        0   \n",
            "239  The Nike Mercurial Vapor 13 Academy Neymar Jr....     0.0        0   \n",
            "..                                                 ...     ...      ...   \n",
            "633  The Nike ZoomX Vaporfly NEXT% clears your path...     4.7       45   \n",
            "634  The soft upper of the Nike Mercurial Vapor 13 ...     0.0        0   \n",
            "636  In spiritual circles, the colour purple repres...     4.4       10   \n",
            "639  The Nike Phantom Venom Club IC is engineered f...     0.0        0   \n",
            "640  The soft upper of the Nike Mercurial Superfly ...     5.0        1   \n",
            "\n",
            "                                                images  \n",
            "167  [\"https://static.nike.com/a/images/t_PDP_1728_...  \n",
            "236                                                NaN  \n",
            "237  [\"https://static.nike.com/a/images/t_PDP_1728_...  \n",
            "238                                                NaN  \n",
            "239  [\"https://static.nike.com/a/images/t_PDP_1728_...  \n",
            "..                                                 ...  \n",
            "633  [\"https://static.nike.com/a/images/t_PDP_1728_...  \n",
            "634                                                NaN  \n",
            "636  [\"https://static.nike.com/a/images/t_PDP_1728_...  \n",
            "639                                                NaN  \n",
            "640                                                NaN  \n",
            "\n",
            "[88 rows x 10 columns]\n",
            "DataFrame after removing duplicates:\n",
            "                        product_name  product_id  listing_price  sale_price  \\\n",
            "0     Nike Air Force 1 '07 Essential  CJ1646-600              0        7495   \n",
            "1               Nike Air Force 1 '07  CT4328-101              0        7495   \n",
            "2       Nike Air Force 1 Sage Low LX  CI3482-200              0        9995   \n",
            "3                Nike Air Max Dia SE  CD0479-200              0        9995   \n",
            "4                Nike Air Max Verona  CZ6156-101              0        9995   \n",
            "..                               ...         ...            ...         ...   \n",
            "550  Nike Tiempo Legend 8 Academy TF  AT6100-606              0        6495   \n",
            "551            Nike React Metcon AMP  CT9155-063              0       13995   \n",
            "552               Air Jordan 8 Retro  CI1236-100          15995       12797   \n",
            "553                  Nike Air Max 98  AH6799-300              0       16995   \n",
            "554                   Nike P-6000 SE  CJ9585-600           8995        6297   \n",
            "\n",
            "     discount brand                                        description  \\\n",
            "0           0  Nike  Let your shoe game shimmer in the Nike Air For...   \n",
            "1           0  Nike  The legend lives on in the Nike Air Force 1 '0...   \n",
            "2           0  Nike  Taking both height and craft to new levels, th...   \n",
            "3           0  Nike  Designed for a woman's foot, the Nike Air Max ...   \n",
            "4           0  Nike  Pass on the good vibes in the Nike Air Max Ver...   \n",
            "..        ...   ...                                                ...   \n",
            "550         0  Nike  The Nike Tiempo Legend 8 Academy TF takes the ...   \n",
            "551         0  Nike  The Nike React Metcon AMP takes the stability ...   \n",
            "552         0  Nike  The Air Jordan 8 Retro recaptures the memorabl...   \n",
            "553         0  Nike  The Nike Air Max 98 features the OG design lin...   \n",
            "554         0  Nike  A mash-up of Pegasus' past, the Nike P-6000 SE...   \n",
            "\n",
            "     rating  reviews                                             images  \n",
            "0       0.0        0  [\"https://static.nike.com/a/images/t_PDP_1728_...  \n",
            "1       0.0        0  [\"https://static.nike.com/a/images/t_PDP_1728_...  \n",
            "2       0.0        0  [\"https://static.nike.com/a/images/t_PDP_1728_...  \n",
            "3       0.0        0  [\"https://static.nike.com/a/images/t_PDP_1728_...  \n",
            "4       0.0        0  [\"https://static.nike.com/a/images/t_PDP_1728_...  \n",
            "..      ...      ...                                                ...  \n",
            "550     0.0        0  [\"https://static.nike.com/a/images/t_PDP_1728_...  \n",
            "551     3.0        1  [\"https://static.nike.com/a/images/t_PDP_1728_...  \n",
            "552     5.0        1  [\"https://static.nike.com/a/images/t_PDP_1728_...  \n",
            "553     4.0        4  [\"https://static.nike.com/a/images/t_PDP_1728_...  \n",
            "554     0.0        0  [\"https://static.nike.com/a/images/t_PDP_1728_...  \n",
            "\n",
            "[555 rows x 10 columns]\n"
          ]
        },
        {
          "output_type": "execute_result",
          "data": {
            "text/plain": [
              "<Axes: >"
            ]
          },
          "metadata": {},
          "execution_count": 64
        },
        {
          "output_type": "display_data",
          "data": {
            "text/plain": [
              "<Figure size 640x480 with 1 Axes>"
            ],
            "image/png": "[encoded data removed]"
          },
          "metadata": {}
        }
      ]
    },
    {
      "cell_type": "code",
      "source": [
        "import pandas as pd\n",
        "df=pd.read_csv('nike_shoes_sales.csv')\n",
        "df.head(10)"
      ],
      "metadata": {
        "id": "szdRqZScAiPI",
        "outputId": "427e609e-e570-4e78-ccb2-f3361cc0ab83",
        "colab": {
          "base_uri": "https://localhost:8080/",
          "height": 1000
        }
      },
      "id": "szdRqZScAiPI",
      "execution_count": 72,
      "outputs": [
        {
          "output_type": "execute_result",
          "data": {
            "text/plain": [
              "                     product_name  product_id  listing_price  sale_price  \\\n",
              "0  Nike Air Force 1 '07 Essential  CJ1646-600              0        7495   \n",
              "1            Nike Air Force 1 '07  CT4328-101              0        7495   \n",
              "2    Nike Air Force 1 Sage Low LX  CI3482-200              0        9995   \n",
              "3             Nike Air Max Dia SE  CD0479-200              0        9995   \n",
              "4             Nike Air Max Verona  CZ6156-101              0        9995   \n",
              "5              Nike Free Metcon 3  CJ6314-146              0        9995   \n",
              "6                 NikeCourt Blanc  CI0808-100              0        5995   \n",
              "7              Nike Free Metcon 3  CJ0861-017              0        9995   \n",
              "8       Nike Zoom Pegasus Turbo 2  AT8242-009              0       15995   \n",
              "9      Nike Air Max 270 React ENG  CK2595-500              0       14995   \n",
              "\n",
              "   discount brand                                        description  rating  \\\n",
              "0         0  Nike  Let your shoe game shimmer in the Nike Air For...     0.0   \n",
              "1         0  Nike  The legend lives on in the Nike Air Force 1 '0...     0.0   \n",
              "2         0  Nike  Taking both height and craft to new levels, th...     0.0   \n",
              "3         0  Nike  Designed for a woman's foot, the Nike Air Max ...     0.0   \n",
              "4         0  Nike  Pass on the good vibes in the Nike Air Max Ver...     0.0   \n",
              "5         0  Nike  The Nike Free Metcon 3 combines the flexibilit...     0.0   \n",
              "6         0  Nike  Inspired by heritage models, the NikeCourt Bla...     0.0   \n",
              "7         0  Nike  The Nike Free Metcon 3 combines Nike Free flex...     5.0   \n",
              "8         0  Nike  The Nike Zoom Pegasus Turbo 2 is updated with ...     2.7   \n",
              "9         0  Nike  The Nike Air Max 270 React ENG combines a full...     5.0   \n",
              "\n",
              "   reviews                                             images  \n",
              "0        0  [\"https://static.nike.com/a/images/t_PDP_1728_...  \n",
              "1        0  [\"https://static.nike.com/a/images/t_PDP_1728_...  \n",
              "2        0  [\"https://static.nike.com/a/images/t_PDP_1728_...  \n",
              "3        0  [\"https://static.nike.com/a/images/t_PDP_1728_...  \n",
              "4        0  [\"https://static.nike.com/a/images/t_PDP_1728_...  \n",
              "5        0  [\"https://static.nike.com/a/images/t_PDP_1728_...  \n",
              "6        0  [\"https://static.nike.com/a/images/t_PDP_1728_...  \n",
              "7        1                                                NaN  \n",
              "8       14  [\"https://static.nike.com/a/images/t_PDP_1728_...  \n",
              "9        2  [\"https://static.nike.com/a/images/t_PDP_1728_...  "
            ],
            "text/html": [
              "\n",
              "  <div id=\"df-3becbe4f-c462-427f-b588-990487e64705\" class=\"colab-df-container\">\n",
              "    <div>\n",
              "<style scoped>\n",
              "    .dataframe tbody tr th:only-of-type {\n",
              "        vertical-align: middle;\n",
              "    }\n",
              "\n",
              "    .dataframe tbody tr th {\n",
              "        vertical-align: top;\n",
              "    }\n",
              "\n",
              "    .dataframe thead th {\n",
              "        text-align: right;\n",
              "    }\n",
              "</style>\n",
              "<table border=\"1\" class=\"dataframe\">\n",
              "  <thead>\n",
              "    <tr style=\"text-align: right;\">\n",
              "      <th></th>\n",
              "      <th>product_name</th>\n",
              "      <th>product_id</th>\n",
              "      <th>listing_price</th>\n",
              "      <th>sale_price</th>\n",
              "      <th>discount</th>\n",
              "      <th>brand</th>\n",
              "      <th>description</th>\n",
              "      <th>rating</th>\n",
              "      <th>reviews</th>\n",
              "      <th>images</th>\n",
              "    </tr>\n",
              "  </thead>\n",
              "  <tbody>\n",
              "    <tr>\n",
              "      <th>0</th>\n",
              "      <td>Nike Air Force 1 '07 Essential</td>\n",
              "      <td>CJ1646-600</td>\n",
              "      <td>0</td>\n",
              "      <td>7495</td>\n",
              "      <td>0</td>\n",
              "      <td>Nike</td>\n",
              "      <td>Let your shoe game shimmer in the Nike Air For...</td>\n",
              "      <td>0.0</td>\n",
              "      <td>0</td>\n",
              "      <td>[\"https://static.nike.com/a/images/t_PDP_1728_...</td>\n",
              "    </tr>\n",
              "    <tr>\n",
              "      <th>1</th>\n",
              "      <td>Nike Air Force 1 '07</td>\n",
              "      <td>CT4328-101</td>\n",
              "      <td>0</td>\n",
              "      <td>7495</td>\n",
              "      <td>0</td>\n",
              "      <td>Nike</td>\n",
              "      <td>The legend lives on in the Nike Air Force 1 '0...</td>\n",
              "      <td>0.0</td>\n",
              "      <td>0</td>\n",
              "      <td>[\"https://static.nike.com/a/images/t_PDP_1728_...</td>\n",
              "    </tr>\n",
              "    <tr>\n",
              "      <th>2</th>\n",
              "      <td>Nike Air Force 1 Sage Low LX</td>\n",
              "      <td>CI3482-200</td>\n",
              "      <td>0</td>\n",
              "      <td>9995</td>\n",
              "      <td>0</td>\n",
              "      <td>Nike</td>\n",
              "      <td>Taking both height and craft to new levels, th...</td>\n",
              "      <td>0.0</td>\n",
              "      <td>0</td>\n",
              "      <td>[\"https://static.nike.com/a/images/t_PDP_1728_...</td>\n",
              "    </tr>\n",
              "    <tr>\n",
              "      <th>3</th>\n",
              "      <td>Nike Air Max Dia SE</td>\n",
              "      <td>CD0479-200</td>\n",
              "      <td>0</td>\n",
              "      <td>9995</td>\n",
              "      <td>0</td>\n",
              "      <td>Nike</td>\n",
              "      <td>Designed for a woman's foot, the Nike Air Max ...</td>\n",
              "      <td>0.0</td>\n",
              "      <td>0</td>\n",
              "      <td>[\"https://static.nike.com/a/images/t_PDP_1728_...</td>\n",
              "    </tr>\n",
              "    <tr>\n",
              "      <th>4</th>\n",
              "      <td>Nike Air Max Verona</td>\n",
              "      <td>CZ6156-101</td>\n",
              "      <td>0</td>\n",
              "      <td>9995</td>\n",
              "      <td>0</td>\n",
              "      <td>Nike</td>\n",
              "      <td>Pass on the good vibes in the Nike Air Max Ver...</td>\n",
              "      <td>0.0</td>\n",
              "      <td>0</td>\n",
              "      <td>[\"https://static.nike.com/a/images/t_PDP_1728_...</td>\n",
              "    </tr>\n",
              "    <tr>\n",
              "      <th>5</th>\n",
              "      <td>Nike Free Metcon 3</td>\n",
              "      <td>CJ6314-146</td>\n",
              "      <td>0</td>\n",
              "      <td>9995</td>\n",
              "      <td>0</td>\n",
              "      <td>Nike</td>\n",
              "      <td>The Nike Free Metcon 3 combines the flexibilit...</td>\n",
              "      <td>0.0</td>\n",
              "      <td>0</td>\n",
              "      <td>[\"https://static.nike.com/a/images/t_PDP_1728_...</td>\n",
              "    </tr>\n",
              "    <tr>\n",
              "      <th>6</th>\n",
              "      <td>NikeCourt Blanc</td>\n",
              "      <td>CI0808-100</td>\n",
              "      <td>0</td>\n",
              "      <td>5995</td>\n",
              "      <td>0</td>\n",
              "      <td>Nike</td>\n",
              "      <td>Inspired by heritage models, the NikeCourt Bla...</td>\n",
              "      <td>0.0</td>\n",
              "      <td>0</td>\n",
              "      <td>[\"https://static.nike.com/a/images/t_PDP_1728_...</td>\n",
              "    </tr>\n",
              "    <tr>\n",
              "      <th>7</th>\n",
              "      <td>Nike Free Metcon 3</td>\n",
              "      <td>CJ0861-017</td>\n",
              "      <td>0</td>\n",
              "      <td>9995</td>\n",
              "      <td>0</td>\n",
              "      <td>Nike</td>\n",
              "      <td>The Nike Free Metcon 3 combines Nike Free flex...</td>\n",
              "      <td>5.0</td>\n",
              "      <td>1</td>\n",
              "      <td>NaN</td>\n",
              "    </tr>\n",
              "    <tr>\n",
              "      <th>8</th>\n",
              "      <td>Nike Zoom Pegasus Turbo 2</td>\n",
              "      <td>AT8242-009</td>\n",
              "      <td>0</td>\n",
              "      <td>15995</td>\n",
              "      <td>0</td>\n",
              "      <td>Nike</td>\n",
              "      <td>The Nike Zoom Pegasus Turbo 2 is updated with ...</td>\n",
              "      <td>2.7</td>\n",
              "      <td>14</td>\n",
              "      <td>[\"https://static.nike.com/a/images/t_PDP_1728_...</td>\n",
              "    </tr>\n",
              "    <tr>\n",
              "      <th>9</th>\n",
              "      <td>Nike Air Max 270 React ENG</td>\n",
              "      <td>CK2595-500</td>\n",
              "      <td>0</td>\n",
              "      <td>14995</td>\n",
              "      <td>0</td>\n",
              "      <td>Nike</td>\n",
              "      <td>The Nike Air Max 270 React ENG combines a full...</td>\n",
              "      <td>5.0</td>\n",
              "      <td>2</td>\n",
              "      <td>[\"https://static.nike.com/a/images/t_PDP_1728_...</td>\n",
              "    </tr>\n",
              "  </tbody>\n",
              "</table>\n",
              "</div>\n",
              "    <div class=\"colab-df-buttons\">\n",
              "\n",
              "  <div class=\"colab-df-container\">\n",
              "    <button class=\"colab-df-convert\" onclick=\"convertToInteractive('df-3becbe4f-c462-427f-b588-990487e64705')\"\n",
              "            title=\"Convert this dataframe to an interactive table.\"\n",
              "            style=\"display:none;\">\n",
              "\n",
              "  <svg xmlns=\"http://www.w3.org/2000/svg\" height=\"24px\" viewBox=\"0 -960 960 960\">\n",
              "    <path d=\"M120-120v-720h720v720H120Zm60-500h600v-160H180v160Zm220 220h160v-160H400v160Zm0 220h160v-160H400v160ZM180-400h160v-160H180v160Zm440 0h160v-160H620v160ZM180-180h160v-160H180v160Zm440 0h160v-160H620v160Z\"/>\n",
              "  </svg>\n",
              "    </button>\n",
              "\n",
              "  <style>\n",
              "    .colab-df-container {\n",
              "      display:flex;\n",
              "      gap: 12px;\n",
              "    }\n",
              "\n",
              "    .colab-df-convert {\n",
              "      background-color: #E8F0FE;\n",
              "      border: none;\n",
              "      border-radius: 50%;\n",
              "      cursor: pointer;\n",
              "      display: none;\n",
              "      fill: #1967D2;\n",
              "      height: 32px;\n",
              "      padding: 0 0 0 0;\n",
              "      width: 32px;\n",
              "    }\n",
              "\n",
              "    .colab-df-convert:hover {\n",
              "      background-color: #E2EBFA;\n",
              "      box-shadow: 0px 1px 2px rgba(60, 64, 67, 0.3), 0px 1px 3px 1px rgba(60, 64, 67, 0.15);\n",
              "      fill: #174EA6;\n",
              "    }\n",
              "\n",
              "    .colab-df-buttons div {\n",
              "      margin-bottom: 4px;\n",
              "    }\n",
              "\n",
              "    [theme=dark] .colab-df-convert {\n",
              "      background-color: #3B4455;\n",
              "      fill: #D2E3FC;\n",
              "    }\n",
              "\n",
              "    [theme=dark] .colab-df-convert:hover {\n",
              "      background-color: #434B5C;\n",
              "      box-shadow: 0px 1px 3px 1px rgba(0, 0, 0, 0.15);\n",
              "      filter: drop-shadow(0px 1px 2px rgba(0, 0, 0, 0.3));\n",
              "      fill: #FFFFFF;\n",
              "    }\n",
              "  </style>\n",
              "\n",
              "    <script>\n",
              "      const buttonEl =\n",
              "        document.querySelector('#df-3becbe4f-c462-427f-b588-990487e64705 button.colab-df-convert');\n",
              "      buttonEl.style.display =\n",
              "        google.colab.kernel.accessAllowed ? 'block' : 'none';\n",
              "\n",
              "      async function convertToInteractive(key) {\n",
              "        const element = document.querySelector('#df-3becbe4f-c462-427f-b588-990487e64705');\n",
              "        const dataTable =\n",
              "          await google.colab.kernel.invokeFunction('convertToInteractive',\n",
              "                                                    [key], {});\n",
              "        if (!dataTable) return;\n",
              "\n",
              "        const docLinkHtml = 'Like what you see? Visit the ' +\n",
              "          '<a target=\"_blank\" href=https://colab.research.google.com/notebooks/data_table.ipynb>data table notebook</a>'\n",
              "          + ' to learn more about interactive tables.';\n",
              "        element.innerHTML = '';\n",
              "        dataTable['output_type'] = 'display_data';\n",
              "        await google.colab.output.renderOutput(dataTable, element);\n",
              "        const docLink = document.createElement('div');\n",
              "        docLink.innerHTML = docLinkHtml;\n",
              "        element.appendChild(docLink);\n",
              "      }\n",
              "    </script>\n",
              "  </div>\n",
              "\n",
              "\n",
              "<div id=\"df-711a7edb-cff3-4ace-a897-765f13161543\">\n",
              "  <button class=\"colab-df-quickchart\" onclick=\"quickchart('df-711a7edb-cff3-4ace-a897-765f13161543')\"\n",
              "            title=\"Suggest charts\"\n",
              "            style=\"display:none;\">\n",
              "\n",
              "<svg xmlns=\"http://www.w3.org/2000/svg\" height=\"24px\"viewBox=\"0 0 24 24\"\n",
              "     width=\"24px\">\n",
              "    <g>\n",
              "        <path d=\"M19 3H5c-1.1 0-2 .9-2 2v14c0 1.1.9 2 2 2h14c1.1 0 2-.9 2-2V5c0-1.1-.9-2-2-2zM9 17H7v-7h2v7zm4 0h-2V7h2v10zm4 0h-2v-4h2v4z\"/>\n",
              "    </g>\n",
              "</svg>\n",
              "  </button>\n",
              "\n",
              "<style>\n",
              "  .colab-df-quickchart {\n",
              "      --bg-color: #E8F0FE;\n",
              "      --fill-color: #1967D2;\n",
              "      --hover-bg-color: #E2EBFA;\n",
              "      --hover-fill-color: #174EA6;\n",
              "      --disabled-fill-color: #AAA;\n",
              "      --disabled-bg-color: #DDD;\n",
              "  }\n",
              "\n",
              "  [theme=dark] .colab-df-quickchart {\n",
              "      --bg-color: #3B4455;\n",
              "      --fill-color: #D2E3FC;\n",
              "      --hover-bg-color: #434B5C;\n",
              "      --hover-fill-color: #FFFFFF;\n",
              "      --disabled-bg-color: #3B4455;\n",
              "      --disabled-fill-color: #666;\n",
              "  }\n",
              "\n",
              "  .colab-df-quickchart {\n",
              "    background-color: var(--bg-color);\n",
              "    border: none;\n",
              "    border-radius: 50%;\n",
              "    cursor: pointer;\n",
              "    display: none;\n",
              "    fill: var(--fill-color);\n",
              "    height: 32px;\n",
              "    padding: 0;\n",
              "    width: 32px;\n",
              "  }\n",
              "\n",
              "  .colab-df-quickchart:hover {\n",
              "    background-color: var(--hover-bg-color);\n",
              "    box-shadow: 0 1px 2px rgba(60, 64, 67, 0.3), 0 1px 3px 1px rgba(60, 64, 67, 0.15);\n",
              "    fill: var(--button-hover-fill-color);\n",
              "  }\n",
              "\n",
              "  .colab-df-quickchart-complete:disabled,\n",
              "  .colab-df-quickchart-complete:disabled:hover {\n",
              "    background-color: var(--disabled-bg-color);\n",
              "    fill: var(--disabled-fill-color);\n",
              "    box-shadow: none;\n",
              "  }\n",
              "\n",
              "  .colab-df-spinner {\n",
              "    border: 2px solid var(--fill-color);\n",
              "    border-color: transparent;\n",
              "    border-bottom-color: var(--fill-color);\n",
              "    animation:\n",
              "      spin 1s steps(1) infinite;\n",
              "  }\n",
              "\n",
              "  @keyframes spin {\n",
              "    0% {\n",
              "      border-color: transparent;\n",
              "      border-bottom-color: var(--fill-color);\n",
              "      border-left-color: var(--fill-color);\n",
              "    }\n",
              "    20% {\n",
              "      border-color: transparent;\n",
              "      border-left-color: var(--fill-color);\n",
              "      border-top-color: var(--fill-color);\n",
              "    }\n",
              "    30% {\n",
              "      border-color: transparent;\n",
              "      border-left-color: var(--fill-color);\n",
              "      border-top-color: var(--fill-color);\n",
              "      border-right-color: var(--fill-color);\n",
              "    }\n",
              "    40% {\n",
              "      border-color: transparent;\n",
              "      border-right-color: var(--fill-color);\n",
              "      border-top-color: var(--fill-color);\n",
              "    }\n",
              "    60% {\n",
              "      border-color: transparent;\n",
              "      border-right-color: var(--fill-color);\n",
              "    }\n",
              "    80% {\n",
              "      border-color: transparent;\n",
              "      border-right-color: var(--fill-color);\n",
              "      border-bottom-color: var(--fill-color);\n",
              "    }\n",
              "    90% {\n",
              "      border-color: transparent;\n",
              "      border-bottom-color: var(--fill-color);\n",
              "    }\n",
              "  }\n",
              "</style>\n",
              "\n",
              "  <script>\n",
              "    async function quickchart(key) {\n",
              "      const quickchartButtonEl =\n",
              "        document.querySelector('#' + key + ' button');\n",
              "      quickchartButtonEl.disabled = true;  // To prevent multiple clicks.\n",
              "      quickchartButtonEl.classList.add('colab-df-spinner');\n",
              "      try {\n",
              "        const charts = await google.colab.kernel.invokeFunction(\n",
              "            'suggestCharts', [key], {});\n",
              "      } catch (error) {\n",
              "        console.error('Error during call to suggestCharts:', error);\n",
              "      }\n",
              "      quickchartButtonEl.classList.remove('colab-df-spinner');\n",
              "      quickchartButtonEl.classList.add('colab-df-quickchart-complete');\n",
              "    }\n",
              "    (() => {\n",
              "      let quickchartButtonEl =\n",
              "        document.querySelector('#df-711a7edb-cff3-4ace-a897-765f13161543 button');\n",
              "      quickchartButtonEl.style.display =\n",
              "        google.colab.kernel.accessAllowed ? 'block' : 'none';\n",
              "    })();\n",
              "  </script>\n",
              "</div>\n",
              "\n",
              "    </div>\n",
              "  </div>\n"
            ],
            "application/vnd.google.colaboratory.intrinsic+json": {
              "type": "dataframe",
              "variable_name": "df",
              "summary": "{\n  \"name\": \"df\",\n  \"rows\": 643,\n  \"fields\": [\n    {\n      \"column\": \"product_name\",\n      \"properties\": {\n        \"dtype\": \"string\",\n        \"num_unique_values\": 393,\n        \"samples\": [\n          \"Nike Mercurial Superfly 7 Academy MG\",\n          \"Nike React Metcon\",\n          \"Air Jordan 11 Retro Low\"\n        ],\n        \"semantic_type\": \"\",\n        \"description\": \"\"\n      }\n    },\n    {\n      \"column\": \"product_id\",\n      \"properties\": {\n        \"dtype\": \"string\",\n        \"num_unique_values\": 554,\n        \"samples\": [\n          \"AT1198-401\",\n          \"AO2434-101\",\n          \"CD2189-002\"\n        ],\n        \"semantic_type\": \"\",\n        \"description\": \"\"\n      }\n    },\n    {\n      \"column\": \"listing_price\",\n      \"properties\": {\n        \"dtype\": \"number\",\n        \"std\": 5889,\n        \"min\": 0,\n        \"max\": 19995,\n        \"num_unique_values\": 26,\n        \"samples\": [\n          11995,\n          17995,\n          0\n        ],\n        \"semantic_type\": \"\",\n        \"description\": \"\"\n      }\n    },\n    {\n      \"column\": \"sale_price\",\n      \"properties\": {\n        \"dtype\": \"number\",\n        \"std\": 4513,\n        \"min\": 1595,\n        \"max\": 36500,\n        \"num_unique_values\": 91,\n        \"samples\": [\n          20995,\n          11197,\n          6397\n        ],\n        \"semantic_type\": \"\",\n        \"description\": \"\"\n      }\n    },\n    {\n      \"column\": \"discount\",\n      \"properties\": {\n        \"dtype\": \"number\",\n        \"std\": 0,\n        \"min\": 0,\n        \"max\": 0,\n        \"num_unique_values\": 1,\n        \"samples\": [\n          0\n        ],\n        \"semantic_type\": \"\",\n        \"description\": \"\"\n      }\n    },\n    {\n      \"column\": \"brand\",\n      \"properties\": {\n        \"dtype\": \"category\",\n        \"num_unique_values\": 1,\n        \"samples\": [\n          \"Nike\"\n        ],\n        \"semantic_type\": \"\",\n        \"description\": \"\"\n      }\n    },\n    {\n      \"column\": \"description\",\n      \"properties\": {\n        \"dtype\": \"string\",\n        \"num_unique_values\": 510,\n        \"samples\": [\n          \"The Nike Odyssey React Women's Running Shoe provides crazy comfort that lasts as long as you can run. Its Nike React foam cushioning is responsive yet lightweight, durable yet soft. This attraction of opposites creates a sensation that not only enhances the feeling of moving forwards, but makes running feel fun, too.\\u00a0The upper of the Nike Odyssey React is built with a lightweight, breathable fabric instead of the premium Flyknit featured on the Nike Epic React.\"\n        ],\n        \"semantic_type\": \"\",\n        \"description\": \"\"\n      }\n    },\n    {\n      \"column\": \"rating\",\n      \"properties\": {\n        \"dtype\": \"number\",\n        \"std\": 2.137755707994253,\n        \"min\": 0.0,\n        \"max\": 5.0,\n        \"num_unique_values\": 32,\n        \"samples\": [\n          2.4\n        ],\n        \"semantic_type\": \"\",\n        \"description\": \"\"\n      }\n    },\n    {\n      \"column\": \"reviews\",\n      \"properties\": {\n        \"dtype\": \"number\",\n        \"std\": 15,\n        \"min\": 0,\n        \"max\": 223,\n        \"num_unique_values\": 53,\n        \"samples\": [\n          47\n        ],\n        \"semantic_type\": \"\",\n        \"description\": \"\"\n      }\n    },\n    {\n      \"column\": \"images\",\n      \"properties\": {\n        \"dtype\": \"string\",\n        \"num_unique_values\": 498,\n        \"samples\": [\n          \"[\\\"https://c.static-nike.com/a/images/t_PDP_1728_v1/go6y9fdinwqn9rrvsu7c/zoom-pegasus-turbo-xx-running-shoe-pCFSFC.jpg\\\",\\\"https://c.static-nike.com/a/images/t_PDP_1728_v1/iqwqzqc35e2r4ynwv1jv/zoom-pegasus-turbo-xx-running-shoe-pCFSFC.jpg\\\",\\\"https://c.static-nike.com/a/images/t_PDP_1728_v1/wgamzazc9hltxhwgrr67/zoom-pegasus-turbo-xx-running-shoe-pCFSFC.jpg\\\",\\\"https://c.static-nike.com/a/images/t_PDP_1728_v1/nearjr64e0zldqiozegc/zoom-pegasus-turbo-xx-running-shoe-pCFSFC.jpg\\\",\\\"https://c.static-nike.com/a/images/t_PDP_1728_v1/pngrmclylymrm6t5ij4b/zoom-pegasus-turbo-xx-running-shoe-pCFSFC.jpg\\\",\\\"https://c.static-nike.com/a/images/t_PDP_1728_v1/qdohfocsb2pqc2khz0uc/zoom-pegasus-turbo-xx-running-shoe-pCFSFC.jpg\\\"]\"\n        ],\n        \"semantic_type\": \"\",\n        \"description\": \"\"\n      }\n    }\n  ]\n}"
            }
          },
          "metadata": {},
          "execution_count": 72
        }
      ]
    },
    {
      "cell_type": "code",
      "source": [],
      "metadata": {
        "id": "H5KI2GL-GtSS"
      },
      "id": "H5KI2GL-GtSS",
      "execution_count": null,
      "outputs": []
    }
  ],
  "metadata": {
    "kernelspec": {
      "display_name": "Python 3 (ipykernel)",
      "language": "python",
      "name": "python3"
    },
    "language_info": {
      "codemirror_mode": {
        "name": "ipython",
        "version": 3
      },
      "file_extension": ".py",
      "mimetype": "text/x-python",
      "name": "python",
      "nbconvert_exporter": "python",
      "pygments_lexer": "ipython3",
      "version": "3.11.5"
    },
    "colab": {
      "provenance": [],
      "include_colab_link": true
    }
  },
  "nbformat": 4,
  "nbformat_minor": 5
}