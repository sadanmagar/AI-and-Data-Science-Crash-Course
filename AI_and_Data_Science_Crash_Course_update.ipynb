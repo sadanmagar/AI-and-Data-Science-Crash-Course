{
  "cells": [
    {
      "cell_type": "markdown",
      "metadata": {
        "id": "view-in-github",
        "colab_type": "text"
      },
      "source": [
        "<a href=\"https://colab.research.google.com/github/sadanmagar/AI-and-Data-Science-Crash-Course/blob/main/AI_and_Data_Science_Crash_Course_update.ipynb\" target=\"_parent\"><img src=\"https://colab.research.google.com/assets/colab-badge.svg\" alt=\"Open In Colab\"/></a>"
      ]
    },
    {
      "cell_type": "markdown",
      "id": "6e2722b3",
      "metadata": {
        "id": "6e2722b3"
      },
      "source": [
        "# Download Python"
      ]
    },
    {
      "cell_type": "markdown",
      "id": "916d8c90",
      "metadata": {
        "id": "916d8c90"
      },
      "source": [
        "https://www.python.org/downloads/release/python-3124/"
      ]
    },
    {
      "cell_type": "markdown",
      "id": "4367f0e2",
      "metadata": {
        "id": "4367f0e2"
      },
      "source": [
        "# Install Jupyter Notebook"
      ]
    },
    {
      "cell_type": "markdown",
      "id": "65b4c39a",
      "metadata": {
        "id": "65b4c39a"
      },
      "source": [
        "Step 1: Open your command prompt <br>\n",
        "Step 2: type install jupyter"
      ]
    },
    {
      "cell_type": "markdown",
      "id": "6572cbe3",
      "metadata": {
        "id": "6572cbe3"
      },
      "source": [
        "# Running your first python Program"
      ]
    },
    {
      "cell_type": "code",
      "execution_count": null,
      "id": "f06f9ff0",
      "metadata": {
        "colab": {
          "base_uri": "https://localhost:8080/"
        },
        "id": "f06f9ff0",
        "outputId": "87d3d138-a129-415f-a1ec-7d0d39687362"
      },
      "outputs": [
        {
          "output_type": "stream",
          "name": "stdout",
          "text": [
            "Hello World\n"
          ]
        }
      ],
      "source": [
        "print(\"Hello World\")"
      ]
    },
    {
      "cell_type": "markdown",
      "id": "219d8134",
      "metadata": {
        "id": "219d8134"
      },
      "source": [
        "# Taking Input from User"
      ]
    },
    {
      "cell_type": "code",
      "execution_count": null,
      "id": "40422c33",
      "metadata": {
        "id": "40422c33",
        "outputId": "43394347-6b35-4f0d-bfd0-25ef6afee0ff"
      },
      "outputs": [
        {
          "name": "stdout",
          "output_type": "stream",
          "text": [
            "Enter your name: Hello James\n",
            "Hello James\n"
          ]
        }
      ],
      "source": [
        "name=input(\"Enter your name: \")\n",
        "print(name)"
      ]
    },
    {
      "cell_type": "markdown",
      "id": "f9bbd286",
      "metadata": {
        "id": "f9bbd286"
      },
      "source": [
        "# Python Variables"
      ]
    },
    {
      "cell_type": "markdown",
      "id": "83d1a477",
      "metadata": {
        "id": "83d1a477"
      },
      "source": [
        "Variables are containers for storing data values."
      ]
    },
    {
      "cell_type": "code",
      "execution_count": null,
      "id": "d2b5fcd7",
      "metadata": {
        "id": "d2b5fcd7"
      },
      "outputs": [],
      "source": [
        "#x and y are integeres and name is string\n",
        "x=5\n",
        "y=10"
      ]
    },
    {
      "cell_type": "code",
      "execution_count": null,
      "id": "bdf932c3",
      "metadata": {
        "id": "bdf932c3"
      },
      "outputs": [],
      "source": [
        "name=\"Xavier\""
      ]
    },
    {
      "cell_type": "code",
      "execution_count": null,
      "id": "9382d06d",
      "metadata": {
        "id": "9382d06d",
        "outputId": "7757f270-bebf-4364-e4af-2556a532585b"
      },
      "outputs": [
        {
          "name": "stdout",
          "output_type": "stream",
          "text": [
            "5\n",
            "10\n",
            "Xavier\n",
            "5 10 Xavier\n"
          ]
        }
      ],
      "source": [
        "print(x)\n",
        "print(y)\n",
        "print(name)\n",
        "print(x,y,name)"
      ]
    },
    {
      "cell_type": "markdown",
      "id": "38c1a447",
      "metadata": {
        "id": "38c1a447"
      },
      "source": [
        "Variable names are case-sensitive"
      ]
    },
    {
      "cell_type": "code",
      "execution_count": null,
      "id": "f903a7f4",
      "metadata": {
        "id": "f903a7f4",
        "outputId": "a1506148-a6a3-4509-b4d6-505922a1e4b1"
      },
      "outputs": [
        {
          "name": "stdout",
          "output_type": "stream",
          "text": [
            "10\n",
            "15\n"
          ]
        }
      ],
      "source": [
        "a=10\n",
        "A=15\n",
        "print(a)\n",
        "print(A)"
      ]
    },
    {
      "cell_type": "markdown",
      "id": "61f8c1b0",
      "metadata": {
        "id": "61f8c1b0"
      },
      "source": [
        "# Data Types"
      ]
    },
    {
      "cell_type": "markdown",
      "id": "0ace2e0e",
      "metadata": {
        "id": "0ace2e0e"
      },
      "source": [
        "Text Type:\tstr <br>\n",
        "Numeric Types:\tint, float<br>\n",
        "Sequence Types:\tlist, tuple, range <br>\n",
        "Mapping Type:\tdict <br>\n",
        "Set Types:\tset, frozenset <br>\n",
        "Boolean Type:\tbool <br>"
      ]
    },
    {
      "cell_type": "markdown",
      "id": "23177e5b",
      "metadata": {
        "id": "23177e5b"
      },
      "source": [
        "x = \"Hello World\"\tstr\t<br>\n",
        "x = 20\tint\t<br>\n",
        "x = 20.5\tfloat <br>\n",
        "x = 1j\tcomplex\t<br>\n",
        "x = [\"apple\", \"banana\", \"cherry\"]\tlist <br>\n",
        "x = (\"apple\", \"banana\", \"cherry\")\ttuple\t<br>\n",
        "x = range(6)\trange\t<br>\n",
        "x = {\"name\" : \"John\", \"age\" : 36}\tdict <br>\n",
        "x = {\"apple\", \"banana\", \"cherry\"}\tset <br>"
      ]
    },
    {
      "cell_type": "markdown",
      "id": "2b3d5680",
      "metadata": {
        "id": "2b3d5680"
      },
      "source": [
        "Getting the Data Type"
      ]
    },
    {
      "cell_type": "code",
      "execution_count": null,
      "id": "11b08ec4",
      "metadata": {
        "id": "11b08ec4",
        "outputId": "3150363b-63a5-4e71-fd42-a17d6745cea7"
      },
      "outputs": [
        {
          "name": "stdout",
          "output_type": "stream",
          "text": [
            "<class 'int'>\n"
          ]
        }
      ],
      "source": [
        "a=20\n",
        "print(type(a))"
      ]
    },
    {
      "cell_type": "code",
      "execution_count": null,
      "id": "ca6d5a32",
      "metadata": {
        "id": "ca6d5a32",
        "outputId": "f629a51a-0f69-4e89-d609-109ecadd1d15"
      },
      "outputs": [
        {
          "name": "stdout",
          "output_type": "stream",
          "text": [
            "<class 'str'>\n"
          ]
        }
      ],
      "source": [
        "name=\"Smith\"\n",
        "print(type(name))"
      ]
    },
    {
      "cell_type": "markdown",
      "id": "4291b7ae",
      "metadata": {
        "id": "4291b7ae"
      },
      "source": [
        "# Python Numbers"
      ]
    },
    {
      "cell_type": "markdown",
      "id": "2163c523",
      "metadata": {
        "id": "2163c523"
      },
      "source": [
        "There are three numeric types in Python:\n",
        "\n",
        "int<br>\n",
        "float <br>\n",
        "Complex <br>"
      ]
    },
    {
      "cell_type": "code",
      "execution_count": null,
      "id": "911c1287",
      "metadata": {
        "id": "911c1287",
        "outputId": "b1666d0e-0dc8-4aba-8b13-7036bdd972b3"
      },
      "outputs": [
        {
          "name": "stdout",
          "output_type": "stream",
          "text": [
            "<class 'int'>\n",
            "<class 'float'>\n",
            "<class 'complex'>\n"
          ]
        }
      ],
      "source": [
        "a=10\n",
        "b=10.5\n",
        "c=1j\n",
        "\n",
        "print(type(a))\n",
        "print(type(b))\n",
        "print(type(c))"
      ]
    },
    {
      "cell_type": "markdown",
      "id": "0691dad1",
      "metadata": {
        "id": "0691dad1"
      },
      "source": [
        "Complex: In Python, a complex number is a number that has both a real part and an imaginary part. The imaginary part is denoted by a suffix j or J. Complex numbers are supported natively in Python and can be created using literals or the complex() function."
      ]
    },
    {
      "cell_type": "markdown",
      "id": "7f333657",
      "metadata": {
        "id": "7f333657"
      },
      "source": [
        "# Python Casting\n"
      ]
    },
    {
      "cell_type": "markdown",
      "id": "ecaab312",
      "metadata": {
        "id": "ecaab312"
      },
      "source": [
        "In Python, casting is commonly used to convert between different types of variables, such as integers, floats, strings, and more. Python supports several built-in functions for casting."
      ]
    },
    {
      "cell_type": "code",
      "execution_count": null,
      "id": "493af6e7",
      "metadata": {
        "id": "493af6e7",
        "outputId": "a33de2fc-75c4-4051-88ba-d0af4276a055"
      },
      "outputs": [
        {
          "name": "stdout",
          "output_type": "stream",
          "text": [
            "3\n"
          ]
        }
      ],
      "source": [
        "a = 3.14\n",
        "b = int(a)  # Output: 3\n",
        "print(b)\n"
      ]
    },
    {
      "cell_type": "code",
      "execution_count": null,
      "id": "8a92e0ee",
      "metadata": {
        "colab": {
          "base_uri": "https://localhost:8080/"
        },
        "id": "8a92e0ee",
        "outputId": "3765b5e6-a5a4-4a0c-9f36-a20899c59caa"
      },
      "outputs": [
        {
          "output_type": "stream",
          "name": "stdout",
          "text": [
            "<class 'str'>\n",
            "<class 'int'>\n",
            "123\n"
          ]
        }
      ],
      "source": [
        "s = \"123\"\n",
        "i = int(s)  # Output: 123\n",
        "print(type(s))\n",
        "print(type(i))\n",
        "print(s)\n"
      ]
    },
    {
      "cell_type": "code",
      "source": [],
      "metadata": {
        "id": "u2hczKYyht4Z"
      },
      "id": "u2hczKYyht4Z",
      "execution_count": null,
      "outputs": []
    },
    {
      "cell_type": "markdown",
      "id": "93e5147b",
      "metadata": {
        "id": "93e5147b"
      },
      "source": [
        "# Strings"
      ]
    },
    {
      "cell_type": "code",
      "execution_count": null,
      "id": "b184b772",
      "metadata": {
        "id": "b184b772"
      },
      "outputs": [],
      "source": [
        "str1 = 'Hello, World!'\n",
        "str2 = \"Hello, World!\" #Strings can be created using either single or double quotes\n"
      ]
    },
    {
      "cell_type": "markdown",
      "id": "fbfcf8cc",
      "metadata": {
        "id": "fbfcf8cc"
      },
      "source": [
        "Multi Line Strings"
      ]
    },
    {
      "cell_type": "code",
      "execution_count": null,
      "id": "480b668e",
      "metadata": {
        "id": "480b668e",
        "outputId": "579325de-1aa3-406b-e02f-effa0c3143a8"
      },
      "outputs": [
        {
          "name": "stdout",
          "output_type": "stream",
          "text": [
            "This is a multi-line\n",
            "string in Python.\n"
          ]
        }
      ],
      "source": [
        "mystr= '''This is a multi-line\n",
        "string in Python.'''\n",
        "print(mystr)\n"
      ]
    },
    {
      "cell_type": "code",
      "execution_count": null,
      "id": "1e344438",
      "metadata": {
        "id": "1e344438"
      },
      "outputs": [],
      "source": [
        "intro='''My Name is Ram\n",
        "I am from Nepal'''"
      ]
    },
    {
      "cell_type": "markdown",
      "id": "eade83a8",
      "metadata": {
        "id": "eade83a8"
      },
      "source": [
        "# String Methods"
      ]
    },
    {
      "cell_type": "markdown",
      "id": "6ea22354",
      "metadata": {
        "id": "6ea22354"
      },
      "source": [
        "Formatted string\n"
      ]
    },
    {
      "cell_type": "code",
      "execution_count": null,
      "id": "c0ba35a2",
      "metadata": {
        "id": "c0ba35a2",
        "outputId": "ec923899-872e-460a-c8f3-0170db60bc76"
      },
      "outputs": [
        {
          "name": "stdout",
          "output_type": "stream",
          "text": [
            "my name is Harry\n"
          ]
        }
      ],
      "source": [
        "name=\"Harry\"\n",
        "print(f\"my name is {name}\")"
      ]
    },
    {
      "cell_type": "markdown",
      "id": "d1f3496f",
      "metadata": {
        "id": "d1f3496f"
      },
      "source": [
        "https://www.w3schools.com/python/python_strings_methods.asp"
      ]
    },
    {
      "cell_type": "markdown",
      "id": "7238e339",
      "metadata": {
        "id": "7238e339"
      },
      "source": [
        "# Booleans"
      ]
    },
    {
      "cell_type": "markdown",
      "id": "70debb2e",
      "metadata": {
        "id": "70debb2e"
      },
      "source": [
        "Booleans represent one of two values: True or False."
      ]
    },
    {
      "cell_type": "code",
      "execution_count": null,
      "id": "508ef2f3",
      "metadata": {
        "id": "508ef2f3",
        "outputId": "935b4091-b47e-40c8-a0bc-caf68c7afaa7"
      },
      "outputs": [
        {
          "name": "stdout",
          "output_type": "stream",
          "text": [
            "True\n",
            "False\n"
          ]
        }
      ],
      "source": [
        "print(100 > 29)\n",
        "print(11==7)\n"
      ]
    },
    {
      "cell_type": "code",
      "execution_count": null,
      "id": "f7e4c853",
      "metadata": {
        "id": "f7e4c853",
        "outputId": "c9febebf-a02f-40a1-e47e-7e9681262518"
      },
      "outputs": [
        {
          "name": "stdout",
          "output_type": "stream",
          "text": [
            "Enter any number: 11\n",
            "False\n"
          ]
        }
      ],
      "source": [
        "num1=20\n",
        "num2=input(\"Enter any number: \")\n",
        "print(num1==num2)"
      ]
    },
    {
      "cell_type": "markdown",
      "id": "57279e5e",
      "metadata": {
        "id": "57279e5e"
      },
      "source": [
        "# Operators"
      ]
    },
    {
      "cell_type": "markdown",
      "id": "8b8e9182",
      "metadata": {
        "id": "8b8e9182"
      },
      "source": [
        "Arithmetic operators (+,-,/,*,**) <br>\n",
        "Assignment operators (=)<br>\n",
        "Comparison operators (==,>,<,>=)<br>\n"
      ]
    },
    {
      "cell_type": "code",
      "execution_count": null,
      "id": "f9bb165d",
      "metadata": {
        "id": "f9bb165d",
        "outputId": "eeba97d5-477d-47f3-db31-126c0d61fe75"
      },
      "outputs": [
        {
          "data": {
            "text/plain": [
              "30"
            ]
          },
          "execution_count": 26,
          "metadata": {},
          "output_type": "execute_result"
        }
      ],
      "source": [
        "10+20"
      ]
    },
    {
      "cell_type": "code",
      "execution_count": null,
      "id": "c4f6da5e",
      "metadata": {
        "id": "c4f6da5e",
        "outputId": "a9fb6a90-901f-4381-accd-0645f9155f34"
      },
      "outputs": [
        {
          "data": {
            "text/plain": [
              "9"
            ]
          },
          "execution_count": 27,
          "metadata": {},
          "output_type": "execute_result"
        }
      ],
      "source": [
        "20-11"
      ]
    },
    {
      "cell_type": "code",
      "execution_count": null,
      "id": "977ddd0c",
      "metadata": {
        "id": "977ddd0c",
        "outputId": "7294ce2c-0b7f-4e39-e6b3-e24c96793705"
      },
      "outputs": [
        {
          "data": {
            "text/plain": [
              "True"
            ]
          },
          "execution_count": 29,
          "metadata": {},
          "output_type": "execute_result"
        }
      ],
      "source": [
        "10==10"
      ]
    },
    {
      "cell_type": "code",
      "execution_count": null,
      "id": "0011cd8b",
      "metadata": {
        "id": "0011cd8b"
      },
      "outputs": [],
      "source": [
        "a=10"
      ]
    },
    {
      "cell_type": "markdown",
      "source": [
        "**LIST**"
      ],
      "metadata": {
        "id": "jqA-LRw1vxLu"
      },
      "id": "jqA-LRw1vxLu"
    },
    {
      "cell_type": "code",
      "source": [],
      "metadata": {
        "id": "J7fg69PKwNp-"
      },
      "id": "J7fg69PKwNp-",
      "execution_count": null,
      "outputs": []
    },
    {
      "cell_type": "markdown",
      "source": [
        "Lists are used to store multiple items in a single variable."
      ],
      "metadata": {
        "id": "U6i3XQYEv185"
      },
      "id": "U6i3XQYEv185"
    },
    {
      "cell_type": "code",
      "source": [
        "game=[\"chess\",\"football\",\"basketball\"]\n",
        "print(game)\n",
        "print(type(game))"
      ],
      "metadata": {
        "id": "--xAzm-HtkuQ",
        "outputId": "3a143757-fc39-42cf-89fd-58c56219f048",
        "colab": {
          "base_uri": "https://localhost:8080/"
        }
      },
      "id": "--xAzm-HtkuQ",
      "execution_count": 1,
      "outputs": [
        {
          "output_type": "stream",
          "name": "stdout",
          "text": [
            "['chess', 'football', 'basketball']\n",
            "<class 'list'>\n"
          ]
        }
      ]
    },
    {
      "cell_type": "markdown",
      "source": [
        "List items are ordered, changeable, and allow duplicate values."
      ],
      "metadata": {
        "id": "t2_LLSS9v_JI"
      },
      "id": "t2_LLSS9v_JI"
    },
    {
      "cell_type": "code",
      "source": [
        "#finding the length of lis\n",
        "thislist = [\"apple\", \"banana\", \"cherry\"]\n",
        "print(len(thislist))"
      ],
      "metadata": {
        "id": "RzlmDfLkwJAf",
        "outputId": "932d516b-b111-43cf-c730-639a6ea4da4b",
        "colab": {
          "base_uri": "https://localhost:8080/"
        }
      },
      "id": "RzlmDfLkwJAf",
      "execution_count": 3,
      "outputs": [
        {
          "output_type": "stream",
          "name": "stdout",
          "text": [
            "3\n"
          ]
        }
      ]
    },
    {
      "cell_type": "code",
      "source": [
        "#Accessing the list item\n",
        "print(game[1])\n",
        "print(game[-1]) #negative indexing\n",
        "print(game[0:2]) #range from 1st item to 2nd\n"
      ],
      "metadata": {
        "id": "hSD7p7GRwPHm",
        "outputId": "5224594e-c536-4727-8373-0291d96a04f9",
        "colab": {
          "base_uri": "https://localhost:8080/"
        }
      },
      "id": "hSD7p7GRwPHm",
      "execution_count": 6,
      "outputs": [
        {
          "output_type": "stream",
          "name": "stdout",
          "text": [
            "football\n",
            "basketball\n",
            "['chess', 'football']\n"
          ]
        }
      ]
    },
    {
      "cell_type": "code",
      "source": [
        "\n",
        "game[1]=\"american football\" #changing list item\n",
        "print(game)"
      ],
      "metadata": {
        "id": "LbdDwX4Ow1rv",
        "outputId": "3b588c05-e631-47ed-bce9-344c239c7cb0",
        "colab": {
          "base_uri": "https://localhost:8080/"
        }
      },
      "id": "LbdDwX4Ow1rv",
      "execution_count": 9,
      "outputs": [
        {
          "output_type": "stream",
          "name": "stdout",
          "text": [
            "['chess', 'american football', 'basketball']\n"
          ]
        }
      ]
    },
    {
      "cell_type": "code",
      "source": [
        "game.append(\"Cards\") #adding new item, append adds the item to the end of the list\n",
        "print(game)"
      ],
      "metadata": {
        "id": "O-pksAMDxIpm",
        "outputId": "f194be5d-b91c-4c84-b145-4bd6fb6a859b",
        "colab": {
          "base_uri": "https://localhost:8080/"
        }
      },
      "id": "O-pksAMDxIpm",
      "execution_count": 11,
      "outputs": [
        {
          "output_type": "stream",
          "name": "stdout",
          "text": [
            "['chess', 'american football', 'basketball', 'Cards', 'Cards']\n"
          ]
        }
      ]
    },
    {
      "cell_type": "code",
      "source": [
        "#inserting item in specific position\n",
        "game.insert(2,\"Pubg\")\n",
        "print(game)"
      ],
      "metadata": {
        "id": "sDQ8p7rtxadX",
        "outputId": "1569c894-b700-4b2e-e596-8e24b4ba197d",
        "colab": {
          "base_uri": "https://localhost:8080/"
        }
      },
      "id": "sDQ8p7rtxadX",
      "execution_count": 12,
      "outputs": [
        {
          "output_type": "stream",
          "name": "stdout",
          "text": [
            "['chess', 'american football', 'Pubg', 'basketball', 'Cards', 'Cards']\n"
          ]
        }
      ]
    },
    {
      "cell_type": "code",
      "source": [
        "#removing list item\n",
        "\n",
        "game.remove(\"Cards\")\n",
        "print(game)"
      ],
      "metadata": {
        "id": "tI6T558yxtD3",
        "outputId": "9a615cf8-1f41-4279-8359-773c0f4be122",
        "colab": {
          "base_uri": "https://localhost:8080/"
        }
      },
      "id": "tI6T558yxtD3",
      "execution_count": 14,
      "outputs": [
        {
          "output_type": "stream",
          "name": "stdout",
          "text": [
            "['chess', 'american football', 'Pubg', 'basketball', 'Cards']\n"
          ]
        }
      ]
    },
    {
      "cell_type": "markdown",
      "source": [
        "**Tuple**"
      ],
      "metadata": {
        "id": "ackmFLOoyC2A"
      },
      "id": "ackmFLOoyC2A"
    },
    {
      "cell_type": "markdown",
      "source": [
        "Tuples are used to store multiple items in a single variable."
      ],
      "metadata": {
        "id": "lMFlgxXhyHiu"
      },
      "id": "lMFlgxXhyHiu"
    },
    {
      "cell_type": "code",
      "source": [
        "city = (\"ktm\",\"bhaktapur\",\"lalitpur\",\"jhapa\",\"ilam\")\n",
        "print(city)"
      ],
      "metadata": {
        "id": "3V8Qy4BsyGxl",
        "outputId": "01ff3c17-1f89-41ff-b409-8f803e9fb929",
        "colab": {
          "base_uri": "https://localhost:8080/"
        }
      },
      "id": "3V8Qy4BsyGxl",
      "execution_count": 15,
      "outputs": [
        {
          "output_type": "stream",
          "name": "stdout",
          "text": [
            "('ktm', 'bhaktapur', 'lalitpur', 'jhapa', 'ilam')\n"
          ]
        }
      ]
    },
    {
      "cell_type": "markdown",
      "source": [
        "Tuple items are ordered, unchangeable, and allow duplicate values."
      ],
      "metadata": {
        "id": "8H-tG8Yiyeen"
      },
      "id": "8H-tG8Yiyeen"
    },
    {
      "cell_type": "markdown",
      "source": [
        "**Update Tuples**"
      ],
      "metadata": {
        "id": "oQqSXyqhymtA"
      },
      "id": "oQqSXyqhymtA"
    },
    {
      "cell_type": "markdown",
      "source": [
        "Tuples are unchangeable, meaning that you cannot change, add, or remove items once the tuple is created.\n",
        "\n",
        "But there are some workarounds."
      ],
      "metadata": {
        "id": "ciFPgMqryti-"
      },
      "id": "ciFPgMqryti-"
    },
    {
      "cell_type": "markdown",
      "source": [
        "\n",
        "You can convert the tuple into a list, change the list, and convert the list back into a tuple.\n",
        "\n",
        "\n"
      ],
      "metadata": {
        "id": "lgVhlsZqy2Q9"
      },
      "id": "lgVhlsZqy2Q9"
    },
    {
      "cell_type": "code",
      "source": [
        "new_city=list(city)\n",
        "new_city.append(\"Chitwan\")\n",
        "print(new_city)"
      ],
      "metadata": {
        "id": "HIEvzFo_y1JN",
        "outputId": "80ccc1cf-3443-4c79-c5f4-d29295e1564a",
        "colab": {
          "base_uri": "https://localhost:8080/"
        }
      },
      "id": "HIEvzFo_y1JN",
      "execution_count": 18,
      "outputs": [
        {
          "output_type": "stream",
          "name": "stdout",
          "text": [
            "['ktm', 'bhaktapur', 'lalitpur', 'jhapa', 'ilam', 'Chitwan']\n"
          ]
        }
      ]
    },
    {
      "cell_type": "markdown",
      "source": [
        "**Sets**"
      ],
      "metadata": {
        "id": "2HHesVFxzS8W"
      },
      "id": "2HHesVFxzS8W"
    },
    {
      "cell_type": "markdown",
      "source": [
        "A set is a collection which is unordered, unchangeable*, and unindexed."
      ],
      "metadata": {
        "id": "jozIQPKSzVPe"
      },
      "id": "jozIQPKSzVPe"
    },
    {
      "cell_type": "code",
      "source": [
        "city={\"Kathmandu\",\"Pokhara\",\"Lalitpur\",\"Dang\"}\n",
        "print(type(city))\n",
        "print(len(city))\n",
        "city.add(\"Jhapa\") #Once a set is created, you cannot change its items, but you can add new items.\n",
        "print(city)"
      ],
      "metadata": {
        "id": "zJcjSJkpzu3f",
        "outputId": "d7fd8ce6-a27b-480a-d8a0-85b14c916a3f",
        "colab": {
          "base_uri": "https://localhost:8080/"
        }
      },
      "id": "zJcjSJkpzu3f",
      "execution_count": 20,
      "outputs": [
        {
          "output_type": "stream",
          "name": "stdout",
          "text": [
            "<class 'set'>\n",
            "4\n",
            "{'Lalitpur', 'Jhapa', 'Pokhara', 'Kathmandu', 'Dang'}\n"
          ]
        }
      ]
    },
    {
      "cell_type": "code",
      "source": [
        "city.remove(\"Dang\") #we can remove the item using the remove method\n",
        "print(city)"
      ],
      "metadata": {
        "id": "Zxqp46vD0MOF",
        "outputId": "84cedef4-f5e6-4c56-cd72-0a0413fc015e",
        "colab": {
          "base_uri": "https://localhost:8080/"
        }
      },
      "id": "Zxqp46vD0MOF",
      "execution_count": 23,
      "outputs": [
        {
          "output_type": "stream",
          "name": "stdout",
          "text": [
            "{'Lalitpur', 'Pokhara', 'Kathmandu'}\n"
          ]
        }
      ]
    },
    {
      "cell_type": "markdown",
      "source": [
        "**Dictionaries**"
      ],
      "metadata": {
        "id": "A5rPdSOu0ome"
      },
      "id": "A5rPdSOu0ome"
    },
    {
      "cell_type": "markdown",
      "source": [
        "Dictionaries are used to store data values in key:value pairs.\n",
        "\n",
        "A dictionary is a collection which is ordered*, changeable and do not allow duplicates."
      ],
      "metadata": {
        "id": "3M_nQjft0wQd"
      },
      "id": "3M_nQjft0wQd"
    },
    {
      "cell_type": "code",
      "source": [
        "thisdict = {\n",
        "  \"brand\": \"Ford\",\n",
        "  \"model\": \"Mustang\",\n",
        "  \"year\": 1964\n",
        "}\n",
        "print(thisdict)\n"
      ],
      "metadata": {
        "id": "isD9eq9r0sC9",
        "outputId": "878cb029-53ee-4321-8287-8778123054fc",
        "colab": {
          "base_uri": "https://localhost:8080/"
        }
      },
      "id": "isD9eq9r0sC9",
      "execution_count": 24,
      "outputs": [
        {
          "output_type": "stream",
          "name": "stdout",
          "text": [
            "{'brand': 'Ford', 'model': 'Mustang', 'year': 1964}\n"
          ]
        }
      ]
    },
    {
      "cell_type": "markdown",
      "source": [
        "**Duplicates Not Allowed in Dictionaries**"
      ],
      "metadata": {
        "id": "cn3SWQFS09Hf"
      },
      "id": "cn3SWQFS09Hf"
    },
    {
      "cell_type": "code",
      "source": [
        "thisdict = {\n",
        "  \"brand\": \"Ford\",\n",
        "  \"model\": \"Mustang\",\n",
        "  \"year\": 1964,\n",
        "  \"year\": 2020\n",
        "}\n",
        "print(thisdict)\n",
        "\n",
        "#Duplicate values will overwrite existing values:"
      ],
      "metadata": {
        "id": "Yjee04cX1Df2",
        "outputId": "4ea7138f-da8c-4b00-f50d-8d164e31a2b4",
        "colab": {
          "base_uri": "https://localhost:8080/"
        }
      },
      "id": "Yjee04cX1Df2",
      "execution_count": 26,
      "outputs": [
        {
          "output_type": "stream",
          "name": "stdout",
          "text": [
            "{'brand': 'Ford', 'model': 'Mustang', 'year': 2020}\n"
          ]
        }
      ]
    },
    {
      "cell_type": "code",
      "source": [
        "#changing values in dictionaries\n",
        "thisdict = {\n",
        "  \"brand\": \"Ford\",\n",
        "  \"model\": \"Mustang\",\n",
        "  \"year\": 1964\n",
        "}\n",
        "thisdict[\"year\"] = 2018\n",
        "\n",
        "print(thisdict)"
      ],
      "metadata": {
        "id": "t5cHihUm1QFO",
        "outputId": "de654e44-7beb-406c-8c19-63f36ba5126c",
        "colab": {
          "base_uri": "https://localhost:8080/"
        }
      },
      "id": "t5cHihUm1QFO",
      "execution_count": 30,
      "outputs": [
        {
          "output_type": "stream",
          "name": "stdout",
          "text": [
            "{'brand': 'Ford', 'model': 'Mustang', 'year': 2018}\n"
          ]
        }
      ]
    },
    {
      "cell_type": "code",
      "source": [
        "#adding item in dictionaries\n",
        "thisdict = {\n",
        "  \"brand\": \"Ford\",\n",
        "  \"model\": \"Mustang\",\n",
        "  \"year\": 1964\n",
        "}\n",
        "thisdict[\"color\"] = \"red\"\n",
        "print(thisdict)"
      ],
      "metadata": {
        "id": "wkGTEPX91eBW",
        "outputId": "48652711-1540-4629-8f9e-521a583c99d4",
        "colab": {
          "base_uri": "https://localhost:8080/"
        }
      },
      "id": "wkGTEPX91eBW",
      "execution_count": 32,
      "outputs": [
        {
          "output_type": "stream",
          "name": "stdout",
          "text": [
            "{'brand': 'Ford', 'model': 'Mustang', 'year': 1964, 'color': 'red'}\n"
          ]
        }
      ]
    },
    {
      "cell_type": "code",
      "source": [
        "#The pop() method removes the item with the specified key name\n",
        "thisdict = {\n",
        "  \"brand\": \"Ford\",\n",
        "  \"model\": \"Mustang\",\n",
        "  \"year\": 1964\n",
        "}\n",
        "thisdict[\"color\"] = \"red\"\n",
        "print(thisdict)"
      ],
      "metadata": {
        "id": "WuzvkZQ91l5u",
        "outputId": "9db3e8f4-e039-45b3-fe52-04e0bc438c45",
        "colab": {
          "base_uri": "https://localhost:8080/"
        }
      },
      "id": "WuzvkZQ91l5u",
      "execution_count": 33,
      "outputs": [
        {
          "output_type": "stream",
          "name": "stdout",
          "text": [
            "{'brand': 'Ford', 'model': 'Mustang', 'year': 1964, 'color': 'red'}\n"
          ]
        }
      ]
    },
    {
      "cell_type": "code",
      "execution_count": 27,
      "id": "21ec557e",
      "metadata": {
        "id": "21ec557e",
        "outputId": "75b071d3-fcd0-4249-a3c7-7329f65b07a6",
        "colab": {
          "base_uri": "https://localhost:8080/"
        }
      },
      "outputs": [
        {
          "output_type": "execute_result",
          "data": {
            "text/plain": [
              "True"
            ]
          },
          "metadata": {},
          "execution_count": 27
        }
      ],
      "source": [
        "10>=10\n"
      ]
    },
    {
      "cell_type": "markdown",
      "id": "0c3cc4e4",
      "metadata": {
        "id": "0c3cc4e4"
      },
      "source": [
        "# If..Else"
      ]
    },
    {
      "cell_type": "markdown",
      "id": "d600b1a1",
      "metadata": {
        "id": "d600b1a1"
      },
      "source": [
        "\n",
        "The if statement in Python is used for decision-making. It allows you to execute certain blocks of code based on whether a condition is true or false."
      ]
    },
    {
      "cell_type": "markdown",
      "id": "2babe4f7",
      "metadata": {
        "id": "2babe4f7"
      },
      "source": [
        "if condition: <br>\n",
        "    # block of code to execute if condition is true\n"
      ]
    },
    {
      "cell_type": "code",
      "execution_count": null,
      "id": "a33536f0",
      "metadata": {
        "id": "a33536f0",
        "outputId": "e3b620a0-b780-41eb-d397-7792e1d6bd92"
      },
      "outputs": [
        {
          "name": "stdout",
          "output_type": "stream",
          "text": [
            "True\n"
          ]
        }
      ],
      "source": [
        "if 10>5:\n",
        "    print(\"True\")"
      ]
    },
    {
      "cell_type": "code",
      "execution_count": null,
      "id": "14d2f1ce",
      "metadata": {
        "id": "14d2f1ce",
        "outputId": "bd2829c6-3b29-4b79-8620-308b3ef3c52f"
      },
      "outputs": [
        {
          "name": "stdout",
          "output_type": "stream",
          "text": [
            "a is exactly divisible by 3\n"
          ]
        }
      ],
      "source": [
        "a=12\n",
        "if a%3==0:\n",
        "    print(\"a is exactly divisible by 3\")"
      ]
    },
    {
      "cell_type": "markdown",
      "id": "4f6e2321",
      "metadata": {
        "id": "4f6e2321"
      },
      "source": [
        "Else"
      ]
    },
    {
      "cell_type": "code",
      "execution_count": null,
      "id": "696fbf1d",
      "metadata": {
        "id": "696fbf1d",
        "outputId": "8bbbe36a-afdc-4641-d96f-1b3e46bbbffd"
      },
      "outputs": [
        {
          "name": "stdout",
          "output_type": "stream",
          "text": [
            "Enter a day: sunday\n",
            "oops! Its working day\n"
          ]
        }
      ],
      "source": [
        "today=input(\"Enter a day: \")\n",
        "if today==\"saturday\":\n",
        "    print(\"Bravo its holiday\")\n",
        "else:\n",
        "    print(\"oops! Its working day\")"
      ]
    },
    {
      "cell_type": "markdown",
      "id": "807acfd5",
      "metadata": {
        "id": "807acfd5"
      },
      "source": [
        "el_if"
      ]
    },
    {
      "cell_type": "code",
      "execution_count": null,
      "id": "24878460",
      "metadata": {
        "id": "24878460",
        "outputId": "1df2a655-2a19-483d-d32d-f99116b62735"
      },
      "outputs": [
        {
          "name": "stdout",
          "output_type": "stream",
          "text": [
            "a is greater than b\n"
          ]
        }
      ],
      "source": [
        "a = 200\n",
        "b = 33\n",
        "if b > a:\n",
        "  print(\"b is greater than a\")\n",
        "elif a == b:\n",
        "  print(\"a and b are equal\")\n",
        "else:\n",
        "  print(\"a is greater than b\")"
      ]
    },
    {
      "cell_type": "markdown",
      "id": "2c8b1de2",
      "metadata": {
        "id": "2c8b1de2"
      },
      "source": [
        "# While loop"
      ]
    },
    {
      "cell_type": "code",
      "execution_count": null,
      "id": "83ede6c2",
      "metadata": {
        "id": "83ede6c2",
        "outputId": "a12f0fb2-5e27-4c5e-d201-efafee6b9a38"
      },
      "outputs": [
        {
          "name": "stdout",
          "output_type": "stream",
          "text": [
            "1\n",
            "2\n",
            "3\n",
            "4\n",
            "5\n"
          ]
        }
      ],
      "source": [
        "i = 1 #the inital value of i=1\n",
        "while i < 6: #we check the condition if i which is 1 is smaller than 6 or not.\n",
        "  print(i) #the value of is printed\n",
        "  i += 1 #the value of i is increased by 1\n",
        "#this program will run untill and unless the value of i is smaller than 6"
      ]
    },
    {
      "cell_type": "code",
      "execution_count": null,
      "id": "f27fd89c",
      "metadata": {
        "id": "f27fd89c",
        "outputId": "bb0011f1-0b61-4406-c3a7-3132942a4e4f"
      },
      "outputs": [
        {
          "name": "stdout",
          "output_type": "stream",
          "text": [
            "1\n",
            "2\n",
            "3\n",
            "4\n",
            "5\n",
            "i is no longer less than 6\n"
          ]
        }
      ],
      "source": [
        "#while_else\n",
        "i = 1\n",
        "while i < 6:\n",
        "  print(i)\n",
        "  i += 1\n",
        "else:\n",
        "  print(\"i is no longer less than 6\")"
      ]
    },
    {
      "cell_type": "markdown",
      "id": "c8864cc2",
      "metadata": {
        "id": "c8864cc2"
      },
      "source": [
        "# For Loop"
      ]
    },
    {
      "cell_type": "markdown",
      "id": "6029b6b8",
      "metadata": {
        "id": "6029b6b8"
      },
      "source": [
        "A for loop in Python is used to iterate over a sequence (such as a list, tuple, string, or range) and execute a block of code for each item in the sequence. It's a powerful tool for automating repetitive tasks and iterating over data structures."
      ]
    },
    {
      "cell_type": "markdown",
      "id": "c7dcf165",
      "metadata": {
        "id": "c7dcf165"
      },
      "source": [
        "Example 1: Iterating Over a List"
      ]
    },
    {
      "cell_type": "code",
      "execution_count": null,
      "id": "9059080b",
      "metadata": {
        "id": "9059080b",
        "outputId": "b8977ea8-5fb3-4596-87ed-50cd7b77360a"
      },
      "outputs": [
        {
          "name": "stdout",
          "output_type": "stream",
          "text": [
            "apple\n",
            "banana\n",
            "cherry\n"
          ]
        }
      ],
      "source": [
        "fruits = [\"apple\", \"banana\", \"cherry\"]\n",
        "\n",
        "for fruit in fruits:\n",
        "    print(fruit)\n"
      ]
    },
    {
      "cell_type": "markdown",
      "id": "8006b9f3",
      "metadata": {
        "id": "8006b9f3"
      },
      "source": [
        "# Example 2: Iterating Over a String"
      ]
    },
    {
      "cell_type": "code",
      "execution_count": null,
      "id": "0b69ff22",
      "metadata": {
        "id": "0b69ff22",
        "outputId": "fab2776e-c25b-490c-b188-a0a4405a9df2"
      },
      "outputs": [
        {
          "name": "stdout",
          "output_type": "stream",
          "text": [
            "P\n",
            "y\n",
            "t\n",
            "h\n",
            "o\n",
            "n\n"
          ]
        }
      ],
      "source": [
        "word = \"Python\"\n",
        "\n",
        "for letter in word:\n",
        "    print(letter)\n"
      ]
    },
    {
      "cell_type": "markdown",
      "id": "6e953dbc",
      "metadata": {
        "id": "6e953dbc"
      },
      "source": [
        "Example 3: Using the range() Function"
      ]
    },
    {
      "cell_type": "code",
      "execution_count": null,
      "id": "6d039576",
      "metadata": {
        "id": "6d039576",
        "outputId": "12bab320-488c-45d1-ee68-7082596edd40"
      },
      "outputs": [
        {
          "name": "stdout",
          "output_type": "stream",
          "text": [
            "0\n",
            "1\n",
            "2\n",
            "3\n",
            "4\n"
          ]
        }
      ],
      "source": [
        "for i in range(5):\n",
        "    print(i)\n"
      ]
    },
    {
      "cell_type": "code",
      "execution_count": null,
      "id": "149e6a94",
      "metadata": {
        "id": "149e6a94",
        "outputId": "b9eb2186-5072-4737-f209-f8367bbff764"
      },
      "outputs": [
        {
          "name": "stdout",
          "output_type": "stream",
          "text": [
            "2\n",
            "3\n",
            "4\n",
            "5\n",
            "6\n",
            "7\n",
            "8\n",
            "9\n"
          ]
        }
      ],
      "source": [
        "for i in range(2,10): #starts from 2\n",
        "    print(i)"
      ]
    },
    {
      "cell_type": "code",
      "execution_count": null,
      "id": "452b87df",
      "metadata": {
        "id": "452b87df",
        "outputId": "7203303a-59fa-4681-d3c3-baf30067dba8"
      },
      "outputs": [
        {
          "name": "stdout",
          "output_type": "stream",
          "text": [
            "2\n",
            "5\n",
            "8\n"
          ]
        }
      ],
      "source": [
        "for i in range(2,10,3): #jumps with step of 3\n",
        "    print(i)"
      ]
    },
    {
      "cell_type": "markdown",
      "id": "405ed441",
      "metadata": {
        "id": "405ed441"
      },
      "source": [
        "# Function"
      ]
    },
    {
      "cell_type": "markdown",
      "id": "64443572",
      "metadata": {
        "id": "64443572"
      },
      "source": [
        "function is a reusable block of code that performs a specific task. Functions help organize code into logical, manageable chunks, making it easier to read, debug, and maintain. They can take inputs, called parameters, and return outputs."
      ]
    },
    {
      "cell_type": "markdown",
      "id": "c3d8b09b",
      "metadata": {
        "id": "c3d8b09b"
      },
      "source": [
        "Defining a function"
      ]
    },
    {
      "cell_type": "code",
      "execution_count": null,
      "id": "106a303a",
      "metadata": {
        "id": "106a303a",
        "outputId": "d96b88fa-4413-4c12-ae07-cabe47f04ec7"
      },
      "outputs": [
        {
          "name": "stdout",
          "output_type": "stream",
          "text": [
            "Hello, World!\n"
          ]
        }
      ],
      "source": [
        "def greet(): #def is used to define the function and greet is the name of function\n",
        "    print(\"Hello, World!\")\n",
        "\n",
        "greet()  # Calling the function\n"
      ]
    },
    {
      "cell_type": "code",
      "execution_count": null,
      "id": "ec2e04ed",
      "metadata": {
        "id": "ec2e04ed"
      },
      "outputs": [],
      "source": [
        "#The above function named greet do print the hello world whenever it is called"
      ]
    },
    {
      "cell_type": "markdown",
      "id": "7bce17aa",
      "metadata": {
        "id": "7bce17aa"
      },
      "source": [
        "# Example 2: Function with Parameters"
      ]
    },
    {
      "cell_type": "code",
      "execution_count": null,
      "id": "89381e6b",
      "metadata": {
        "id": "89381e6b",
        "outputId": "ca32084a-d123-4aa8-b356-994c2ab0ee00"
      },
      "outputs": [
        {
          "name": "stdout",
          "output_type": "stream",
          "text": [
            "Hello, Ram!\n",
            "Hello, Sita!\n"
          ]
        }
      ],
      "source": [
        "def greet(name):\n",
        "    print(f\"Hello, {name}!\")\n",
        "\n",
        "greet(\"Ram\")  # Output: Hello, Alice!\n",
        "greet(\"Sita\")    # Output: Hello, Bob!\n"
      ]
    },
    {
      "cell_type": "markdown",
      "id": "b2966fd0",
      "metadata": {
        "id": "b2966fd0"
      },
      "source": [
        "In this example, the greet function takes one parameter, name, and uses it to personalize the greeting."
      ]
    },
    {
      "cell_type": "markdown",
      "id": "685d6876",
      "metadata": {
        "id": "685d6876"
      },
      "source": [
        "# Example 3: Function with Return Value"
      ]
    },
    {
      "cell_type": "code",
      "execution_count": null,
      "id": "e585a595",
      "metadata": {
        "id": "e585a595",
        "outputId": "fa7e66d2-5e91-40c6-b567-30dcad48d753"
      },
      "outputs": [
        {
          "name": "stdout",
          "output_type": "stream",
          "text": [
            "8\n"
          ]
        }
      ],
      "source": [
        "def add(a, b):\n",
        "    return a + b\n",
        "\n",
        "result = add(5, 3)\n",
        "print(result)  # Output: 8\n"
      ]
    },
    {
      "cell_type": "markdown",
      "id": "f703090b",
      "metadata": {
        "id": "f703090b"
      },
      "source": [
        "The add function takes two parameters, a and b, and returns their sum. The returned value is stored in the variable result."
      ]
    },
    {
      "cell_type": "markdown",
      "id": "370dc920",
      "metadata": {
        "id": "370dc920"
      },
      "source": [
        "# Example 4: Function with Default Parameters"
      ]
    },
    {
      "cell_type": "code",
      "execution_count": null,
      "id": "d357e0a4",
      "metadata": {
        "id": "d357e0a4",
        "outputId": "a693c294-c379-4cc1-f0a3-4829bbf1c534"
      },
      "outputs": [
        {
          "name": "stdout",
          "output_type": "stream",
          "text": [
            "Hello, Guest!\n",
            "Hello, Alice!\n"
          ]
        }
      ],
      "source": [
        "def greet(name=\"Guest\"):\n",
        "    print(f\"Hello, {name}!\")\n",
        "\n",
        "greet()         # Output: Hello, Guest!\n",
        "greet(\"Alice\")  # Output: Hello, Alice!\n"
      ]
    },
    {
      "cell_type": "markdown",
      "id": "dc367b64",
      "metadata": {
        "id": "dc367b64"
      },
      "source": [
        "The greet function here has a default parameter value of \"Guest\". If no argument is passed when the function is called, it uses the default value."
      ]
    },
    {
      "cell_type": "markdown",
      "id": "0c7b6e86",
      "metadata": {
        "id": "0c7b6e86"
      },
      "source": [
        "# TASK"
      ]
    },
    {
      "cell_type": "markdown",
      "id": "e6f58940",
      "metadata": {
        "id": "e6f58940"
      },
      "source": [
        "Question 1: Write a Python program that checks if a number is exactly divisble by 5 or not."
      ]
    },
    {
      "cell_type": "markdown",
      "id": "37c9d7d3",
      "metadata": {
        "id": "37c9d7d3"
      },
      "source": [
        "Question 2: Write a Python program that uses a for loop to iterate over a list of numbers and prints each number squared."
      ]
    },
    {
      "cell_type": "markdown",
      "id": "974e17bb",
      "metadata": {
        "id": "974e17bb"
      },
      "source": [
        "Question 3: Write a program, which creates a function named grade which has default grade as A and call the function with other parameters"
      ]
    }
  ],
  "metadata": {
    "kernelspec": {
      "display_name": "Python 3 (ipykernel)",
      "language": "python",
      "name": "python3"
    },
    "language_info": {
      "codemirror_mode": {
        "name": "ipython",
        "version": 3
      },
      "file_extension": ".py",
      "mimetype": "text/x-python",
      "name": "python",
      "nbconvert_exporter": "python",
      "pygments_lexer": "ipython3",
      "version": "3.11.5"
    },
    "colab": {
      "provenance": [],
      "toc_visible": true,
      "include_colab_link": true
    }
  },
  "nbformat": 4,
  "nbformat_minor": 5
}